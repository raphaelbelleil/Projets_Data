{
 "cells": [
  {
   "cell_type": "code",
   "execution_count": 2,
   "id": "e9dcba38",
   "metadata": {},
   "outputs": [],
   "source": [
    "import numpy as np\n",
    "import pandas as pd\n",
    "import matplotlib.pyplot as plt\n",
    "import seaborn as sns\n",
    "import datetime as dt"
   ]
  },
  {
   "cell_type": "code",
   "execution_count": 3,
   "id": "fb0c3a17",
   "metadata": {},
   "outputs": [],
   "source": [
    "folder = 'D:/Data_Analyst_Projet/Projet 8/Donnée debut projet/DAN-P8-donnees/donnees_python/'\n",
    "folder_export = 'D:/Data_Analyst_Projet/Projet 8/Tableau/Fichiers csv nettoyes/'\n",
    "folder_export_excel = 'D:/Data_Analyst_Projet/Projet 8/Donnée debut projet/DAN-P8-donnees\\excel/'"
   ]
  },
  {
   "cell_type": "code",
   "execution_count": 4,
   "id": "aad2bf78",
   "metadata": {},
   "outputs": [],
   "source": [
    "# affichage des nombres et décimales\n",
    "pd.options.display.float_format = '{:,.2f}'.format\n",
    "pd.set_option('display.max_row', 200)\n",
    "sns.set_theme(style=\"white\", palette='YlOrRd')"
   ]
  },
  {
   "cell_type": "markdown",
   "id": "7e7c83d8",
   "metadata": {},
   "source": [
    "## Import des fichiers"
   ]
  },
  {
   "cell_type": "code",
   "execution_count": 5,
   "id": "6b4b97e2",
   "metadata": {},
   "outputs": [],
   "source": [
    "population=pd.read_csv(folder+'Population.csv')\n",
    "continent=pd.read_csv(folder+'RegionCountry.csv')\n",
    "political_stability=pd.read_csv(folder+'PoliticalStability.csv')\n",
    "mortality_water=pd.read_csv(folder+'MortalityRateAttributedToWater.csv')\n",
    "water_service=pd.read_csv(folder+'BasicAndSafelyManagedDrinkingWaterServices.csv')"
   ]
  },
  {
   "cell_type": "markdown",
   "id": "68eb70a5",
   "metadata": {},
   "source": [
    "## Population"
   ]
  },
  {
   "cell_type": "code",
   "execution_count": 6,
   "id": "436cc36b",
   "metadata": {},
   "outputs": [],
   "source": [
    "# on enlève les lignes China car cela correspond au total des autres chine (continental, taiwan, HK...)\n",
    "population.drop(population[population['Country']=='China'].index, inplace=True)"
   ]
  },
  {
   "cell_type": "code",
   "execution_count": null,
   "id": "a827d59c",
   "metadata": {},
   "outputs": [],
   "source": [
    "population.loc[continent['Country']=='China, mainland', 'Country'] = 'China'"
   ]
  },
  {
   "cell_type": "code",
   "execution_count": 7,
   "id": "04bec9ed",
   "metadata": {},
   "outputs": [],
   "source": [
    "# population multipliée par 1000, on a la vraie population\n",
    "population['Population'] = (population['Population']*1000).astype('int64')"
   ]
  },
  {
   "cell_type": "markdown",
   "id": "85042f6d",
   "metadata": {},
   "source": [
    "#### Division population en 3 fichiers : Total, Genre et Zone"
   ]
  },
  {
   "cell_type": "code",
   "execution_count": 8,
   "id": "b98ea307",
   "metadata": {},
   "outputs": [],
   "source": [
    "# création df population totale pays par année\n",
    "population_total_pays = population[population['Granularity']=='Total'].drop(columns='Granularity').reset_index(drop=True)"
   ]
  },
  {
   "cell_type": "code",
   "execution_count": 9,
   "id": "73e29d51",
   "metadata": {},
   "outputs": [],
   "source": [
    "# création df population pays par genre par année\n",
    "population_genre = population[(population['Granularity']=='Male')|(population['Granularity']=='Female')].reset_index(drop=True)\n",
    "\n",
    "# Renommage Granularity\n",
    "population_genre.rename(columns={'Granularity' : 'Genre'}, inplace=True)"
   ]
  },
  {
   "cell_type": "code",
   "execution_count": 10,
   "id": "46db41f3",
   "metadata": {},
   "outputs": [],
   "source": [
    "# création df population pays par zone par année\n",
    "population_zone = population[(population['Granularity']=='Rural')|(population['Granularity']=='Urban')].reset_index(drop=True)\n",
    "\n",
    "# Renommage Granularity\n",
    "population_zone.rename(columns={'Granularity' : 'Zone'}, inplace=True)"
   ]
  },
  {
   "cell_type": "markdown",
   "id": "6fbbc463",
   "metadata": {},
   "source": [
    "## Continent"
   ]
  },
  {
   "cell_type": "code",
   "execution_count": 11,
   "id": "561a647a",
   "metadata": {},
   "outputs": [],
   "source": [
    "# renommage des colonnes\n",
    "continent.rename(columns={'COUNTRY (DISPLAY)':'Country', 'REGION (DISPLAY)':'Continent'}, inplace=True)"
   ]
  },
  {
   "cell_type": "code",
   "execution_count": 12,
   "id": "a7a97f49",
   "metadata": {},
   "outputs": [],
   "source": [
    "# remplacement 'China' par 'China, mainland'\n",
    "#continent.loc[continent['Country']=='China', 'Country'] = 'China, mainland'"
   ]
  },
  {
   "cell_type": "code",
   "execution_count": 13,
   "id": "d30b3284",
   "metadata": {},
   "outputs": [],
   "source": [
    "# remplacement 'Republic of North Macedonia' par 'North Macedonia'\n",
    "continent.loc[continent['Country']=='Republic of North Macedonia', 'Country'] = 'North Macedonia'"
   ]
  },
  {
   "cell_type": "markdown",
   "id": "82949081",
   "metadata": {},
   "source": [
    "## Political Stability"
   ]
  },
  {
   "cell_type": "code",
   "execution_count": 14,
   "id": "a86006f0",
   "metadata": {},
   "outputs": [],
   "source": [
    "political_stability.drop(columns='Granularity', inplace=True)"
   ]
  },
  {
   "cell_type": "code",
   "execution_count": 36,
   "id": "8446e8e4",
   "metadata": {},
   "outputs": [],
   "source": [
    "political_stability.loc[political_stability['Country']=='China, mainland', 'Country'] = 'China'"
   ]
  },
  {
   "cell_type": "markdown",
   "id": "32fe2fcd",
   "metadata": {},
   "source": [
    "## MortalityRateAttributedToWater"
   ]
  },
  {
   "cell_type": "code",
   "execution_count": 15,
   "id": "bd03298d",
   "metadata": {},
   "outputs": [],
   "source": [
    "# remplacement 'China' par 'China, mainland'\n",
    "#mortality_water.loc[mortality_water['Country']=='China', 'Country'] = 'China, mainland'"
   ]
  },
  {
   "cell_type": "code",
   "execution_count": 16,
   "id": "0729a639",
   "metadata": {},
   "outputs": [],
   "source": [
    "# remplacement 'Republic of North Macedonia' par 'North Macedonia'\n",
    "mortality_water.loc[mortality_water['Country']=='Republic of North Macedonia', 'Country'] = 'North Macedonia'"
   ]
  },
  {
   "cell_type": "code",
   "execution_count": 17,
   "id": "fd7115ad",
   "metadata": {},
   "outputs": [
    {
     "data": {
      "text/html": [
       "<div>\n",
       "<style scoped>\n",
       "    .dataframe tbody tr th:only-of-type {\n",
       "        vertical-align: middle;\n",
       "    }\n",
       "\n",
       "    .dataframe tbody tr th {\n",
       "        vertical-align: top;\n",
       "    }\n",
       "\n",
       "    .dataframe thead th {\n",
       "        text-align: right;\n",
       "    }\n",
       "</style>\n",
       "<table border=\"1\" class=\"dataframe\">\n",
       "  <thead>\n",
       "    <tr style=\"text-align: right;\">\n",
       "      <th></th>\n",
       "      <th>Year</th>\n",
       "      <th>Country</th>\n",
       "      <th>Granularity</th>\n",
       "      <th>Mortality rate attributed to exposure to unsafe WASH services</th>\n",
       "      <th>WASH deaths</th>\n",
       "    </tr>\n",
       "  </thead>\n",
       "  <tbody>\n",
       "    <tr>\n",
       "      <th>0</th>\n",
       "      <td>2016</td>\n",
       "      <td>Afghanistan</td>\n",
       "      <td>Female</td>\n",
       "      <td>15.31</td>\n",
       "      <td>NaN</td>\n",
       "    </tr>\n",
       "    <tr>\n",
       "      <th>1</th>\n",
       "      <td>2016</td>\n",
       "      <td>Afghanistan</td>\n",
       "      <td>Male</td>\n",
       "      <td>12.61</td>\n",
       "      <td>NaN</td>\n",
       "    </tr>\n",
       "    <tr>\n",
       "      <th>2</th>\n",
       "      <td>2016</td>\n",
       "      <td>Afghanistan</td>\n",
       "      <td>Total</td>\n",
       "      <td>13.92</td>\n",
       "      <td>4,824.35</td>\n",
       "    </tr>\n",
       "    <tr>\n",
       "      <th>3</th>\n",
       "      <td>2016</td>\n",
       "      <td>Albania</td>\n",
       "      <td>Female</td>\n",
       "      <td>0.13</td>\n",
       "      <td>NaN</td>\n",
       "    </tr>\n",
       "    <tr>\n",
       "      <th>4</th>\n",
       "      <td>2016</td>\n",
       "      <td>Albania</td>\n",
       "      <td>Male</td>\n",
       "      <td>0.21</td>\n",
       "      <td>NaN</td>\n",
       "    </tr>\n",
       "  </tbody>\n",
       "</table>\n",
       "</div>"
      ],
      "text/plain": [
       "   Year      Country Granularity  \\\n",
       "0  2016  Afghanistan      Female   \n",
       "1  2016  Afghanistan        Male   \n",
       "2  2016  Afghanistan       Total   \n",
       "3  2016      Albania      Female   \n",
       "4  2016      Albania        Male   \n",
       "\n",
       "   Mortality rate attributed to exposure to unsafe WASH services  WASH deaths  \n",
       "0                                              15.31                      NaN  \n",
       "1                                              12.61                      NaN  \n",
       "2                                              13.92                 4,824.35  \n",
       "3                                               0.13                      NaN  \n",
       "4                                               0.21                      NaN  "
      ]
     },
     "execution_count": 17,
     "metadata": {},
     "output_type": "execute_result"
    }
   ],
   "source": [
    "mortality_water.head()"
   ]
  },
  {
   "cell_type": "markdown",
   "id": "133a8710",
   "metadata": {},
   "source": [
    "#### Division mortality_water en 2 fichiers : Total et Genre"
   ]
  },
  {
   "cell_type": "code",
   "execution_count": 18,
   "id": "f54eda11",
   "metadata": {},
   "outputs": [],
   "source": [
    "# création df population totale pays par année\n",
    "mortality_water_total_pays = mortality_water[mortality_water['Granularity']=='Total'].drop(columns='Granularity').reset_index(drop=True)\n",
    "\n",
    "# création df population pays par genre par année\n",
    "mortality_water_genre = mortality_water[(mortality_water['Granularity']=='Male')|(mortality_water['Granularity']=='Female')].reset_index(drop=True)\n",
    "\n",
    "# Renommage Granularity\n",
    "mortality_water_genre.rename(columns={'Granularity' : 'Genre'}, inplace=True)\n",
    "# Suppression colonne 'WASH deaths'\n",
    "mortality_water_genre.drop(columns='WASH deaths', inplace=True)"
   ]
  },
  {
   "cell_type": "markdown",
   "id": "a2fbf554",
   "metadata": {},
   "source": [
    "## BasicAndSafelyManagedDrinkingWaterServices"
   ]
  },
  {
   "cell_type": "code",
   "execution_count": 19,
   "id": "1e18e88b",
   "metadata": {},
   "outputs": [],
   "source": [
    "# remplacement 'China' par 'China, mainland'\n",
    "#water_service.loc[water_service['Country']=='China', 'Country'] = 'China, mainland'"
   ]
  },
  {
   "cell_type": "code",
   "execution_count": 20,
   "id": "be8471c8",
   "metadata": {},
   "outputs": [],
   "source": [
    "# remplacement 'Republic of North Macedonia' par 'North Macedonia'\n",
    "water_service.loc[water_service['Country']=='Republic of North Macedonia', 'Country'] = 'North Macedonia'"
   ]
  },
  {
   "cell_type": "markdown",
   "id": "cbca3895",
   "metadata": {},
   "source": [
    "#### Division water_service en 2 fichiers : Total et Zone"
   ]
  },
  {
   "cell_type": "code",
   "execution_count": 21,
   "id": "1fe9c682",
   "metadata": {},
   "outputs": [],
   "source": [
    "# création df population totale pays par année\n",
    "water_service_total_pays = water_service[water_service['Granularity']=='Total'].drop(columns='Granularity').reset_index(drop=True)\n",
    "\n",
    "# création df population pays par zone par année\n",
    "water_service_zone = water_service[(water_service['Granularity']=='Rural')|(water_service['Granularity']=='Urban')].reset_index(drop=True)\n",
    "\n",
    "# Renommage Granularity\n",
    "water_service_zone.rename(columns={'Granularity' : 'Zone'}, inplace=True)"
   ]
  },
  {
   "cell_type": "markdown",
   "id": "47434df9",
   "metadata": {},
   "source": [
    "## Synthèse fichiers"
   ]
  },
  {
   "cell_type": "code",
   "execution_count": 22,
   "id": "1c5f88a1",
   "metadata": {},
   "outputs": [
    {
     "data": {
      "text/html": [
       "<div>\n",
       "<style scoped>\n",
       "    .dataframe tbody tr th:only-of-type {\n",
       "        vertical-align: middle;\n",
       "    }\n",
       "\n",
       "    .dataframe tbody tr th {\n",
       "        vertical-align: top;\n",
       "    }\n",
       "\n",
       "    .dataframe thead th {\n",
       "        text-align: right;\n",
       "    }\n",
       "</style>\n",
       "<table border=\"1\" class=\"dataframe\">\n",
       "  <thead>\n",
       "    <tr style=\"text-align: right;\">\n",
       "      <th></th>\n",
       "      <th>Country</th>\n",
       "      <th>Year</th>\n",
       "      <th>Political_Stability</th>\n",
       "    </tr>\n",
       "  </thead>\n",
       "  <tbody>\n",
       "    <tr>\n",
       "      <th>0</th>\n",
       "      <td>Afghanistan</td>\n",
       "      <td>2000</td>\n",
       "      <td>-2.44</td>\n",
       "    </tr>\n",
       "    <tr>\n",
       "      <th>1</th>\n",
       "      <td>Afghanistan</td>\n",
       "      <td>2002</td>\n",
       "      <td>-2.04</td>\n",
       "    </tr>\n",
       "    <tr>\n",
       "      <th>2</th>\n",
       "      <td>Afghanistan</td>\n",
       "      <td>2003</td>\n",
       "      <td>-2.20</td>\n",
       "    </tr>\n",
       "    <tr>\n",
       "      <th>3</th>\n",
       "      <td>Afghanistan</td>\n",
       "      <td>2004</td>\n",
       "      <td>-2.30</td>\n",
       "    </tr>\n",
       "    <tr>\n",
       "      <th>4</th>\n",
       "      <td>Afghanistan</td>\n",
       "      <td>2005</td>\n",
       "      <td>-2.07</td>\n",
       "    </tr>\n",
       "  </tbody>\n",
       "</table>\n",
       "</div>"
      ],
      "text/plain": [
       "       Country  Year  Political_Stability\n",
       "0  Afghanistan  2000                -2.44\n",
       "1  Afghanistan  2002                -2.04\n",
       "2  Afghanistan  2003                -2.20\n",
       "3  Afghanistan  2004                -2.30\n",
       "4  Afghanistan  2005                -2.07"
      ]
     },
     "execution_count": 22,
     "metadata": {},
     "output_type": "execute_result"
    }
   ],
   "source": [
    "political_stability.head()"
   ]
  },
  {
   "cell_type": "code",
   "execution_count": 23,
   "id": "83382fa1",
   "metadata": {},
   "outputs": [
    {
     "data": {
      "text/html": [
       "<div>\n",
       "<style scoped>\n",
       "    .dataframe tbody tr th:only-of-type {\n",
       "        vertical-align: middle;\n",
       "    }\n",
       "\n",
       "    .dataframe tbody tr th {\n",
       "        vertical-align: top;\n",
       "    }\n",
       "\n",
       "    .dataframe thead th {\n",
       "        text-align: right;\n",
       "    }\n",
       "</style>\n",
       "<table border=\"1\" class=\"dataframe\">\n",
       "  <thead>\n",
       "    <tr style=\"text-align: right;\">\n",
       "      <th></th>\n",
       "      <th>Continent</th>\n",
       "      <th>Country</th>\n",
       "    </tr>\n",
       "  </thead>\n",
       "  <tbody>\n",
       "    <tr>\n",
       "      <th>0</th>\n",
       "      <td>Europe</td>\n",
       "      <td>Albania</td>\n",
       "    </tr>\n",
       "    <tr>\n",
       "      <th>1</th>\n",
       "      <td>Europe</td>\n",
       "      <td>Andorra</td>\n",
       "    </tr>\n",
       "    <tr>\n",
       "      <th>2</th>\n",
       "      <td>Europe</td>\n",
       "      <td>Armenia</td>\n",
       "    </tr>\n",
       "    <tr>\n",
       "      <th>3</th>\n",
       "      <td>Western Pacific</td>\n",
       "      <td>Australia</td>\n",
       "    </tr>\n",
       "    <tr>\n",
       "      <th>4</th>\n",
       "      <td>Europe</td>\n",
       "      <td>Austria</td>\n",
       "    </tr>\n",
       "  </tbody>\n",
       "</table>\n",
       "</div>"
      ],
      "text/plain": [
       "         Continent    Country\n",
       "0           Europe    Albania\n",
       "1           Europe    Andorra\n",
       "2           Europe    Armenia\n",
       "3  Western Pacific  Australia\n",
       "4           Europe    Austria"
      ]
     },
     "execution_count": 23,
     "metadata": {},
     "output_type": "execute_result"
    }
   ],
   "source": [
    "continent.head()"
   ]
  },
  {
   "cell_type": "code",
   "execution_count": 24,
   "id": "2874209b",
   "metadata": {},
   "outputs": [
    {
     "data": {
      "text/html": [
       "<div>\n",
       "<style scoped>\n",
       "    .dataframe tbody tr th:only-of-type {\n",
       "        vertical-align: middle;\n",
       "    }\n",
       "\n",
       "    .dataframe tbody tr th {\n",
       "        vertical-align: top;\n",
       "    }\n",
       "\n",
       "    .dataframe thead th {\n",
       "        text-align: right;\n",
       "    }\n",
       "</style>\n",
       "<table border=\"1\" class=\"dataframe\">\n",
       "  <thead>\n",
       "    <tr style=\"text-align: right;\">\n",
       "      <th></th>\n",
       "      <th>Country</th>\n",
       "      <th>Year</th>\n",
       "      <th>Population</th>\n",
       "    </tr>\n",
       "  </thead>\n",
       "  <tbody>\n",
       "    <tr>\n",
       "      <th>0</th>\n",
       "      <td>Afghanistan</td>\n",
       "      <td>2000</td>\n",
       "      <td>20779953</td>\n",
       "    </tr>\n",
       "    <tr>\n",
       "      <th>1</th>\n",
       "      <td>Afghanistan</td>\n",
       "      <td>2001</td>\n",
       "      <td>21606988</td>\n",
       "    </tr>\n",
       "    <tr>\n",
       "      <th>2</th>\n",
       "      <td>Afghanistan</td>\n",
       "      <td>2002</td>\n",
       "      <td>22600770</td>\n",
       "    </tr>\n",
       "    <tr>\n",
       "      <th>3</th>\n",
       "      <td>Afghanistan</td>\n",
       "      <td>2003</td>\n",
       "      <td>23680871</td>\n",
       "    </tr>\n",
       "    <tr>\n",
       "      <th>4</th>\n",
       "      <td>Afghanistan</td>\n",
       "      <td>2004</td>\n",
       "      <td>24726684</td>\n",
       "    </tr>\n",
       "    <tr>\n",
       "      <th>...</th>\n",
       "      <td>...</td>\n",
       "      <td>...</td>\n",
       "      <td>...</td>\n",
       "    </tr>\n",
       "    <tr>\n",
       "      <th>4406</th>\n",
       "      <td>Zimbabwe</td>\n",
       "      <td>2014</td>\n",
       "      <td>13586707</td>\n",
       "    </tr>\n",
       "    <tr>\n",
       "      <th>4407</th>\n",
       "      <td>Zimbabwe</td>\n",
       "      <td>2015</td>\n",
       "      <td>13814629</td>\n",
       "    </tr>\n",
       "    <tr>\n",
       "      <th>4408</th>\n",
       "      <td>Zimbabwe</td>\n",
       "      <td>2016</td>\n",
       "      <td>14030331</td>\n",
       "    </tr>\n",
       "    <tr>\n",
       "      <th>4409</th>\n",
       "      <td>Zimbabwe</td>\n",
       "      <td>2017</td>\n",
       "      <td>14236595</td>\n",
       "    </tr>\n",
       "    <tr>\n",
       "      <th>4410</th>\n",
       "      <td>Zimbabwe</td>\n",
       "      <td>2018</td>\n",
       "      <td>14438802</td>\n",
       "    </tr>\n",
       "  </tbody>\n",
       "</table>\n",
       "<p>4411 rows × 3 columns</p>\n",
       "</div>"
      ],
      "text/plain": [
       "          Country  Year  Population\n",
       "0     Afghanistan  2000    20779953\n",
       "1     Afghanistan  2001    21606988\n",
       "2     Afghanistan  2002    22600770\n",
       "3     Afghanistan  2003    23680871\n",
       "4     Afghanistan  2004    24726684\n",
       "...           ...   ...         ...\n",
       "4406     Zimbabwe  2014    13586707\n",
       "4407     Zimbabwe  2015    13814629\n",
       "4408     Zimbabwe  2016    14030331\n",
       "4409     Zimbabwe  2017    14236595\n",
       "4410     Zimbabwe  2018    14438802\n",
       "\n",
       "[4411 rows x 3 columns]"
      ]
     },
     "execution_count": 24,
     "metadata": {},
     "output_type": "execute_result"
    }
   ],
   "source": [
    "population_total_pays"
   ]
  },
  {
   "cell_type": "code",
   "execution_count": 25,
   "id": "4736db1d",
   "metadata": {},
   "outputs": [
    {
     "data": {
      "text/html": [
       "<div>\n",
       "<style scoped>\n",
       "    .dataframe tbody tr th:only-of-type {\n",
       "        vertical-align: middle;\n",
       "    }\n",
       "\n",
       "    .dataframe tbody tr th {\n",
       "        vertical-align: top;\n",
       "    }\n",
       "\n",
       "    .dataframe thead th {\n",
       "        text-align: right;\n",
       "    }\n",
       "</style>\n",
       "<table border=\"1\" class=\"dataframe\">\n",
       "  <thead>\n",
       "    <tr style=\"text-align: right;\">\n",
       "      <th></th>\n",
       "      <th>Country</th>\n",
       "      <th>Genre</th>\n",
       "      <th>Year</th>\n",
       "      <th>Population</th>\n",
       "    </tr>\n",
       "  </thead>\n",
       "  <tbody>\n",
       "    <tr>\n",
       "      <th>0</th>\n",
       "      <td>Afghanistan</td>\n",
       "      <td>Male</td>\n",
       "      <td>2000</td>\n",
       "      <td>10689508</td>\n",
       "    </tr>\n",
       "    <tr>\n",
       "      <th>1</th>\n",
       "      <td>Afghanistan</td>\n",
       "      <td>Female</td>\n",
       "      <td>2000</td>\n",
       "      <td>10090449</td>\n",
       "    </tr>\n",
       "    <tr>\n",
       "      <th>2</th>\n",
       "      <td>Afghanistan</td>\n",
       "      <td>Male</td>\n",
       "      <td>2001</td>\n",
       "      <td>11117754</td>\n",
       "    </tr>\n",
       "    <tr>\n",
       "      <th>3</th>\n",
       "      <td>Afghanistan</td>\n",
       "      <td>Female</td>\n",
       "      <td>2001</td>\n",
       "      <td>10489238</td>\n",
       "    </tr>\n",
       "    <tr>\n",
       "      <th>4</th>\n",
       "      <td>Afghanistan</td>\n",
       "      <td>Male</td>\n",
       "      <td>2002</td>\n",
       "      <td>11642106</td>\n",
       "    </tr>\n",
       "  </tbody>\n",
       "</table>\n",
       "</div>"
      ],
      "text/plain": [
       "       Country   Genre  Year  Population\n",
       "0  Afghanistan    Male  2000    10689508\n",
       "1  Afghanistan  Female  2000    10090449\n",
       "2  Afghanistan    Male  2001    11117754\n",
       "3  Afghanistan  Female  2001    10489238\n",
       "4  Afghanistan    Male  2002    11642106"
      ]
     },
     "execution_count": 25,
     "metadata": {},
     "output_type": "execute_result"
    }
   ],
   "source": [
    "population_genre.head()"
   ]
  },
  {
   "cell_type": "code",
   "execution_count": 34,
   "id": "a9b92097",
   "metadata": {},
   "outputs": [
    {
     "name": "stdout",
     "output_type": "stream",
     "text": [
      "<class 'pandas.core.frame.DataFrame'>\n",
      "RangeIndex: 7618 entries, 0 to 7617\n",
      "Data columns (total 4 columns):\n",
      " #   Column      Non-Null Count  Dtype \n",
      "---  ------      --------------  ----- \n",
      " 0   Country     7618 non-null   object\n",
      " 1   Genre       7618 non-null   object\n",
      " 2   Year        7618 non-null   int64 \n",
      " 3   Population  7618 non-null   int64 \n",
      "dtypes: int64(2), object(2)\n",
      "memory usage: 238.2+ KB\n"
     ]
    }
   ],
   "source": [
    "population_genre.info()"
   ]
  },
  {
   "cell_type": "code",
   "execution_count": 26,
   "id": "954d4ee0",
   "metadata": {},
   "outputs": [
    {
     "data": {
      "text/html": [
       "<div>\n",
       "<style scoped>\n",
       "    .dataframe tbody tr th:only-of-type {\n",
       "        vertical-align: middle;\n",
       "    }\n",
       "\n",
       "    .dataframe tbody tr th {\n",
       "        vertical-align: top;\n",
       "    }\n",
       "\n",
       "    .dataframe thead th {\n",
       "        text-align: right;\n",
       "    }\n",
       "</style>\n",
       "<table border=\"1\" class=\"dataframe\">\n",
       "  <thead>\n",
       "    <tr style=\"text-align: right;\">\n",
       "      <th></th>\n",
       "      <th>Country</th>\n",
       "      <th>Zone</th>\n",
       "      <th>Year</th>\n",
       "      <th>Population</th>\n",
       "    </tr>\n",
       "  </thead>\n",
       "  <tbody>\n",
       "    <tr>\n",
       "      <th>0</th>\n",
       "      <td>Afghanistan</td>\n",
       "      <td>Rural</td>\n",
       "      <td>2000</td>\n",
       "      <td>15657474</td>\n",
       "    </tr>\n",
       "    <tr>\n",
       "      <th>1</th>\n",
       "      <td>Afghanistan</td>\n",
       "      <td>Urban</td>\n",
       "      <td>2000</td>\n",
       "      <td>4436282</td>\n",
       "    </tr>\n",
       "    <tr>\n",
       "      <th>2</th>\n",
       "      <td>Afghanistan</td>\n",
       "      <td>Rural</td>\n",
       "      <td>2001</td>\n",
       "      <td>16318324</td>\n",
       "    </tr>\n",
       "    <tr>\n",
       "      <th>3</th>\n",
       "      <td>Afghanistan</td>\n",
       "      <td>Urban</td>\n",
       "      <td>2001</td>\n",
       "      <td>4648139</td>\n",
       "    </tr>\n",
       "    <tr>\n",
       "      <th>4</th>\n",
       "      <td>Afghanistan</td>\n",
       "      <td>Rural</td>\n",
       "      <td>2002</td>\n",
       "      <td>17086910</td>\n",
       "    </tr>\n",
       "  </tbody>\n",
       "</table>\n",
       "</div>"
      ],
      "text/plain": [
       "       Country   Zone  Year  Population\n",
       "0  Afghanistan  Rural  2000    15657474\n",
       "1  Afghanistan  Urban  2000     4436282\n",
       "2  Afghanistan  Rural  2001    16318324\n",
       "3  Afghanistan  Urban  2001     4648139\n",
       "4  Afghanistan  Rural  2002    17086910"
      ]
     },
     "execution_count": 26,
     "metadata": {},
     "output_type": "execute_result"
    }
   ],
   "source": [
    "population_zone.head()"
   ]
  },
  {
   "cell_type": "code",
   "execution_count": 35,
   "id": "edbafe27",
   "metadata": {},
   "outputs": [
    {
     "name": "stdout",
     "output_type": "stream",
     "text": [
      "<class 'pandas.core.frame.DataFrame'>\n",
      "RangeIndex: 8790 entries, 0 to 8789\n",
      "Data columns (total 4 columns):\n",
      " #   Column      Non-Null Count  Dtype \n",
      "---  ------      --------------  ----- \n",
      " 0   Country     8790 non-null   object\n",
      " 1   Zone        8790 non-null   object\n",
      " 2   Year        8790 non-null   int64 \n",
      " 3   Population  8790 non-null   int64 \n",
      "dtypes: int64(2), object(2)\n",
      "memory usage: 274.8+ KB\n"
     ]
    }
   ],
   "source": [
    "population_zone.info()"
   ]
  },
  {
   "cell_type": "code",
   "execution_count": 27,
   "id": "174cbf49",
   "metadata": {},
   "outputs": [
    {
     "data": {
      "text/html": [
       "<div>\n",
       "<style scoped>\n",
       "    .dataframe tbody tr th:only-of-type {\n",
       "        vertical-align: middle;\n",
       "    }\n",
       "\n",
       "    .dataframe tbody tr th {\n",
       "        vertical-align: top;\n",
       "    }\n",
       "\n",
       "    .dataframe thead th {\n",
       "        text-align: right;\n",
       "    }\n",
       "</style>\n",
       "<table border=\"1\" class=\"dataframe\">\n",
       "  <thead>\n",
       "    <tr style=\"text-align: right;\">\n",
       "      <th></th>\n",
       "      <th>Year</th>\n",
       "      <th>Country</th>\n",
       "      <th>Mortality rate attributed to exposure to unsafe WASH services</th>\n",
       "      <th>WASH deaths</th>\n",
       "    </tr>\n",
       "  </thead>\n",
       "  <tbody>\n",
       "    <tr>\n",
       "      <th>0</th>\n",
       "      <td>2016</td>\n",
       "      <td>Afghanistan</td>\n",
       "      <td>13.92</td>\n",
       "      <td>4,824.35</td>\n",
       "    </tr>\n",
       "    <tr>\n",
       "      <th>1</th>\n",
       "      <td>2016</td>\n",
       "      <td>Albania</td>\n",
       "      <td>0.17</td>\n",
       "      <td>4.87</td>\n",
       "    </tr>\n",
       "    <tr>\n",
       "      <th>2</th>\n",
       "      <td>2016</td>\n",
       "      <td>Algeria</td>\n",
       "      <td>1.87</td>\n",
       "      <td>758.21</td>\n",
       "    </tr>\n",
       "    <tr>\n",
       "      <th>3</th>\n",
       "      <td>2016</td>\n",
       "      <td>Angola</td>\n",
       "      <td>48.81</td>\n",
       "      <td>14,065.20</td>\n",
       "    </tr>\n",
       "    <tr>\n",
       "      <th>4</th>\n",
       "      <td>2016</td>\n",
       "      <td>Antigua and Barbuda</td>\n",
       "      <td>0.11</td>\n",
       "      <td>0.12</td>\n",
       "    </tr>\n",
       "  </tbody>\n",
       "</table>\n",
       "</div>"
      ],
      "text/plain": [
       "   Year              Country  \\\n",
       "0  2016          Afghanistan   \n",
       "1  2016              Albania   \n",
       "2  2016              Algeria   \n",
       "3  2016               Angola   \n",
       "4  2016  Antigua and Barbuda   \n",
       "\n",
       "   Mortality rate attributed to exposure to unsafe WASH services  WASH deaths  \n",
       "0                                              13.92                 4,824.35  \n",
       "1                                               0.17                     4.87  \n",
       "2                                               1.87                   758.21  \n",
       "3                                              48.81                14,065.20  \n",
       "4                                               0.11                     0.12  "
      ]
     },
     "execution_count": 27,
     "metadata": {},
     "output_type": "execute_result"
    }
   ],
   "source": [
    "mortality_water_total_pays.head()"
   ]
  },
  {
   "cell_type": "code",
   "execution_count": 28,
   "id": "79ef8cde",
   "metadata": {},
   "outputs": [
    {
     "data": {
      "text/html": [
       "<div>\n",
       "<style scoped>\n",
       "    .dataframe tbody tr th:only-of-type {\n",
       "        vertical-align: middle;\n",
       "    }\n",
       "\n",
       "    .dataframe tbody tr th {\n",
       "        vertical-align: top;\n",
       "    }\n",
       "\n",
       "    .dataframe thead th {\n",
       "        text-align: right;\n",
       "    }\n",
       "</style>\n",
       "<table border=\"1\" class=\"dataframe\">\n",
       "  <thead>\n",
       "    <tr style=\"text-align: right;\">\n",
       "      <th></th>\n",
       "      <th>Year</th>\n",
       "      <th>Country</th>\n",
       "      <th>Genre</th>\n",
       "      <th>Mortality rate attributed to exposure to unsafe WASH services</th>\n",
       "    </tr>\n",
       "  </thead>\n",
       "  <tbody>\n",
       "    <tr>\n",
       "      <th>0</th>\n",
       "      <td>2016</td>\n",
       "      <td>Afghanistan</td>\n",
       "      <td>Female</td>\n",
       "      <td>15.31</td>\n",
       "    </tr>\n",
       "    <tr>\n",
       "      <th>1</th>\n",
       "      <td>2016</td>\n",
       "      <td>Afghanistan</td>\n",
       "      <td>Male</td>\n",
       "      <td>12.61</td>\n",
       "    </tr>\n",
       "    <tr>\n",
       "      <th>2</th>\n",
       "      <td>2016</td>\n",
       "      <td>Albania</td>\n",
       "      <td>Female</td>\n",
       "      <td>0.13</td>\n",
       "    </tr>\n",
       "    <tr>\n",
       "      <th>3</th>\n",
       "      <td>2016</td>\n",
       "      <td>Albania</td>\n",
       "      <td>Male</td>\n",
       "      <td>0.21</td>\n",
       "    </tr>\n",
       "    <tr>\n",
       "      <th>4</th>\n",
       "      <td>2016</td>\n",
       "      <td>Algeria</td>\n",
       "      <td>Female</td>\n",
       "      <td>2.20</td>\n",
       "    </tr>\n",
       "  </tbody>\n",
       "</table>\n",
       "</div>"
      ],
      "text/plain": [
       "   Year      Country   Genre  \\\n",
       "0  2016  Afghanistan  Female   \n",
       "1  2016  Afghanistan    Male   \n",
       "2  2016      Albania  Female   \n",
       "3  2016      Albania    Male   \n",
       "4  2016      Algeria  Female   \n",
       "\n",
       "   Mortality rate attributed to exposure to unsafe WASH services  \n",
       "0                                              15.31              \n",
       "1                                              12.61              \n",
       "2                                               0.13              \n",
       "3                                               0.21              \n",
       "4                                               2.20              "
      ]
     },
     "execution_count": 28,
     "metadata": {},
     "output_type": "execute_result"
    }
   ],
   "source": [
    "mortality_water_genre.head()"
   ]
  },
  {
   "cell_type": "code",
   "execution_count": null,
   "id": "4387dc95",
   "metadata": {},
   "outputs": [],
   "source": []
  },
  {
   "cell_type": "code",
   "execution_count": 29,
   "id": "4c91be90",
   "metadata": {},
   "outputs": [
    {
     "data": {
      "text/html": [
       "<div>\n",
       "<style scoped>\n",
       "    .dataframe tbody tr th:only-of-type {\n",
       "        vertical-align: middle;\n",
       "    }\n",
       "\n",
       "    .dataframe tbody tr th {\n",
       "        vertical-align: top;\n",
       "    }\n",
       "\n",
       "    .dataframe thead th {\n",
       "        text-align: right;\n",
       "    }\n",
       "</style>\n",
       "<table border=\"1\" class=\"dataframe\">\n",
       "  <thead>\n",
       "    <tr style=\"text-align: right;\">\n",
       "      <th></th>\n",
       "      <th>Year</th>\n",
       "      <th>Country</th>\n",
       "      <th>Population using at least basic drinking-water services (%)</th>\n",
       "      <th>Population using safely managed drinking-water services (%)</th>\n",
       "    </tr>\n",
       "  </thead>\n",
       "  <tbody>\n",
       "    <tr>\n",
       "      <th>0</th>\n",
       "      <td>2000</td>\n",
       "      <td>Afghanistan</td>\n",
       "      <td>27.77</td>\n",
       "      <td>NaN</td>\n",
       "    </tr>\n",
       "    <tr>\n",
       "      <th>1</th>\n",
       "      <td>2000</td>\n",
       "      <td>Albania</td>\n",
       "      <td>87.87</td>\n",
       "      <td>49.29</td>\n",
       "    </tr>\n",
       "    <tr>\n",
       "      <th>2</th>\n",
       "      <td>2000</td>\n",
       "      <td>Algeria</td>\n",
       "      <td>89.84</td>\n",
       "      <td>NaN</td>\n",
       "    </tr>\n",
       "    <tr>\n",
       "      <th>3</th>\n",
       "      <td>2000</td>\n",
       "      <td>Andorra</td>\n",
       "      <td>100.00</td>\n",
       "      <td>90.64</td>\n",
       "    </tr>\n",
       "    <tr>\n",
       "      <th>4</th>\n",
       "      <td>2000</td>\n",
       "      <td>Angola</td>\n",
       "      <td>41.14</td>\n",
       "      <td>NaN</td>\n",
       "    </tr>\n",
       "  </tbody>\n",
       "</table>\n",
       "</div>"
      ],
      "text/plain": [
       "   Year      Country  \\\n",
       "0  2000  Afghanistan   \n",
       "1  2000      Albania   \n",
       "2  2000      Algeria   \n",
       "3  2000      Andorra   \n",
       "4  2000       Angola   \n",
       "\n",
       "   Population using at least basic drinking-water services (%)  \\\n",
       "0                                              27.77             \n",
       "1                                              87.87             \n",
       "2                                              89.84             \n",
       "3                                             100.00             \n",
       "4                                              41.14             \n",
       "\n",
       "   Population using safely managed drinking-water services (%)  \n",
       "0                                                NaN            \n",
       "1                                              49.29            \n",
       "2                                                NaN            \n",
       "3                                              90.64            \n",
       "4                                                NaN            "
      ]
     },
     "execution_count": 29,
     "metadata": {},
     "output_type": "execute_result"
    }
   ],
   "source": [
    "water_service_total_pays.head()"
   ]
  },
  {
   "cell_type": "code",
   "execution_count": 30,
   "id": "e9c35c1b",
   "metadata": {},
   "outputs": [
    {
     "data": {
      "text/html": [
       "<div>\n",
       "<style scoped>\n",
       "    .dataframe tbody tr th:only-of-type {\n",
       "        vertical-align: middle;\n",
       "    }\n",
       "\n",
       "    .dataframe tbody tr th {\n",
       "        vertical-align: top;\n",
       "    }\n",
       "\n",
       "    .dataframe thead th {\n",
       "        text-align: right;\n",
       "    }\n",
       "</style>\n",
       "<table border=\"1\" class=\"dataframe\">\n",
       "  <thead>\n",
       "    <tr style=\"text-align: right;\">\n",
       "      <th></th>\n",
       "      <th>Year</th>\n",
       "      <th>Country</th>\n",
       "      <th>Zone</th>\n",
       "      <th>Population using at least basic drinking-water services (%)</th>\n",
       "      <th>Population using safely managed drinking-water services (%)</th>\n",
       "    </tr>\n",
       "  </thead>\n",
       "  <tbody>\n",
       "    <tr>\n",
       "      <th>0</th>\n",
       "      <td>2000</td>\n",
       "      <td>Afghanistan</td>\n",
       "      <td>Rural</td>\n",
       "      <td>21.62</td>\n",
       "      <td>NaN</td>\n",
       "    </tr>\n",
       "    <tr>\n",
       "      <th>1</th>\n",
       "      <td>2000</td>\n",
       "      <td>Afghanistan</td>\n",
       "      <td>Urban</td>\n",
       "      <td>49.49</td>\n",
       "      <td>NaN</td>\n",
       "    </tr>\n",
       "    <tr>\n",
       "      <th>2</th>\n",
       "      <td>2000</td>\n",
       "      <td>Albania</td>\n",
       "      <td>Rural</td>\n",
       "      <td>81.78</td>\n",
       "      <td>NaN</td>\n",
       "    </tr>\n",
       "    <tr>\n",
       "      <th>3</th>\n",
       "      <td>2000</td>\n",
       "      <td>Albania</td>\n",
       "      <td>Urban</td>\n",
       "      <td>96.36</td>\n",
       "      <td>NaN</td>\n",
       "    </tr>\n",
       "    <tr>\n",
       "      <th>4</th>\n",
       "      <td>2000</td>\n",
       "      <td>Algeria</td>\n",
       "      <td>Rural</td>\n",
       "      <td>83.32</td>\n",
       "      <td>NaN</td>\n",
       "    </tr>\n",
       "  </tbody>\n",
       "</table>\n",
       "</div>"
      ],
      "text/plain": [
       "   Year      Country   Zone  \\\n",
       "0  2000  Afghanistan  Rural   \n",
       "1  2000  Afghanistan  Urban   \n",
       "2  2000      Albania  Rural   \n",
       "3  2000      Albania  Urban   \n",
       "4  2000      Algeria  Rural   \n",
       "\n",
       "   Population using at least basic drinking-water services (%)  \\\n",
       "0                                              21.62             \n",
       "1                                              49.49             \n",
       "2                                              81.78             \n",
       "3                                              96.36             \n",
       "4                                              83.32             \n",
       "\n",
       "   Population using safely managed drinking-water services (%)  \n",
       "0                                                NaN            \n",
       "1                                                NaN            \n",
       "2                                                NaN            \n",
       "3                                                NaN            \n",
       "4                                                NaN            "
      ]
     },
     "execution_count": 30,
     "metadata": {},
     "output_type": "execute_result"
    }
   ],
   "source": [
    "water_service_zone.head()"
   ]
  },
  {
   "cell_type": "markdown",
   "id": "634a7a74",
   "metadata": {},
   "source": [
    "### Export fichiers non divisés vers excel"
   ]
  },
  {
   "cell_type": "code",
   "execution_count": 31,
   "id": "90b146ca",
   "metadata": {},
   "outputs": [],
   "source": [
    "continent.to_excel(folder_export_excel+'continent.xlsx', index=False)\n",
    "political_stability.to_excel(folder_export_excel+'political_stability.xlsx', index=False)\n",
    "population.to_excel(folder_export_excel+'population.xlsx', index=False)\n",
    "mortality_water.to_excel(folder_export_excel+'mortality_water.xlsx', index=False)\n",
    "water_service.to_excel(folder_export_excel+'water_service.xlsx', index=False)"
   ]
  },
  {
   "cell_type": "markdown",
   "id": "daa73b50",
   "metadata": {},
   "source": [
    "## Export"
   ]
  },
  {
   "cell_type": "code",
   "execution_count": 32,
   "id": "0b0417bb",
   "metadata": {},
   "outputs": [],
   "source": [
    "population_total_pays.to_csv(folder_export+'population_total_pays.csv', index=False)\n",
    "population_genre.to_csv(folder_export+'population_genre.csv', index=False)\n",
    "population_zone.to_csv(folder_export+'population_zone.csv', index=False)\n",
    "\n",
    "continent.to_csv(folder_export+'continent.csv', index=False)\n",
    "\n",
    "mortality_water_total_pays.to_csv(folder_export+'mortality_water_total_pays.csv', index=False)\n",
    "mortality_water_genre.to_csv(folder_export+'mortality_water_genre.csv', index=False)\n",
    "\n",
    "water_service_total_pays.to_csv(folder_export+'water_service_total_pays.csv', index=False)\n",
    "water_service_zone.to_csv(folder_export+'water_service_zone.csv', index=False)\n",
    "\n",
    "political_stability.to_csv(folder_export+'political_stability.csv', index=False)"
   ]
  },
  {
   "cell_type": "code",
   "execution_count": 33,
   "id": "1b9ff65a",
   "metadata": {},
   "outputs": [],
   "source": [
    "population.to_csv(folder_export+'population.csv', index=False)\n",
    "mortality_water.to_csv(folder_export+'mortality_water.csv', index=False)\n",
    "water_service.to_csv(folder_export+'water_service.csv', index=False)"
   ]
  }
 ],
 "metadata": {
  "kernelspec": {
   "display_name": "Python 3 (ipykernel)",
   "language": "python",
   "name": "python3"
  },
  "language_info": {
   "codemirror_mode": {
    "name": "ipython",
    "version": 3
   },
   "file_extension": ".py",
   "mimetype": "text/x-python",
   "name": "python",
   "nbconvert_exporter": "python",
   "pygments_lexer": "ipython3",
   "version": "3.9.13"
  }
 },
 "nbformat": 4,
 "nbformat_minor": 5
}
