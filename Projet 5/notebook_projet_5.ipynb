{
 "cells": [
  {
   "cell_type": "markdown",
   "id": "4867ce40",
   "metadata": {},
   "source": [
    "# Projet 5 :\n",
    "# Optimisez la gestion des données d'une boutique avec R ou Python\n",
    "\n",
    "## Sommaire <a id='sommaire'></a>\n",
    "<ol> <li><a href=\"#erp\">Préparation des données</a></li>\n",
    "    <ol>\n",
    "        <li><a href=\"#erp\">Préparation données fichier erp</a></li> \n",
    "        <li><a href=\"#liaison\">Préparation données fichier liaison</a></li> \n",
    "        <li><a href=\"#web\">Préparation données fichier web</a></li> \n",
    "        <li><a href=\"#jointure\">Jointure des 3 fichiers</a></li> \n",
    "        <li><a href=\"#ca\">Chiffre d'affaires</a></li> \n",
    "    </ol>\n",
    "    <li><a href=\"#analyse_univariee\">Analyse univariée</a></li>\n",
    "        <ol>\n",
    "        <li><a href=\"#analyse_univariee\">Analyse univariée de la variable prix</a></li> \n",
    "        <li><a href=\"#test_normal\">Tests de normalité</a></li> \n",
    "        <li><a href=\"#synthese\">Synthèse analyse univariée</a></li>\n",
    "        <li><a href=\"#fonction\">Création de fonctions</a></li>\n",
    "        <li><a href=\"#conclusion\">Conclusion finale</a></li>\n",
    "    </ol>\n",
    "</ol>"
   ]
  },
  {
   "cell_type": "markdown",
   "id": "97bc51e1",
   "metadata": {},
   "source": [
    "# 1. Préparation des données"
   ]
  },
  {
   "cell_type": "markdown",
   "id": "4e8a34f7",
   "metadata": {},
   "source": [
    "## Import des librairies"
   ]
  },
  {
   "cell_type": "code",
   "execution_count": 2,
   "id": "9aa94641",
   "metadata": {},
   "outputs": [],
   "source": [
    "import numpy as np\n",
    "import pandas as pd\n",
    "import matplotlib.pyplot as plt\n",
    "import seaborn as sns\n",
    "import scipy.stats as st\n",
    "\n",
    "import warnings\n",
    "\n",
    "folder='D:/Data_Analyst_Projet/Projet 5/Donnees/Donnees analyse python/'"
   ]
  },
  {
   "cell_type": "markdown",
   "id": "3e116bdf",
   "metadata": {},
   "source": [
    "## Import des fichiers"
   ]
  },
  {
   "cell_type": "code",
   "execution_count": 3,
   "id": "094481a0",
   "metadata": {},
   "outputs": [
    {
     "data": {
      "text/html": [
       "<div>\n",
       "<style scoped>\n",
       "    .dataframe tbody tr th:only-of-type {\n",
       "        vertical-align: middle;\n",
       "    }\n",
       "\n",
       "    .dataframe tbody tr th {\n",
       "        vertical-align: top;\n",
       "    }\n",
       "\n",
       "    .dataframe thead th {\n",
       "        text-align: right;\n",
       "    }\n",
       "</style>\n",
       "<table border=\"1\" class=\"dataframe\">\n",
       "  <thead>\n",
       "    <tr style=\"text-align: right;\">\n",
       "      <th></th>\n",
       "      <th>product_id</th>\n",
       "      <th>onsale_web</th>\n",
       "      <th>price</th>\n",
       "      <th>stock_quantity</th>\n",
       "      <th>stock_status</th>\n",
       "    </tr>\n",
       "  </thead>\n",
       "  <tbody>\n",
       "    <tr>\n",
       "      <th>0</th>\n",
       "      <td>3847</td>\n",
       "      <td>1</td>\n",
       "      <td>24.2</td>\n",
       "      <td>0</td>\n",
       "      <td>outofstock</td>\n",
       "    </tr>\n",
       "    <tr>\n",
       "      <th>1</th>\n",
       "      <td>3849</td>\n",
       "      <td>1</td>\n",
       "      <td>34.3</td>\n",
       "      <td>0</td>\n",
       "      <td>outofstock</td>\n",
       "    </tr>\n",
       "    <tr>\n",
       "      <th>2</th>\n",
       "      <td>3850</td>\n",
       "      <td>1</td>\n",
       "      <td>20.8</td>\n",
       "      <td>0</td>\n",
       "      <td>outofstock</td>\n",
       "    </tr>\n",
       "    <tr>\n",
       "      <th>3</th>\n",
       "      <td>4032</td>\n",
       "      <td>1</td>\n",
       "      <td>14.1</td>\n",
       "      <td>0</td>\n",
       "      <td>outofstock</td>\n",
       "    </tr>\n",
       "    <tr>\n",
       "      <th>4</th>\n",
       "      <td>4039</td>\n",
       "      <td>1</td>\n",
       "      <td>46.0</td>\n",
       "      <td>0</td>\n",
       "      <td>outofstock</td>\n",
       "    </tr>\n",
       "  </tbody>\n",
       "</table>\n",
       "</div>"
      ],
      "text/plain": [
       "   product_id  onsale_web  price  stock_quantity stock_status\n",
       "0        3847           1   24.2               0   outofstock\n",
       "1        3849           1   34.3               0   outofstock\n",
       "2        3850           1   20.8               0   outofstock\n",
       "3        4032           1   14.1               0   outofstock\n",
       "4        4039           1   46.0               0   outofstock"
      ]
     },
     "execution_count": 3,
     "metadata": {},
     "output_type": "execute_result"
    }
   ],
   "source": [
    "warnings.simplefilter(\"ignore\")\n",
    "erp=pd.read_excel(folder+'erp.xlsx')\n",
    "erp.head()"
   ]
  },
  {
   "cell_type": "code",
   "execution_count": 4,
   "id": "54f4c1c3",
   "metadata": {},
   "outputs": [
    {
     "data": {
      "text/html": [
       "<div>\n",
       "<style scoped>\n",
       "    .dataframe tbody tr th:only-of-type {\n",
       "        vertical-align: middle;\n",
       "    }\n",
       "\n",
       "    .dataframe tbody tr th {\n",
       "        vertical-align: top;\n",
       "    }\n",
       "\n",
       "    .dataframe thead th {\n",
       "        text-align: right;\n",
       "    }\n",
       "</style>\n",
       "<table border=\"1\" class=\"dataframe\">\n",
       "  <thead>\n",
       "    <tr style=\"text-align: right;\">\n",
       "      <th></th>\n",
       "      <th>sku</th>\n",
       "      <th>virtual</th>\n",
       "      <th>downloadable</th>\n",
       "      <th>rating_count</th>\n",
       "      <th>average_rating</th>\n",
       "      <th>total_sales</th>\n",
       "      <th>tax_status</th>\n",
       "      <th>tax_class</th>\n",
       "      <th>post_author</th>\n",
       "      <th>post_date</th>\n",
       "      <th>...</th>\n",
       "      <th>post_name</th>\n",
       "      <th>post_modified</th>\n",
       "      <th>post_modified_gmt</th>\n",
       "      <th>post_content_filtered</th>\n",
       "      <th>post_parent</th>\n",
       "      <th>guid</th>\n",
       "      <th>menu_order</th>\n",
       "      <th>post_type</th>\n",
       "      <th>post_mime_type</th>\n",
       "      <th>comment_count</th>\n",
       "    </tr>\n",
       "  </thead>\n",
       "  <tbody>\n",
       "    <tr>\n",
       "      <th>0</th>\n",
       "      <td>bon-cadeau-25-euros</td>\n",
       "      <td>0</td>\n",
       "      <td>0</td>\n",
       "      <td>0</td>\n",
       "      <td>0.0</td>\n",
       "      <td>10.0</td>\n",
       "      <td>taxable</td>\n",
       "      <td>NaN</td>\n",
       "      <td>1.0</td>\n",
       "      <td>2018-06-01 13:53:46</td>\n",
       "      <td>...</td>\n",
       "      <td>bon-cadeau-de-25-euros</td>\n",
       "      <td>2018-06-01 14:13:57</td>\n",
       "      <td>2018-06-01 12:13:57</td>\n",
       "      <td>NaN</td>\n",
       "      <td>0.0</td>\n",
       "      <td>https://www.bottle-neck.fr/?post_type=product&amp;...</td>\n",
       "      <td>0.0</td>\n",
       "      <td>product</td>\n",
       "      <td>NaN</td>\n",
       "      <td>0.0</td>\n",
       "    </tr>\n",
       "    <tr>\n",
       "      <th>1</th>\n",
       "      <td>15298</td>\n",
       "      <td>0</td>\n",
       "      <td>0</td>\n",
       "      <td>0</td>\n",
       "      <td>0.0</td>\n",
       "      <td>6.0</td>\n",
       "      <td>taxable</td>\n",
       "      <td>NaN</td>\n",
       "      <td>2.0</td>\n",
       "      <td>2018-02-08 12:58:52</td>\n",
       "      <td>...</td>\n",
       "      <td>pierre-jean-villa-saint-joseph-preface-2018</td>\n",
       "      <td>2019-12-30 09:30:29</td>\n",
       "      <td>2019-12-30 08:30:29</td>\n",
       "      <td>NaN</td>\n",
       "      <td>0.0</td>\n",
       "      <td>https://www.bottle-neck.fr/?post_type=product&amp;...</td>\n",
       "      <td>0.0</td>\n",
       "      <td>product</td>\n",
       "      <td>NaN</td>\n",
       "      <td>0.0</td>\n",
       "    </tr>\n",
       "    <tr>\n",
       "      <th>2</th>\n",
       "      <td>15296</td>\n",
       "      <td>0</td>\n",
       "      <td>0</td>\n",
       "      <td>0</td>\n",
       "      <td>0.0</td>\n",
       "      <td>0.0</td>\n",
       "      <td>taxable</td>\n",
       "      <td>NaN</td>\n",
       "      <td>2.0</td>\n",
       "      <td>2018-02-08 13:49:41</td>\n",
       "      <td>...</td>\n",
       "      <td>pierre-jean-villa-saint-joseph-tilde-2017</td>\n",
       "      <td>2019-12-21 09:00:17</td>\n",
       "      <td>2019-12-21 08:00:17</td>\n",
       "      <td>NaN</td>\n",
       "      <td>0.0</td>\n",
       "      <td>https://www.bottle-neck.fr/?post_type=product&amp;...</td>\n",
       "      <td>0.0</td>\n",
       "      <td>product</td>\n",
       "      <td>NaN</td>\n",
       "      <td>0.0</td>\n",
       "    </tr>\n",
       "    <tr>\n",
       "      <th>3</th>\n",
       "      <td>15300</td>\n",
       "      <td>0</td>\n",
       "      <td>0</td>\n",
       "      <td>0</td>\n",
       "      <td>0.0</td>\n",
       "      <td>0.0</td>\n",
       "      <td>taxable</td>\n",
       "      <td>NaN</td>\n",
       "      <td>2.0</td>\n",
       "      <td>2018-02-08 14:08:36</td>\n",
       "      <td>...</td>\n",
       "      <td>pierre-jean-villa-croze-hermitage-accroche-coe...</td>\n",
       "      <td>2020-06-26 18:15:03</td>\n",
       "      <td>2020-06-26 16:15:03</td>\n",
       "      <td>NaN</td>\n",
       "      <td>0.0</td>\n",
       "      <td>https://www.bottle-neck.fr/?post_type=product&amp;...</td>\n",
       "      <td>0.0</td>\n",
       "      <td>product</td>\n",
       "      <td>NaN</td>\n",
       "      <td>0.0</td>\n",
       "    </tr>\n",
       "    <tr>\n",
       "      <th>4</th>\n",
       "      <td>19814</td>\n",
       "      <td>0</td>\n",
       "      <td>0</td>\n",
       "      <td>0</td>\n",
       "      <td>0.0</td>\n",
       "      <td>3.0</td>\n",
       "      <td>taxable</td>\n",
       "      <td>NaN</td>\n",
       "      <td>2.0</td>\n",
       "      <td>2018-02-09 14:01:05</td>\n",
       "      <td>...</td>\n",
       "      <td>pierre-jean-villa-igp-gamine-2018</td>\n",
       "      <td>2020-01-04 16:36:01</td>\n",
       "      <td>2020-01-04 15:36:01</td>\n",
       "      <td>NaN</td>\n",
       "      <td>0.0</td>\n",
       "      <td>https://www.bottle-neck.fr/?post_type=product&amp;...</td>\n",
       "      <td>0.0</td>\n",
       "      <td>product</td>\n",
       "      <td>NaN</td>\n",
       "      <td>0.0</td>\n",
       "    </tr>\n",
       "  </tbody>\n",
       "</table>\n",
       "<p>5 rows × 28 columns</p>\n",
       "</div>"
      ],
      "text/plain": [
       "                   sku  virtual  downloadable  rating_count  average_rating  \\\n",
       "0  bon-cadeau-25-euros        0             0             0             0.0   \n",
       "1                15298        0             0             0             0.0   \n",
       "2                15296        0             0             0             0.0   \n",
       "3                15300        0             0             0             0.0   \n",
       "4                19814        0             0             0             0.0   \n",
       "\n",
       "   total_sales tax_status  tax_class  post_author           post_date  ...  \\\n",
       "0         10.0    taxable        NaN          1.0 2018-06-01 13:53:46  ...   \n",
       "1          6.0    taxable        NaN          2.0 2018-02-08 12:58:52  ...   \n",
       "2          0.0    taxable        NaN          2.0 2018-02-08 13:49:41  ...   \n",
       "3          0.0    taxable        NaN          2.0 2018-02-08 14:08:36  ...   \n",
       "4          3.0    taxable        NaN          2.0 2018-02-09 14:01:05  ...   \n",
       "\n",
       "                                           post_name       post_modified  \\\n",
       "0                             bon-cadeau-de-25-euros 2018-06-01 14:13:57   \n",
       "1        pierre-jean-villa-saint-joseph-preface-2018 2019-12-30 09:30:29   \n",
       "2          pierre-jean-villa-saint-joseph-tilde-2017 2019-12-21 09:00:17   \n",
       "3  pierre-jean-villa-croze-hermitage-accroche-coe... 2020-06-26 18:15:03   \n",
       "4                  pierre-jean-villa-igp-gamine-2018 2020-01-04 16:36:01   \n",
       "\n",
       "    post_modified_gmt post_content_filtered post_parent  \\\n",
       "0 2018-06-01 12:13:57                   NaN         0.0   \n",
       "1 2019-12-30 08:30:29                   NaN         0.0   \n",
       "2 2019-12-21 08:00:17                   NaN         0.0   \n",
       "3 2020-06-26 16:15:03                   NaN         0.0   \n",
       "4 2020-01-04 15:36:01                   NaN         0.0   \n",
       "\n",
       "                                                guid menu_order  post_type  \\\n",
       "0  https://www.bottle-neck.fr/?post_type=product&...        0.0    product   \n",
       "1  https://www.bottle-neck.fr/?post_type=product&...        0.0    product   \n",
       "2  https://www.bottle-neck.fr/?post_type=product&...        0.0    product   \n",
       "3  https://www.bottle-neck.fr/?post_type=product&...        0.0    product   \n",
       "4  https://www.bottle-neck.fr/?post_type=product&...        0.0    product   \n",
       "\n",
       "  post_mime_type comment_count  \n",
       "0            NaN           0.0  \n",
       "1            NaN           0.0  \n",
       "2            NaN           0.0  \n",
       "3            NaN           0.0  \n",
       "4            NaN           0.0  \n",
       "\n",
       "[5 rows x 28 columns]"
      ]
     },
     "execution_count": 4,
     "metadata": {},
     "output_type": "execute_result"
    }
   ],
   "source": [
    "web=pd.read_excel(folder+'web.xlsx')\n",
    "web.head()"
   ]
  },
  {
   "cell_type": "code",
   "execution_count": 5,
   "id": "d7af1a1c",
   "metadata": {},
   "outputs": [
    {
     "data": {
      "text/html": [
       "<div>\n",
       "<style scoped>\n",
       "    .dataframe tbody tr th:only-of-type {\n",
       "        vertical-align: middle;\n",
       "    }\n",
       "\n",
       "    .dataframe tbody tr th {\n",
       "        vertical-align: top;\n",
       "    }\n",
       "\n",
       "    .dataframe thead th {\n",
       "        text-align: right;\n",
       "    }\n",
       "</style>\n",
       "<table border=\"1\" class=\"dataframe\">\n",
       "  <thead>\n",
       "    <tr style=\"text-align: right;\">\n",
       "      <th></th>\n",
       "      <th>product_id</th>\n",
       "      <th>id_web</th>\n",
       "    </tr>\n",
       "  </thead>\n",
       "  <tbody>\n",
       "    <tr>\n",
       "      <th>0</th>\n",
       "      <td>3847</td>\n",
       "      <td>15298</td>\n",
       "    </tr>\n",
       "    <tr>\n",
       "      <th>1</th>\n",
       "      <td>3849</td>\n",
       "      <td>15296</td>\n",
       "    </tr>\n",
       "    <tr>\n",
       "      <th>2</th>\n",
       "      <td>3850</td>\n",
       "      <td>15300</td>\n",
       "    </tr>\n",
       "    <tr>\n",
       "      <th>3</th>\n",
       "      <td>4032</td>\n",
       "      <td>19814</td>\n",
       "    </tr>\n",
       "    <tr>\n",
       "      <th>4</th>\n",
       "      <td>4039</td>\n",
       "      <td>19815</td>\n",
       "    </tr>\n",
       "  </tbody>\n",
       "</table>\n",
       "</div>"
      ],
      "text/plain": [
       "   product_id id_web\n",
       "0        3847  15298\n",
       "1        3849  15296\n",
       "2        3850  15300\n",
       "3        4032  19814\n",
       "4        4039  19815"
      ]
     },
     "execution_count": 5,
     "metadata": {},
     "output_type": "execute_result"
    }
   ],
   "source": [
    "liaison=pd.read_excel(folder+'liaison.xlsx')\n",
    "liaison.head()"
   ]
  },
  {
   "cell_type": "markdown",
   "id": "3fd8a31f",
   "metadata": {},
   "source": [
    "<a id='erp' ></a>\n",
    "## Fichier erp <a href=\"#sommaire\" style=\"font-size : 10px ; padding-left:10px\">Retour Sommaire</a>"
   ]
  },
  {
   "cell_type": "code",
   "execution_count": 6,
   "id": "ef2a997c",
   "metadata": {},
   "outputs": [
    {
     "data": {
      "text/html": [
       "<div>\n",
       "<style scoped>\n",
       "    .dataframe tbody tr th:only-of-type {\n",
       "        vertical-align: middle;\n",
       "    }\n",
       "\n",
       "    .dataframe tbody tr th {\n",
       "        vertical-align: top;\n",
       "    }\n",
       "\n",
       "    .dataframe thead th {\n",
       "        text-align: right;\n",
       "    }\n",
       "</style>\n",
       "<table border=\"1\" class=\"dataframe\">\n",
       "  <thead>\n",
       "    <tr style=\"text-align: right;\">\n",
       "      <th></th>\n",
       "      <th>product_id</th>\n",
       "      <th>onsale_web</th>\n",
       "      <th>price</th>\n",
       "      <th>stock_quantity</th>\n",
       "      <th>stock_status</th>\n",
       "    </tr>\n",
       "  </thead>\n",
       "  <tbody>\n",
       "    <tr>\n",
       "      <th>0</th>\n",
       "      <td>3847</td>\n",
       "      <td>1</td>\n",
       "      <td>24.2</td>\n",
       "      <td>0</td>\n",
       "      <td>outofstock</td>\n",
       "    </tr>\n",
       "    <tr>\n",
       "      <th>1</th>\n",
       "      <td>3849</td>\n",
       "      <td>1</td>\n",
       "      <td>34.3</td>\n",
       "      <td>0</td>\n",
       "      <td>outofstock</td>\n",
       "    </tr>\n",
       "    <tr>\n",
       "      <th>2</th>\n",
       "      <td>3850</td>\n",
       "      <td>1</td>\n",
       "      <td>20.8</td>\n",
       "      <td>0</td>\n",
       "      <td>outofstock</td>\n",
       "    </tr>\n",
       "    <tr>\n",
       "      <th>3</th>\n",
       "      <td>4032</td>\n",
       "      <td>1</td>\n",
       "      <td>14.1</td>\n",
       "      <td>0</td>\n",
       "      <td>outofstock</td>\n",
       "    </tr>\n",
       "    <tr>\n",
       "      <th>4</th>\n",
       "      <td>4039</td>\n",
       "      <td>1</td>\n",
       "      <td>46.0</td>\n",
       "      <td>0</td>\n",
       "      <td>outofstock</td>\n",
       "    </tr>\n",
       "  </tbody>\n",
       "</table>\n",
       "</div>"
      ],
      "text/plain": [
       "   product_id  onsale_web  price  stock_quantity stock_status\n",
       "0        3847           1   24.2               0   outofstock\n",
       "1        3849           1   34.3               0   outofstock\n",
       "2        3850           1   20.8               0   outofstock\n",
       "3        4032           1   14.1               0   outofstock\n",
       "4        4039           1   46.0               0   outofstock"
      ]
     },
     "execution_count": 6,
     "metadata": {},
     "output_type": "execute_result"
    }
   ],
   "source": [
    "erp.head()"
   ]
  },
  {
   "cell_type": "markdown",
   "id": "8e5b2ad2",
   "metadata": {},
   "source": [
    "### Renommage des colonnes"
   ]
  },
  {
   "cell_type": "code",
   "execution_count": 7,
   "id": "d30934da",
   "metadata": {},
   "outputs": [],
   "source": [
    "erp.rename(columns={'product_id' : 'id_produit',\n",
    "                    'onsale_web' : 'vente_web',\n",
    "                    'price' : 'prix',\n",
    "                    'stock_quantity' : 'quantite_stock',\n",
    "                    'stock_status' : 'status_stock'}, inplace=True)"
   ]
  },
  {
   "cell_type": "code",
   "execution_count": 8,
   "id": "759d4aad",
   "metadata": {},
   "outputs": [
    {
     "data": {
      "text/html": [
       "<div>\n",
       "<style scoped>\n",
       "    .dataframe tbody tr th:only-of-type {\n",
       "        vertical-align: middle;\n",
       "    }\n",
       "\n",
       "    .dataframe tbody tr th {\n",
       "        vertical-align: top;\n",
       "    }\n",
       "\n",
       "    .dataframe thead th {\n",
       "        text-align: right;\n",
       "    }\n",
       "</style>\n",
       "<table border=\"1\" class=\"dataframe\">\n",
       "  <thead>\n",
       "    <tr style=\"text-align: right;\">\n",
       "      <th></th>\n",
       "      <th>id_produit</th>\n",
       "      <th>vente_web</th>\n",
       "      <th>prix</th>\n",
       "      <th>quantite_stock</th>\n",
       "      <th>status_stock</th>\n",
       "    </tr>\n",
       "  </thead>\n",
       "  <tbody>\n",
       "    <tr>\n",
       "      <th>0</th>\n",
       "      <td>3847</td>\n",
       "      <td>1</td>\n",
       "      <td>24.2</td>\n",
       "      <td>0</td>\n",
       "      <td>outofstock</td>\n",
       "    </tr>\n",
       "    <tr>\n",
       "      <th>1</th>\n",
       "      <td>3849</td>\n",
       "      <td>1</td>\n",
       "      <td>34.3</td>\n",
       "      <td>0</td>\n",
       "      <td>outofstock</td>\n",
       "    </tr>\n",
       "    <tr>\n",
       "      <th>2</th>\n",
       "      <td>3850</td>\n",
       "      <td>1</td>\n",
       "      <td>20.8</td>\n",
       "      <td>0</td>\n",
       "      <td>outofstock</td>\n",
       "    </tr>\n",
       "    <tr>\n",
       "      <th>3</th>\n",
       "      <td>4032</td>\n",
       "      <td>1</td>\n",
       "      <td>14.1</td>\n",
       "      <td>0</td>\n",
       "      <td>outofstock</td>\n",
       "    </tr>\n",
       "    <tr>\n",
       "      <th>4</th>\n",
       "      <td>4039</td>\n",
       "      <td>1</td>\n",
       "      <td>46.0</td>\n",
       "      <td>0</td>\n",
       "      <td>outofstock</td>\n",
       "    </tr>\n",
       "  </tbody>\n",
       "</table>\n",
       "</div>"
      ],
      "text/plain": [
       "   id_produit  vente_web  prix  quantite_stock status_stock\n",
       "0        3847          1  24.2               0   outofstock\n",
       "1        3849          1  34.3               0   outofstock\n",
       "2        3850          1  20.8               0   outofstock\n",
       "3        4032          1  14.1               0   outofstock\n",
       "4        4039          1  46.0               0   outofstock"
      ]
     },
     "execution_count": 8,
     "metadata": {},
     "output_type": "execute_result"
    }
   ],
   "source": [
    "erp.head()"
   ]
  },
  {
   "cell_type": "markdown",
   "id": "77791651",
   "metadata": {},
   "source": [
    "### Description du fichier\n",
    "Nombre de lignes, type des variables, données manquantes, indicateurs clés"
   ]
  },
  {
   "cell_type": "code",
   "execution_count": 9,
   "id": "c960ad65",
   "metadata": {},
   "outputs": [
    {
     "data": {
      "text/plain": [
       "(825, 5)"
      ]
     },
     "execution_count": 9,
     "metadata": {},
     "output_type": "execute_result"
    }
   ],
   "source": [
    "erp.shape"
   ]
  },
  {
   "cell_type": "code",
   "execution_count": 10,
   "id": "1601b0da",
   "metadata": {},
   "outputs": [
    {
     "name": "stdout",
     "output_type": "stream",
     "text": [
      "<class 'pandas.core.frame.DataFrame'>\n",
      "RangeIndex: 825 entries, 0 to 824\n",
      "Data columns (total 5 columns):\n",
      " #   Column          Non-Null Count  Dtype  \n",
      "---  ------          --------------  -----  \n",
      " 0   id_produit      825 non-null    int64  \n",
      " 1   vente_web       825 non-null    int64  \n",
      " 2   prix            825 non-null    float64\n",
      " 3   quantite_stock  825 non-null    int64  \n",
      " 4   status_stock    825 non-null    object \n",
      "dtypes: float64(1), int64(3), object(1)\n",
      "memory usage: 32.4+ KB\n"
     ]
    }
   ],
   "source": [
    "erp.info()"
   ]
  },
  {
   "cell_type": "code",
   "execution_count": 11,
   "id": "ef208fb3",
   "metadata": {},
   "outputs": [
    {
     "data": {
      "text/html": [
       "<div>\n",
       "<style scoped>\n",
       "    .dataframe tbody tr th:only-of-type {\n",
       "        vertical-align: middle;\n",
       "    }\n",
       "\n",
       "    .dataframe tbody tr th {\n",
       "        vertical-align: top;\n",
       "    }\n",
       "\n",
       "    .dataframe thead th {\n",
       "        text-align: right;\n",
       "    }\n",
       "</style>\n",
       "<table border=\"1\" class=\"dataframe\">\n",
       "  <thead>\n",
       "    <tr style=\"text-align: right;\">\n",
       "      <th></th>\n",
       "      <th>id_produit</th>\n",
       "      <th>vente_web</th>\n",
       "      <th>prix</th>\n",
       "      <th>quantite_stock</th>\n",
       "      <th>status_stock</th>\n",
       "    </tr>\n",
       "  </thead>\n",
       "  <tbody>\n",
       "    <tr>\n",
       "      <th>count</th>\n",
       "      <td>825.000000</td>\n",
       "      <td>825.000000</td>\n",
       "      <td>825.000000</td>\n",
       "      <td>825.000000</td>\n",
       "      <td>825</td>\n",
       "    </tr>\n",
       "    <tr>\n",
       "      <th>unique</th>\n",
       "      <td>NaN</td>\n",
       "      <td>NaN</td>\n",
       "      <td>NaN</td>\n",
       "      <td>NaN</td>\n",
       "      <td>2</td>\n",
       "    </tr>\n",
       "    <tr>\n",
       "      <th>top</th>\n",
       "      <td>NaN</td>\n",
       "      <td>NaN</td>\n",
       "      <td>NaN</td>\n",
       "      <td>NaN</td>\n",
       "      <td>instock</td>\n",
       "    </tr>\n",
       "    <tr>\n",
       "      <th>freq</th>\n",
       "      <td>NaN</td>\n",
       "      <td>NaN</td>\n",
       "      <td>NaN</td>\n",
       "      <td>NaN</td>\n",
       "      <td>638</td>\n",
       "    </tr>\n",
       "    <tr>\n",
       "      <th>mean</th>\n",
       "      <td>5162.597576</td>\n",
       "      <td>0.869091</td>\n",
       "      <td>32.415636</td>\n",
       "      <td>26.496970</td>\n",
       "      <td>NaN</td>\n",
       "    </tr>\n",
       "    <tr>\n",
       "      <th>std</th>\n",
       "      <td>902.644635</td>\n",
       "      <td>0.337506</td>\n",
       "      <td>26.795849</td>\n",
       "      <td>45.892422</td>\n",
       "      <td>NaN</td>\n",
       "    </tr>\n",
       "    <tr>\n",
       "      <th>min</th>\n",
       "      <td>3847.000000</td>\n",
       "      <td>0.000000</td>\n",
       "      <td>5.200000</td>\n",
       "      <td>0.000000</td>\n",
       "      <td>NaN</td>\n",
       "    </tr>\n",
       "    <tr>\n",
       "      <th>25%</th>\n",
       "      <td>4348.000000</td>\n",
       "      <td>1.000000</td>\n",
       "      <td>14.600000</td>\n",
       "      <td>1.000000</td>\n",
       "      <td>NaN</td>\n",
       "    </tr>\n",
       "    <tr>\n",
       "      <th>50%</th>\n",
       "      <td>4907.000000</td>\n",
       "      <td>1.000000</td>\n",
       "      <td>24.400000</td>\n",
       "      <td>11.000000</td>\n",
       "      <td>NaN</td>\n",
       "    </tr>\n",
       "    <tr>\n",
       "      <th>75%</th>\n",
       "      <td>5805.000000</td>\n",
       "      <td>1.000000</td>\n",
       "      <td>42.000000</td>\n",
       "      <td>34.000000</td>\n",
       "      <td>NaN</td>\n",
       "    </tr>\n",
       "    <tr>\n",
       "      <th>max</th>\n",
       "      <td>7338.000000</td>\n",
       "      <td>1.000000</td>\n",
       "      <td>225.000000</td>\n",
       "      <td>578.000000</td>\n",
       "      <td>NaN</td>\n",
       "    </tr>\n",
       "  </tbody>\n",
       "</table>\n",
       "</div>"
      ],
      "text/plain": [
       "         id_produit   vente_web        prix  quantite_stock status_stock\n",
       "count    825.000000  825.000000  825.000000      825.000000          825\n",
       "unique          NaN         NaN         NaN             NaN            2\n",
       "top             NaN         NaN         NaN             NaN      instock\n",
       "freq            NaN         NaN         NaN             NaN          638\n",
       "mean    5162.597576    0.869091   32.415636       26.496970          NaN\n",
       "std      902.644635    0.337506   26.795849       45.892422          NaN\n",
       "min     3847.000000    0.000000    5.200000        0.000000          NaN\n",
       "25%     4348.000000    1.000000   14.600000        1.000000          NaN\n",
       "50%     4907.000000    1.000000   24.400000       11.000000          NaN\n",
       "75%     5805.000000    1.000000   42.000000       34.000000          NaN\n",
       "max     7338.000000    1.000000  225.000000      578.000000          NaN"
      ]
     },
     "execution_count": 11,
     "metadata": {},
     "output_type": "execute_result"
    }
   ],
   "source": [
    "erp.describe(include='all')"
   ]
  },
  {
   "cell_type": "markdown",
   "id": "f3ea4bdf",
   "metadata": {},
   "source": [
    "### Modification des types de variable"
   ]
  },
  {
   "cell_type": "code",
   "execution_count": 12,
   "id": "bc9e2fdb",
   "metadata": {},
   "outputs": [],
   "source": [
    "erp['vente_web']=erp['vente_web'].astype('category')\n",
    "erp['status_stock']=erp['status_stock'].astype('category')"
   ]
  },
  {
   "cell_type": "code",
   "execution_count": 13,
   "id": "9d476039",
   "metadata": {},
   "outputs": [
    {
     "name": "stdout",
     "output_type": "stream",
     "text": [
      "<class 'pandas.core.frame.DataFrame'>\n",
      "RangeIndex: 825 entries, 0 to 824\n",
      "Data columns (total 5 columns):\n",
      " #   Column          Non-Null Count  Dtype   \n",
      "---  ------          --------------  -----   \n",
      " 0   id_produit      825 non-null    int64   \n",
      " 1   vente_web       825 non-null    category\n",
      " 2   prix            825 non-null    float64 \n",
      " 3   quantite_stock  825 non-null    int64   \n",
      " 4   status_stock    825 non-null    category\n",
      "dtypes: category(2), float64(1), int64(2)\n",
      "memory usage: 21.3 KB\n"
     ]
    }
   ],
   "source": [
    "erp.info()"
   ]
  },
  {
   "cell_type": "markdown",
   "id": "63f4bec9",
   "metadata": {},
   "source": [
    "### Traitements des valeurs nulles"
   ]
  },
  {
   "cell_type": "code",
   "execution_count": 14,
   "id": "61ea7b91",
   "metadata": {},
   "outputs": [
    {
     "data": {
      "text/html": [
       "<div>\n",
       "<style scoped>\n",
       "    .dataframe tbody tr th:only-of-type {\n",
       "        vertical-align: middle;\n",
       "    }\n",
       "\n",
       "    .dataframe tbody tr th {\n",
       "        vertical-align: top;\n",
       "    }\n",
       "\n",
       "    .dataframe thead th {\n",
       "        text-align: right;\n",
       "    }\n",
       "</style>\n",
       "<table border=\"1\" class=\"dataframe\">\n",
       "  <thead>\n",
       "    <tr style=\"text-align: right;\">\n",
       "      <th></th>\n",
       "      <th>id_produit</th>\n",
       "      <th>vente_web</th>\n",
       "      <th>prix</th>\n",
       "      <th>quantite_stock</th>\n",
       "      <th>status_stock</th>\n",
       "    </tr>\n",
       "  </thead>\n",
       "  <tbody>\n",
       "  </tbody>\n",
       "</table>\n",
       "</div>"
      ],
      "text/plain": [
       "Empty DataFrame\n",
       "Columns: [id_produit, vente_web, prix, quantite_stock, status_stock]\n",
       "Index: []"
      ]
     },
     "execution_count": 14,
     "metadata": {},
     "output_type": "execute_result"
    }
   ],
   "source": [
    "erp[erp.isnull().any(axis=1)]"
   ]
  },
  {
   "cell_type": "code",
   "execution_count": 15,
   "id": "0ef28157",
   "metadata": {},
   "outputs": [
    {
     "data": {
      "text/plain": [
       "id_produit        0\n",
       "vente_web         0\n",
       "prix              0\n",
       "quantite_stock    0\n",
       "status_stock      0\n",
       "dtype: int64"
      ]
     },
     "execution_count": 15,
     "metadata": {},
     "output_type": "execute_result"
    }
   ],
   "source": [
    "erp.isnull().sum()"
   ]
  },
  {
   "cell_type": "markdown",
   "id": "19b9155c",
   "metadata": {},
   "source": [
    "Pas de valeurs nulles, cela vient confirmer ce qu'on avait vu avec la méthode info()"
   ]
  },
  {
   "cell_type": "markdown",
   "id": "039d7b59",
   "metadata": {},
   "source": [
    "### Traitements des doublons"
   ]
  },
  {
   "cell_type": "code",
   "execution_count": 16,
   "id": "a769a696",
   "metadata": {},
   "outputs": [
    {
     "data": {
      "text/html": [
       "<div>\n",
       "<style scoped>\n",
       "    .dataframe tbody tr th:only-of-type {\n",
       "        vertical-align: middle;\n",
       "    }\n",
       "\n",
       "    .dataframe tbody tr th {\n",
       "        vertical-align: top;\n",
       "    }\n",
       "\n",
       "    .dataframe thead th {\n",
       "        text-align: right;\n",
       "    }\n",
       "</style>\n",
       "<table border=\"1\" class=\"dataframe\">\n",
       "  <thead>\n",
       "    <tr style=\"text-align: right;\">\n",
       "      <th></th>\n",
       "      <th>id_produit</th>\n",
       "      <th>vente_web</th>\n",
       "      <th>prix</th>\n",
       "      <th>quantite_stock</th>\n",
       "      <th>status_stock</th>\n",
       "    </tr>\n",
       "  </thead>\n",
       "  <tbody>\n",
       "  </tbody>\n",
       "</table>\n",
       "</div>"
      ],
      "text/plain": [
       "Empty DataFrame\n",
       "Columns: [id_produit, vente_web, prix, quantite_stock, status_stock]\n",
       "Index: []"
      ]
     },
     "execution_count": 16,
     "metadata": {},
     "output_type": "execute_result"
    }
   ],
   "source": [
    "erp[erp.duplicated(subset='id_produit')]"
   ]
  },
  {
   "cell_type": "markdown",
   "id": "e20ea018",
   "metadata": {},
   "source": [
    "### Part des ventes web apparentes"
   ]
  },
  {
   "cell_type": "code",
   "execution_count": 17,
   "id": "72cb7597",
   "metadata": {
    "scrolled": true
   },
   "outputs": [
    {
     "data": {
      "text/plain": [
       "1    717\n",
       "0    108\n",
       "Name: vente_web, dtype: int64"
      ]
     },
     "execution_count": 17,
     "metadata": {},
     "output_type": "execute_result"
    }
   ],
   "source": [
    "erp['vente_web'].value_counts()"
   ]
  },
  {
   "cell_type": "markdown",
   "id": "cbfafc75",
   "metadata": {},
   "source": [
    "717 références vendues sur le web et 108 non vendues sur le web.\n",
    "\n",
    "Nous vérifierons si cela est vrai avec le fichier de liaison et web, si les produits affichés vendus sur le web sont bien vendus sur le web, et si ceux affichés non vendus sont bien non vendus sur le web."
   ]
  },
  {
   "cell_type": "markdown",
   "id": "efc742f5",
   "metadata": {},
   "source": [
    "### Vérification de la cohérence entre quantite_stock et status_stock"
   ]
  },
  {
   "cell_type": "code",
   "execution_count": 18,
   "id": "1dd8afec",
   "metadata": {},
   "outputs": [
    {
     "data": {
      "text/plain": [
       "instock       638\n",
       "outofstock    187\n",
       "Name: status_stock, dtype: int64"
      ]
     },
     "execution_count": 18,
     "metadata": {},
     "output_type": "execute_result"
    }
   ],
   "source": [
    "erp['status_stock'].value_counts()"
   ]
  },
  {
   "cell_type": "code",
   "execution_count": 19,
   "id": "9345d7ac",
   "metadata": {},
   "outputs": [
    {
     "data": {
      "text/plain": [
       "id_produit        188\n",
       "vente_web         188\n",
       "prix              188\n",
       "quantite_stock    188\n",
       "status_stock      188\n",
       "dtype: int64"
      ]
     },
     "execution_count": 19,
     "metadata": {},
     "output_type": "execute_result"
    }
   ],
   "source": [
    "erp[erp['quantite_stock']==0].count()"
   ]
  },
  {
   "cell_type": "markdown",
   "id": "bcc8509b",
   "metadata": {},
   "source": [
    "1 erreur : 1 produit est considéré en stock alors que sa quantité réelle en stock est nulle.\n",
    "\n",
    "Nous allons modifier cela en passant le status_stock à outofstock si quantite_stock=0."
   ]
  },
  {
   "cell_type": "code",
   "execution_count": 20,
   "id": "a8715e4a",
   "metadata": {},
   "outputs": [
    {
     "data": {
      "text/html": [
       "<div>\n",
       "<style scoped>\n",
       "    .dataframe tbody tr th:only-of-type {\n",
       "        vertical-align: middle;\n",
       "    }\n",
       "\n",
       "    .dataframe tbody tr th {\n",
       "        vertical-align: top;\n",
       "    }\n",
       "\n",
       "    .dataframe thead th {\n",
       "        text-align: right;\n",
       "    }\n",
       "</style>\n",
       "<table border=\"1\" class=\"dataframe\">\n",
       "  <thead>\n",
       "    <tr style=\"text-align: right;\">\n",
       "      <th></th>\n",
       "      <th>id_produit</th>\n",
       "      <th>vente_web</th>\n",
       "      <th>prix</th>\n",
       "      <th>quantite_stock</th>\n",
       "      <th>status_stock</th>\n",
       "    </tr>\n",
       "  </thead>\n",
       "  <tbody>\n",
       "    <tr>\n",
       "      <th>443</th>\n",
       "      <td>4954</td>\n",
       "      <td>1</td>\n",
       "      <td>25.0</td>\n",
       "      <td>0</td>\n",
       "      <td>instock</td>\n",
       "    </tr>\n",
       "  </tbody>\n",
       "</table>\n",
       "</div>"
      ],
      "text/plain": [
       "     id_produit vente_web  prix  quantite_stock status_stock\n",
       "443        4954         1  25.0               0      instock"
      ]
     },
     "execution_count": 20,
     "metadata": {},
     "output_type": "execute_result"
    }
   ],
   "source": [
    "erp.loc[(erp['quantite_stock']==0) & (erp['status_stock']=='instock'), :]"
   ]
  },
  {
   "cell_type": "code",
   "execution_count": 21,
   "id": "ef7ac06f",
   "metadata": {},
   "outputs": [],
   "source": [
    "erp.loc[(erp['quantite_stock']==0) & (erp['status_stock']=='instock'), 'status_stock'] = 'outofstock'"
   ]
  },
  {
   "cell_type": "code",
   "execution_count": 22,
   "id": "8d46095b",
   "metadata": {},
   "outputs": [
    {
     "data": {
      "text/plain": [
       "id_produit        0\n",
       "vente_web         0\n",
       "prix              0\n",
       "quantite_stock    0\n",
       "status_stock      0\n",
       "dtype: int64"
      ]
     },
     "execution_count": 22,
     "metadata": {},
     "output_type": "execute_result"
    }
   ],
   "source": [
    "erp.loc[(erp['quantite_stock']==0) & (erp['status_stock']=='instock'), :].count()"
   ]
  },
  {
   "cell_type": "markdown",
   "id": "71f465c5",
   "metadata": {},
   "source": [
    "<a id='liaison' ></a>\n",
    "## Fichier liaison <a href=\"#sommaire\" style=\"font-size : 10px ; padding-left:10px\">Retour Sommaire</a>"
   ]
  },
  {
   "cell_type": "code",
   "execution_count": 23,
   "id": "3760986a",
   "metadata": {},
   "outputs": [
    {
     "data": {
      "text/html": [
       "<div>\n",
       "<style scoped>\n",
       "    .dataframe tbody tr th:only-of-type {\n",
       "        vertical-align: middle;\n",
       "    }\n",
       "\n",
       "    .dataframe tbody tr th {\n",
       "        vertical-align: top;\n",
       "    }\n",
       "\n",
       "    .dataframe thead th {\n",
       "        text-align: right;\n",
       "    }\n",
       "</style>\n",
       "<table border=\"1\" class=\"dataframe\">\n",
       "  <thead>\n",
       "    <tr style=\"text-align: right;\">\n",
       "      <th></th>\n",
       "      <th>product_id</th>\n",
       "      <th>id_web</th>\n",
       "    </tr>\n",
       "  </thead>\n",
       "  <tbody>\n",
       "    <tr>\n",
       "      <th>0</th>\n",
       "      <td>3847</td>\n",
       "      <td>15298</td>\n",
       "    </tr>\n",
       "    <tr>\n",
       "      <th>1</th>\n",
       "      <td>3849</td>\n",
       "      <td>15296</td>\n",
       "    </tr>\n",
       "    <tr>\n",
       "      <th>2</th>\n",
       "      <td>3850</td>\n",
       "      <td>15300</td>\n",
       "    </tr>\n",
       "    <tr>\n",
       "      <th>3</th>\n",
       "      <td>4032</td>\n",
       "      <td>19814</td>\n",
       "    </tr>\n",
       "    <tr>\n",
       "      <th>4</th>\n",
       "      <td>4039</td>\n",
       "      <td>19815</td>\n",
       "    </tr>\n",
       "  </tbody>\n",
       "</table>\n",
       "</div>"
      ],
      "text/plain": [
       "   product_id id_web\n",
       "0        3847  15298\n",
       "1        3849  15296\n",
       "2        3850  15300\n",
       "3        4032  19814\n",
       "4        4039  19815"
      ]
     },
     "execution_count": 23,
     "metadata": {},
     "output_type": "execute_result"
    }
   ],
   "source": [
    "liaison.head()"
   ]
  },
  {
   "cell_type": "markdown",
   "id": "003e81d1",
   "metadata": {},
   "source": [
    "### Renommage colonne"
   ]
  },
  {
   "cell_type": "code",
   "execution_count": 24,
   "id": "edad00fd",
   "metadata": {},
   "outputs": [],
   "source": [
    "liaison.rename(columns={'product_id' : 'id_produit'}, inplace=True)"
   ]
  },
  {
   "cell_type": "markdown",
   "id": "d921db2c",
   "metadata": {},
   "source": [
    "### Description fichier"
   ]
  },
  {
   "cell_type": "code",
   "execution_count": 25,
   "id": "9becfe71",
   "metadata": {},
   "outputs": [
    {
     "data": {
      "text/plain": [
       "(825, 2)"
      ]
     },
     "execution_count": 25,
     "metadata": {},
     "output_type": "execute_result"
    }
   ],
   "source": [
    "liaison.shape"
   ]
  },
  {
   "cell_type": "code",
   "execution_count": 26,
   "id": "e0b8681f",
   "metadata": {},
   "outputs": [
    {
     "name": "stdout",
     "output_type": "stream",
     "text": [
      "<class 'pandas.core.frame.DataFrame'>\n",
      "RangeIndex: 825 entries, 0 to 824\n",
      "Data columns (total 2 columns):\n",
      " #   Column      Non-Null Count  Dtype \n",
      "---  ------      --------------  ----- \n",
      " 0   id_produit  825 non-null    int64 \n",
      " 1   id_web      734 non-null    object\n",
      "dtypes: int64(1), object(1)\n",
      "memory usage: 13.0+ KB\n"
     ]
    }
   ],
   "source": [
    "liaison.info()"
   ]
  },
  {
   "cell_type": "code",
   "execution_count": 27,
   "id": "5efff929",
   "metadata": {},
   "outputs": [
    {
     "data": {
      "text/html": [
       "<div>\n",
       "<style scoped>\n",
       "    .dataframe tbody tr th:only-of-type {\n",
       "        vertical-align: middle;\n",
       "    }\n",
       "\n",
       "    .dataframe tbody tr th {\n",
       "        vertical-align: top;\n",
       "    }\n",
       "\n",
       "    .dataframe thead th {\n",
       "        text-align: right;\n",
       "    }\n",
       "</style>\n",
       "<table border=\"1\" class=\"dataframe\">\n",
       "  <thead>\n",
       "    <tr style=\"text-align: right;\">\n",
       "      <th></th>\n",
       "      <th>id_produit</th>\n",
       "      <th>id_web</th>\n",
       "    </tr>\n",
       "  </thead>\n",
       "  <tbody>\n",
       "    <tr>\n",
       "      <th>count</th>\n",
       "      <td>825.000000</td>\n",
       "      <td>734.0</td>\n",
       "    </tr>\n",
       "    <tr>\n",
       "      <th>unique</th>\n",
       "      <td>NaN</td>\n",
       "      <td>734.0</td>\n",
       "    </tr>\n",
       "    <tr>\n",
       "      <th>top</th>\n",
       "      <td>NaN</td>\n",
       "      <td>15298.0</td>\n",
       "    </tr>\n",
       "    <tr>\n",
       "      <th>freq</th>\n",
       "      <td>NaN</td>\n",
       "      <td>1.0</td>\n",
       "    </tr>\n",
       "    <tr>\n",
       "      <th>mean</th>\n",
       "      <td>5162.597576</td>\n",
       "      <td>NaN</td>\n",
       "    </tr>\n",
       "    <tr>\n",
       "      <th>std</th>\n",
       "      <td>902.644635</td>\n",
       "      <td>NaN</td>\n",
       "    </tr>\n",
       "    <tr>\n",
       "      <th>min</th>\n",
       "      <td>3847.000000</td>\n",
       "      <td>NaN</td>\n",
       "    </tr>\n",
       "    <tr>\n",
       "      <th>25%</th>\n",
       "      <td>4348.000000</td>\n",
       "      <td>NaN</td>\n",
       "    </tr>\n",
       "    <tr>\n",
       "      <th>50%</th>\n",
       "      <td>4907.000000</td>\n",
       "      <td>NaN</td>\n",
       "    </tr>\n",
       "    <tr>\n",
       "      <th>75%</th>\n",
       "      <td>5805.000000</td>\n",
       "      <td>NaN</td>\n",
       "    </tr>\n",
       "    <tr>\n",
       "      <th>max</th>\n",
       "      <td>7338.000000</td>\n",
       "      <td>NaN</td>\n",
       "    </tr>\n",
       "  </tbody>\n",
       "</table>\n",
       "</div>"
      ],
      "text/plain": [
       "         id_produit   id_web\n",
       "count    825.000000    734.0\n",
       "unique          NaN    734.0\n",
       "top             NaN  15298.0\n",
       "freq            NaN      1.0\n",
       "mean    5162.597576      NaN\n",
       "std      902.644635      NaN\n",
       "min     3847.000000      NaN\n",
       "25%     4348.000000      NaN\n",
       "50%     4907.000000      NaN\n",
       "75%     5805.000000      NaN\n",
       "max     7338.000000      NaN"
      ]
     },
     "execution_count": 27,
     "metadata": {},
     "output_type": "execute_result"
    }
   ],
   "source": [
    "liaison.describe(include='all')"
   ]
  },
  {
   "cell_type": "markdown",
   "id": "5bc3b771",
   "metadata": {},
   "source": [
    "On a les 825 références de l'ERP représentées avec 734 correspondances dans web, soit 91 valeurs nulles pour id_web"
   ]
  },
  {
   "cell_type": "code",
   "execution_count": 28,
   "id": "455af77b",
   "metadata": {
    "scrolled": true
   },
   "outputs": [
    {
     "data": {
      "text/plain": [
       "id_produit     0\n",
       "id_web        91\n",
       "dtype: int64"
      ]
     },
     "execution_count": 28,
     "metadata": {},
     "output_type": "execute_result"
    }
   ],
   "source": [
    "liaison.isnull().sum()"
   ]
  },
  {
   "cell_type": "code",
   "execution_count": 29,
   "id": "b5d35cd7",
   "metadata": {},
   "outputs": [
    {
     "data": {
      "text/html": [
       "<div>\n",
       "<style scoped>\n",
       "    .dataframe tbody tr th:only-of-type {\n",
       "        vertical-align: middle;\n",
       "    }\n",
       "\n",
       "    .dataframe tbody tr th {\n",
       "        vertical-align: top;\n",
       "    }\n",
       "\n",
       "    .dataframe thead th {\n",
       "        text-align: right;\n",
       "    }\n",
       "</style>\n",
       "<table border=\"1\" class=\"dataframe\">\n",
       "  <thead>\n",
       "    <tr style=\"text-align: right;\">\n",
       "      <th></th>\n",
       "      <th>id_produit</th>\n",
       "      <th>id_web</th>\n",
       "    </tr>\n",
       "  </thead>\n",
       "  <tbody>\n",
       "    <tr>\n",
       "      <th>19</th>\n",
       "      <td>4055</td>\n",
       "      <td>NaN</td>\n",
       "    </tr>\n",
       "    <tr>\n",
       "      <th>49</th>\n",
       "      <td>4090</td>\n",
       "      <td>NaN</td>\n",
       "    </tr>\n",
       "    <tr>\n",
       "      <th>50</th>\n",
       "      <td>4092</td>\n",
       "      <td>NaN</td>\n",
       "    </tr>\n",
       "    <tr>\n",
       "      <th>119</th>\n",
       "      <td>4195</td>\n",
       "      <td>NaN</td>\n",
       "    </tr>\n",
       "    <tr>\n",
       "      <th>131</th>\n",
       "      <td>4209</td>\n",
       "      <td>NaN</td>\n",
       "    </tr>\n",
       "    <tr>\n",
       "      <th>...</th>\n",
       "      <td>...</td>\n",
       "      <td>...</td>\n",
       "    </tr>\n",
       "    <tr>\n",
       "      <th>817</th>\n",
       "      <td>7196</td>\n",
       "      <td>NaN</td>\n",
       "    </tr>\n",
       "    <tr>\n",
       "      <th>818</th>\n",
       "      <td>7200</td>\n",
       "      <td>NaN</td>\n",
       "    </tr>\n",
       "    <tr>\n",
       "      <th>819</th>\n",
       "      <td>7201</td>\n",
       "      <td>NaN</td>\n",
       "    </tr>\n",
       "    <tr>\n",
       "      <th>820</th>\n",
       "      <td>7203</td>\n",
       "      <td>NaN</td>\n",
       "    </tr>\n",
       "    <tr>\n",
       "      <th>821</th>\n",
       "      <td>7204</td>\n",
       "      <td>NaN</td>\n",
       "    </tr>\n",
       "  </tbody>\n",
       "</table>\n",
       "<p>91 rows × 2 columns</p>\n",
       "</div>"
      ],
      "text/plain": [
       "     id_produit id_web\n",
       "19         4055    NaN\n",
       "49         4090    NaN\n",
       "50         4092    NaN\n",
       "119        4195    NaN\n",
       "131        4209    NaN\n",
       "..          ...    ...\n",
       "817        7196    NaN\n",
       "818        7200    NaN\n",
       "819        7201    NaN\n",
       "820        7203    NaN\n",
       "821        7204    NaN\n",
       "\n",
       "[91 rows x 2 columns]"
      ]
     },
     "execution_count": 29,
     "metadata": {},
     "output_type": "execute_result"
    }
   ],
   "source": [
    "liaison[liaison.isnull().any(axis=1)]"
   ]
  },
  {
   "cell_type": "markdown",
   "id": "fdf17215",
   "metadata": {},
   "source": [
    "### Placement des produits erp sans correspondance dans une variable"
   ]
  },
  {
   "cell_type": "code",
   "execution_count": 30,
   "id": "d64a1fb3",
   "metadata": {},
   "outputs": [
    {
     "data": {
      "text/plain": [
       "0     4055\n",
       "1     4090\n",
       "2     4092\n",
       "3     4195\n",
       "4     4209\n",
       "      ... \n",
       "86    7196\n",
       "87    7200\n",
       "88    7201\n",
       "89    7203\n",
       "90    7204\n",
       "Name: id_produit, Length: 91, dtype: int64"
      ]
     },
     "execution_count": 30,
     "metadata": {},
     "output_type": "execute_result"
    }
   ],
   "source": [
    "produit_erp_sans_correspondance=liaison[liaison.isnull().any(axis=1)]['id_produit'].reset_index(drop=True)\n",
    "produit_erp_sans_correspondance"
   ]
  },
  {
   "cell_type": "markdown",
   "id": "d09e4e68",
   "metadata": {},
   "source": [
    "Nous allons supprimer ces valeurs nulles, car ces références ne trouvent pas de correspondance."
   ]
  },
  {
   "cell_type": "markdown",
   "id": "98fdd481",
   "metadata": {},
   "source": [
    "### Suppression des lignes sans correspondance"
   ]
  },
  {
   "cell_type": "code",
   "execution_count": 31,
   "id": "916ed7bc",
   "metadata": {},
   "outputs": [],
   "source": [
    "liaison.dropna(axis=0, how='any', inplace=True)"
   ]
  },
  {
   "cell_type": "code",
   "execution_count": 32,
   "id": "521ce7f3",
   "metadata": {},
   "outputs": [
    {
     "name": "stdout",
     "output_type": "stream",
     "text": [
      "<class 'pandas.core.frame.DataFrame'>\n",
      "Int64Index: 734 entries, 0 to 824\n",
      "Data columns (total 2 columns):\n",
      " #   Column      Non-Null Count  Dtype \n",
      "---  ------      --------------  ----- \n",
      " 0   id_produit  734 non-null    int64 \n",
      " 1   id_web      734 non-null    object\n",
      "dtypes: int64(1), object(1)\n",
      "memory usage: 17.2+ KB\n"
     ]
    }
   ],
   "source": [
    "liaison.info()"
   ]
  },
  {
   "cell_type": "markdown",
   "id": "fd45f96c",
   "metadata": {},
   "source": [
    "### Des erreurs à modifier pour la conversion"
   ]
  },
  {
   "cell_type": "code",
   "execution_count": 33,
   "id": "aefdc3b8",
   "metadata": {},
   "outputs": [],
   "source": [
    "# on la supprime car cette référence n'existe pas dans web\n",
    "liaison.drop(liaison[liaison['id_web']=='14680-1'].index, inplace=True)"
   ]
  },
  {
   "cell_type": "code",
   "execution_count": 34,
   "id": "95e02de6",
   "metadata": {},
   "outputs": [],
   "source": [
    "liaison.loc[liaison['id_web']=='bon-cadeau-25-euros', 'id_web']=19823\n",
    "liaison.loc[liaison['id_web']=='13127-1', 'id_web']=13128"
   ]
  },
  {
   "cell_type": "markdown",
   "id": "f6654521",
   "metadata": {},
   "source": [
    "### Conversion en entier de id_web\n",
    "Cela est rendu possible grâce aux modifications faites précédemment."
   ]
  },
  {
   "cell_type": "code",
   "execution_count": 35,
   "id": "6d42576c",
   "metadata": {},
   "outputs": [],
   "source": [
    "liaison['id_web']=liaison['id_web'].astype('int64', errors='raise')"
   ]
  },
  {
   "cell_type": "code",
   "execution_count": 36,
   "id": "a018daec",
   "metadata": {},
   "outputs": [
    {
     "name": "stdout",
     "output_type": "stream",
     "text": [
      "<class 'pandas.core.frame.DataFrame'>\n",
      "Int64Index: 733 entries, 0 to 824\n",
      "Data columns (total 2 columns):\n",
      " #   Column      Non-Null Count  Dtype\n",
      "---  ------      --------------  -----\n",
      " 0   id_produit  733 non-null    int64\n",
      " 1   id_web      733 non-null    int64\n",
      "dtypes: int64(2)\n",
      "memory usage: 17.2 KB\n"
     ]
    }
   ],
   "source": [
    "liaison.info()"
   ]
  },
  {
   "cell_type": "code",
   "execution_count": 37,
   "id": "5649a98e",
   "metadata": {},
   "outputs": [
    {
     "data": {
      "text/html": [
       "<div>\n",
       "<style scoped>\n",
       "    .dataframe tbody tr th:only-of-type {\n",
       "        vertical-align: middle;\n",
       "    }\n",
       "\n",
       "    .dataframe tbody tr th {\n",
       "        vertical-align: top;\n",
       "    }\n",
       "\n",
       "    .dataframe thead th {\n",
       "        text-align: right;\n",
       "    }\n",
       "</style>\n",
       "<table border=\"1\" class=\"dataframe\">\n",
       "  <thead>\n",
       "    <tr style=\"text-align: right;\">\n",
       "      <th></th>\n",
       "      <th>id_produit</th>\n",
       "      <th>id_web</th>\n",
       "    </tr>\n",
       "  </thead>\n",
       "  <tbody>\n",
       "    <tr>\n",
       "      <th>count</th>\n",
       "      <td>733.000000</td>\n",
       "      <td>733.00000</td>\n",
       "    </tr>\n",
       "    <tr>\n",
       "      <th>mean</th>\n",
       "      <td>5038.739427</td>\n",
       "      <td>14491.86221</td>\n",
       "    </tr>\n",
       "    <tr>\n",
       "      <th>std</th>\n",
       "      <td>786.311710</td>\n",
       "      <td>2975.99534</td>\n",
       "    </tr>\n",
       "    <tr>\n",
       "      <th>min</th>\n",
       "      <td>3847.000000</td>\n",
       "      <td>38.00000</td>\n",
       "    </tr>\n",
       "    <tr>\n",
       "      <th>25%</th>\n",
       "      <td>4287.000000</td>\n",
       "      <td>14371.00000</td>\n",
       "    </tr>\n",
       "    <tr>\n",
       "      <th>50%</th>\n",
       "      <td>4862.000000</td>\n",
       "      <td>15361.00000</td>\n",
       "    </tr>\n",
       "    <tr>\n",
       "      <th>75%</th>\n",
       "      <td>5712.000000</td>\n",
       "      <td>15870.00000</td>\n",
       "    </tr>\n",
       "    <tr>\n",
       "      <th>max</th>\n",
       "      <td>7338.000000</td>\n",
       "      <td>19823.00000</td>\n",
       "    </tr>\n",
       "  </tbody>\n",
       "</table>\n",
       "</div>"
      ],
      "text/plain": [
       "        id_produit       id_web\n",
       "count   733.000000    733.00000\n",
       "mean   5038.739427  14491.86221\n",
       "std     786.311710   2975.99534\n",
       "min    3847.000000     38.00000\n",
       "25%    4287.000000  14371.00000\n",
       "50%    4862.000000  15361.00000\n",
       "75%    5712.000000  15870.00000\n",
       "max    7338.000000  19823.00000"
      ]
     },
     "execution_count": 37,
     "metadata": {},
     "output_type": "execute_result"
    }
   ],
   "source": [
    "liaison.describe()"
   ]
  },
  {
   "cell_type": "markdown",
   "id": "dad6ce75",
   "metadata": {},
   "source": [
    "<a id='web' ></a>\n",
    "## Fichier web <a href=\"#sommaire\" style=\"font-size : 10px ; padding-left:10px\">Retour Sommaire</a>"
   ]
  },
  {
   "cell_type": "code",
   "execution_count": 38,
   "id": "3880f40e",
   "metadata": {},
   "outputs": [
    {
     "data": {
      "text/html": [
       "<div>\n",
       "<style scoped>\n",
       "    .dataframe tbody tr th:only-of-type {\n",
       "        vertical-align: middle;\n",
       "    }\n",
       "\n",
       "    .dataframe tbody tr th {\n",
       "        vertical-align: top;\n",
       "    }\n",
       "\n",
       "    .dataframe thead th {\n",
       "        text-align: right;\n",
       "    }\n",
       "</style>\n",
       "<table border=\"1\" class=\"dataframe\">\n",
       "  <thead>\n",
       "    <tr style=\"text-align: right;\">\n",
       "      <th></th>\n",
       "      <th>sku</th>\n",
       "      <th>virtual</th>\n",
       "      <th>downloadable</th>\n",
       "      <th>rating_count</th>\n",
       "      <th>average_rating</th>\n",
       "      <th>total_sales</th>\n",
       "      <th>tax_status</th>\n",
       "      <th>tax_class</th>\n",
       "      <th>post_author</th>\n",
       "      <th>post_date</th>\n",
       "      <th>...</th>\n",
       "      <th>post_name</th>\n",
       "      <th>post_modified</th>\n",
       "      <th>post_modified_gmt</th>\n",
       "      <th>post_content_filtered</th>\n",
       "      <th>post_parent</th>\n",
       "      <th>guid</th>\n",
       "      <th>menu_order</th>\n",
       "      <th>post_type</th>\n",
       "      <th>post_mime_type</th>\n",
       "      <th>comment_count</th>\n",
       "    </tr>\n",
       "  </thead>\n",
       "  <tbody>\n",
       "    <tr>\n",
       "      <th>0</th>\n",
       "      <td>bon-cadeau-25-euros</td>\n",
       "      <td>0</td>\n",
       "      <td>0</td>\n",
       "      <td>0</td>\n",
       "      <td>0.0</td>\n",
       "      <td>10.0</td>\n",
       "      <td>taxable</td>\n",
       "      <td>NaN</td>\n",
       "      <td>1.0</td>\n",
       "      <td>2018-06-01 13:53:46</td>\n",
       "      <td>...</td>\n",
       "      <td>bon-cadeau-de-25-euros</td>\n",
       "      <td>2018-06-01 14:13:57</td>\n",
       "      <td>2018-06-01 12:13:57</td>\n",
       "      <td>NaN</td>\n",
       "      <td>0.0</td>\n",
       "      <td>https://www.bottle-neck.fr/?post_type=product&amp;...</td>\n",
       "      <td>0.0</td>\n",
       "      <td>product</td>\n",
       "      <td>NaN</td>\n",
       "      <td>0.0</td>\n",
       "    </tr>\n",
       "    <tr>\n",
       "      <th>1</th>\n",
       "      <td>15298</td>\n",
       "      <td>0</td>\n",
       "      <td>0</td>\n",
       "      <td>0</td>\n",
       "      <td>0.0</td>\n",
       "      <td>6.0</td>\n",
       "      <td>taxable</td>\n",
       "      <td>NaN</td>\n",
       "      <td>2.0</td>\n",
       "      <td>2018-02-08 12:58:52</td>\n",
       "      <td>...</td>\n",
       "      <td>pierre-jean-villa-saint-joseph-preface-2018</td>\n",
       "      <td>2019-12-30 09:30:29</td>\n",
       "      <td>2019-12-30 08:30:29</td>\n",
       "      <td>NaN</td>\n",
       "      <td>0.0</td>\n",
       "      <td>https://www.bottle-neck.fr/?post_type=product&amp;...</td>\n",
       "      <td>0.0</td>\n",
       "      <td>product</td>\n",
       "      <td>NaN</td>\n",
       "      <td>0.0</td>\n",
       "    </tr>\n",
       "    <tr>\n",
       "      <th>2</th>\n",
       "      <td>15296</td>\n",
       "      <td>0</td>\n",
       "      <td>0</td>\n",
       "      <td>0</td>\n",
       "      <td>0.0</td>\n",
       "      <td>0.0</td>\n",
       "      <td>taxable</td>\n",
       "      <td>NaN</td>\n",
       "      <td>2.0</td>\n",
       "      <td>2018-02-08 13:49:41</td>\n",
       "      <td>...</td>\n",
       "      <td>pierre-jean-villa-saint-joseph-tilde-2017</td>\n",
       "      <td>2019-12-21 09:00:17</td>\n",
       "      <td>2019-12-21 08:00:17</td>\n",
       "      <td>NaN</td>\n",
       "      <td>0.0</td>\n",
       "      <td>https://www.bottle-neck.fr/?post_type=product&amp;...</td>\n",
       "      <td>0.0</td>\n",
       "      <td>product</td>\n",
       "      <td>NaN</td>\n",
       "      <td>0.0</td>\n",
       "    </tr>\n",
       "    <tr>\n",
       "      <th>3</th>\n",
       "      <td>15300</td>\n",
       "      <td>0</td>\n",
       "      <td>0</td>\n",
       "      <td>0</td>\n",
       "      <td>0.0</td>\n",
       "      <td>0.0</td>\n",
       "      <td>taxable</td>\n",
       "      <td>NaN</td>\n",
       "      <td>2.0</td>\n",
       "      <td>2018-02-08 14:08:36</td>\n",
       "      <td>...</td>\n",
       "      <td>pierre-jean-villa-croze-hermitage-accroche-coe...</td>\n",
       "      <td>2020-06-26 18:15:03</td>\n",
       "      <td>2020-06-26 16:15:03</td>\n",
       "      <td>NaN</td>\n",
       "      <td>0.0</td>\n",
       "      <td>https://www.bottle-neck.fr/?post_type=product&amp;...</td>\n",
       "      <td>0.0</td>\n",
       "      <td>product</td>\n",
       "      <td>NaN</td>\n",
       "      <td>0.0</td>\n",
       "    </tr>\n",
       "    <tr>\n",
       "      <th>4</th>\n",
       "      <td>19814</td>\n",
       "      <td>0</td>\n",
       "      <td>0</td>\n",
       "      <td>0</td>\n",
       "      <td>0.0</td>\n",
       "      <td>3.0</td>\n",
       "      <td>taxable</td>\n",
       "      <td>NaN</td>\n",
       "      <td>2.0</td>\n",
       "      <td>2018-02-09 14:01:05</td>\n",
       "      <td>...</td>\n",
       "      <td>pierre-jean-villa-igp-gamine-2018</td>\n",
       "      <td>2020-01-04 16:36:01</td>\n",
       "      <td>2020-01-04 15:36:01</td>\n",
       "      <td>NaN</td>\n",
       "      <td>0.0</td>\n",
       "      <td>https://www.bottle-neck.fr/?post_type=product&amp;...</td>\n",
       "      <td>0.0</td>\n",
       "      <td>product</td>\n",
       "      <td>NaN</td>\n",
       "      <td>0.0</td>\n",
       "    </tr>\n",
       "  </tbody>\n",
       "</table>\n",
       "<p>5 rows × 28 columns</p>\n",
       "</div>"
      ],
      "text/plain": [
       "                   sku  virtual  downloadable  rating_count  average_rating  \\\n",
       "0  bon-cadeau-25-euros        0             0             0             0.0   \n",
       "1                15298        0             0             0             0.0   \n",
       "2                15296        0             0             0             0.0   \n",
       "3                15300        0             0             0             0.0   \n",
       "4                19814        0             0             0             0.0   \n",
       "\n",
       "   total_sales tax_status  tax_class  post_author           post_date  ...  \\\n",
       "0         10.0    taxable        NaN          1.0 2018-06-01 13:53:46  ...   \n",
       "1          6.0    taxable        NaN          2.0 2018-02-08 12:58:52  ...   \n",
       "2          0.0    taxable        NaN          2.0 2018-02-08 13:49:41  ...   \n",
       "3          0.0    taxable        NaN          2.0 2018-02-08 14:08:36  ...   \n",
       "4          3.0    taxable        NaN          2.0 2018-02-09 14:01:05  ...   \n",
       "\n",
       "                                           post_name       post_modified  \\\n",
       "0                             bon-cadeau-de-25-euros 2018-06-01 14:13:57   \n",
       "1        pierre-jean-villa-saint-joseph-preface-2018 2019-12-30 09:30:29   \n",
       "2          pierre-jean-villa-saint-joseph-tilde-2017 2019-12-21 09:00:17   \n",
       "3  pierre-jean-villa-croze-hermitage-accroche-coe... 2020-06-26 18:15:03   \n",
       "4                  pierre-jean-villa-igp-gamine-2018 2020-01-04 16:36:01   \n",
       "\n",
       "    post_modified_gmt post_content_filtered post_parent  \\\n",
       "0 2018-06-01 12:13:57                   NaN         0.0   \n",
       "1 2019-12-30 08:30:29                   NaN         0.0   \n",
       "2 2019-12-21 08:00:17                   NaN         0.0   \n",
       "3 2020-06-26 16:15:03                   NaN         0.0   \n",
       "4 2020-01-04 15:36:01                   NaN         0.0   \n",
       "\n",
       "                                                guid menu_order  post_type  \\\n",
       "0  https://www.bottle-neck.fr/?post_type=product&...        0.0    product   \n",
       "1  https://www.bottle-neck.fr/?post_type=product&...        0.0    product   \n",
       "2  https://www.bottle-neck.fr/?post_type=product&...        0.0    product   \n",
       "3  https://www.bottle-neck.fr/?post_type=product&...        0.0    product   \n",
       "4  https://www.bottle-neck.fr/?post_type=product&...        0.0    product   \n",
       "\n",
       "  post_mime_type comment_count  \n",
       "0            NaN           0.0  \n",
       "1            NaN           0.0  \n",
       "2            NaN           0.0  \n",
       "3            NaN           0.0  \n",
       "4            NaN           0.0  \n",
       "\n",
       "[5 rows x 28 columns]"
      ]
     },
     "execution_count": 38,
     "metadata": {},
     "output_type": "execute_result"
    }
   ],
   "source": [
    "web.head()"
   ]
  },
  {
   "cell_type": "code",
   "execution_count": 39,
   "id": "2eacb7d0",
   "metadata": {},
   "outputs": [
    {
     "data": {
      "text/plain": [
       "Index(['sku', 'virtual', 'downloadable', 'rating_count', 'average_rating',\n",
       "       'total_sales', 'tax_status', 'tax_class', 'post_author', 'post_date',\n",
       "       'post_date_gmt', 'post_content', 'post_title', 'post_excerpt',\n",
       "       'post_status', 'comment_status', 'ping_status', 'post_password',\n",
       "       'post_name', 'post_modified', 'post_modified_gmt',\n",
       "       'post_content_filtered', 'post_parent', 'guid', 'menu_order',\n",
       "       'post_type', 'post_mime_type', 'comment_count'],\n",
       "      dtype='object')"
      ]
     },
     "execution_count": 39,
     "metadata": {},
     "output_type": "execute_result"
    }
   ],
   "source": [
    "web.columns"
   ]
  },
  {
   "cell_type": "markdown",
   "id": "30645f13",
   "metadata": {},
   "source": [
    "### Supression des colonnes inutiles"
   ]
  },
  {
   "cell_type": "code",
   "execution_count": 40,
   "id": "813ecd98",
   "metadata": {},
   "outputs": [],
   "source": [
    "web.drop(columns=['virtual', 'downloadable', 'rating_count', 'average_rating',\n",
    "        'tax_status', 'tax_class', 'post_author',\n",
    "       'post_date_gmt', 'post_content', 'post_excerpt',\n",
    "       'post_status', 'comment_status', 'ping_status', 'post_password',\n",
    "       'post_name', 'post_modified', 'post_modified_gmt',\n",
    "       'post_content_filtered', 'post_parent', 'guid', 'menu_order',\n",
    "       'post_mime_type', 'comment_count'], inplace=True)"
   ]
  },
  {
   "cell_type": "code",
   "execution_count": 41,
   "id": "791349a3",
   "metadata": {},
   "outputs": [
    {
     "data": {
      "text/html": [
       "<div>\n",
       "<style scoped>\n",
       "    .dataframe tbody tr th:only-of-type {\n",
       "        vertical-align: middle;\n",
       "    }\n",
       "\n",
       "    .dataframe tbody tr th {\n",
       "        vertical-align: top;\n",
       "    }\n",
       "\n",
       "    .dataframe thead th {\n",
       "        text-align: right;\n",
       "    }\n",
       "</style>\n",
       "<table border=\"1\" class=\"dataframe\">\n",
       "  <thead>\n",
       "    <tr style=\"text-align: right;\">\n",
       "      <th></th>\n",
       "      <th>sku</th>\n",
       "      <th>total_sales</th>\n",
       "      <th>post_date</th>\n",
       "      <th>post_title</th>\n",
       "      <th>post_type</th>\n",
       "    </tr>\n",
       "  </thead>\n",
       "  <tbody>\n",
       "    <tr>\n",
       "      <th>0</th>\n",
       "      <td>bon-cadeau-25-euros</td>\n",
       "      <td>10.0</td>\n",
       "      <td>2018-06-01 13:53:46</td>\n",
       "      <td>Bon cadeau de 25€</td>\n",
       "      <td>product</td>\n",
       "    </tr>\n",
       "    <tr>\n",
       "      <th>1</th>\n",
       "      <td>15298</td>\n",
       "      <td>6.0</td>\n",
       "      <td>2018-02-08 12:58:52</td>\n",
       "      <td>Pierre Jean Villa Saint-Joseph Préface 2018</td>\n",
       "      <td>product</td>\n",
       "    </tr>\n",
       "    <tr>\n",
       "      <th>2</th>\n",
       "      <td>15296</td>\n",
       "      <td>0.0</td>\n",
       "      <td>2018-02-08 13:49:41</td>\n",
       "      <td>Pierre Jean Villa Saint-Joseph Rouge Tildé 2017</td>\n",
       "      <td>product</td>\n",
       "    </tr>\n",
       "    <tr>\n",
       "      <th>3</th>\n",
       "      <td>15300</td>\n",
       "      <td>0.0</td>\n",
       "      <td>2018-02-08 14:08:36</td>\n",
       "      <td>Pierre Jean Villa Crozes-Hermitage Accroche Co...</td>\n",
       "      <td>product</td>\n",
       "    </tr>\n",
       "    <tr>\n",
       "      <th>4</th>\n",
       "      <td>19814</td>\n",
       "      <td>3.0</td>\n",
       "      <td>2018-02-09 14:01:05</td>\n",
       "      <td>Pierre Jean Villa IGP Collines Rhodaniennes Ga...</td>\n",
       "      <td>product</td>\n",
       "    </tr>\n",
       "  </tbody>\n",
       "</table>\n",
       "</div>"
      ],
      "text/plain": [
       "                   sku  total_sales           post_date  \\\n",
       "0  bon-cadeau-25-euros         10.0 2018-06-01 13:53:46   \n",
       "1                15298          6.0 2018-02-08 12:58:52   \n",
       "2                15296          0.0 2018-02-08 13:49:41   \n",
       "3                15300          0.0 2018-02-08 14:08:36   \n",
       "4                19814          3.0 2018-02-09 14:01:05   \n",
       "\n",
       "                                          post_title post_type  \n",
       "0                                  Bon cadeau de 25€   product  \n",
       "1        Pierre Jean Villa Saint-Joseph Préface 2018   product  \n",
       "2    Pierre Jean Villa Saint-Joseph Rouge Tildé 2017   product  \n",
       "3  Pierre Jean Villa Crozes-Hermitage Accroche Co...   product  \n",
       "4  Pierre Jean Villa IGP Collines Rhodaniennes Ga...   product  "
      ]
     },
     "execution_count": 41,
     "metadata": {},
     "output_type": "execute_result"
    }
   ],
   "source": [
    "web.head()"
   ]
  },
  {
   "cell_type": "markdown",
   "id": "d7cdd8ee",
   "metadata": {},
   "source": [
    "### Ces produits n'ont pas de références mais ont d'autres infos, on les supprime car aucune vente"
   ]
  },
  {
   "cell_type": "code",
   "execution_count": 42,
   "id": "b486448c",
   "metadata": {},
   "outputs": [
    {
     "data": {
      "text/html": [
       "<div>\n",
       "<style scoped>\n",
       "    .dataframe tbody tr th:only-of-type {\n",
       "        vertical-align: middle;\n",
       "    }\n",
       "\n",
       "    .dataframe tbody tr th {\n",
       "        vertical-align: top;\n",
       "    }\n",
       "\n",
       "    .dataframe thead th {\n",
       "        text-align: right;\n",
       "    }\n",
       "</style>\n",
       "<table border=\"1\" class=\"dataframe\">\n",
       "  <thead>\n",
       "    <tr style=\"text-align: right;\">\n",
       "      <th></th>\n",
       "      <th>sku</th>\n",
       "      <th>total_sales</th>\n",
       "      <th>post_date</th>\n",
       "      <th>post_title</th>\n",
       "      <th>post_type</th>\n",
       "    </tr>\n",
       "  </thead>\n",
       "  <tbody>\n",
       "    <tr>\n",
       "      <th>470</th>\n",
       "      <td>NaN</td>\n",
       "      <td>0.0</td>\n",
       "      <td>2018-07-31 12:07:23</td>\n",
       "      <td>Pierre Jean Villa Côte Rôtie Fongeant 2017</td>\n",
       "      <td>product</td>\n",
       "    </tr>\n",
       "    <tr>\n",
       "      <th>471</th>\n",
       "      <td>NaN</td>\n",
       "      <td>0.0</td>\n",
       "      <td>2018-08-08 11:23:43</td>\n",
       "      <td>Pierre Jean Villa Condrieu Jardin Suspendu 2018</td>\n",
       "      <td>product</td>\n",
       "    </tr>\n",
       "  </tbody>\n",
       "</table>\n",
       "</div>"
      ],
      "text/plain": [
       "     sku  total_sales           post_date  \\\n",
       "470  NaN          0.0 2018-07-31 12:07:23   \n",
       "471  NaN          0.0 2018-08-08 11:23:43   \n",
       "\n",
       "                                          post_title post_type  \n",
       "470       Pierre Jean Villa Côte Rôtie Fongeant 2017   product  \n",
       "471  Pierre Jean Villa Condrieu Jardin Suspendu 2018   product  "
      ]
     },
     "execution_count": 42,
     "metadata": {},
     "output_type": "execute_result"
    }
   ],
   "source": [
    "web.loc[(web['sku'].isnull()) & (~web['total_sales'].isnull()), :]"
   ]
  },
  {
   "cell_type": "markdown",
   "id": "49dd001d",
   "metadata": {},
   "source": [
    "### Renommage des colonnes "
   ]
  },
  {
   "cell_type": "code",
   "execution_count": 43,
   "id": "ccc6d7dc",
   "metadata": {},
   "outputs": [],
   "source": [
    "web.rename(columns={'sku' : 'id_web', 'total_sales' : 'total_vente',\n",
    "                    'post_date' : 'date_creation', 'post_title' : 'description'}, inplace=True)"
   ]
  },
  {
   "cell_type": "markdown",
   "id": "13bffcfd",
   "metadata": {},
   "source": [
    "### Exploration fichier"
   ]
  },
  {
   "cell_type": "code",
   "execution_count": 44,
   "id": "8bffd36e",
   "metadata": {},
   "outputs": [
    {
     "name": "stdout",
     "output_type": "stream",
     "text": [
      "<class 'pandas.core.frame.DataFrame'>\n",
      "RangeIndex: 1513 entries, 0 to 1512\n",
      "Data columns (total 5 columns):\n",
      " #   Column         Non-Null Count  Dtype         \n",
      "---  ------         --------------  -----         \n",
      " 0   id_web         1428 non-null   object        \n",
      " 1   total_vente    1430 non-null   float64       \n",
      " 2   date_creation  1430 non-null   datetime64[ns]\n",
      " 3   description    1430 non-null   object        \n",
      " 4   post_type      1430 non-null   object        \n",
      "dtypes: datetime64[ns](1), float64(1), object(3)\n",
      "memory usage: 59.2+ KB\n"
     ]
    }
   ],
   "source": [
    "web.info()"
   ]
  },
  {
   "cell_type": "markdown",
   "id": "e9d24841",
   "metadata": {},
   "source": [
    "### Valeurs nulles"
   ]
  },
  {
   "cell_type": "code",
   "execution_count": 45,
   "id": "57b11340",
   "metadata": {},
   "outputs": [
    {
     "data": {
      "text/plain": [
       "id_web           85\n",
       "total_vente      83\n",
       "date_creation    83\n",
       "description      83\n",
       "post_type        83\n",
       "dtype: int64"
      ]
     },
     "execution_count": 45,
     "metadata": {},
     "output_type": "execute_result"
    }
   ],
   "source": [
    "web.isnull().sum()"
   ]
  },
  {
   "cell_type": "code",
   "execution_count": 46,
   "id": "050820dd",
   "metadata": {},
   "outputs": [
    {
     "data": {
      "text/html": [
       "<div>\n",
       "<style scoped>\n",
       "    .dataframe tbody tr th:only-of-type {\n",
       "        vertical-align: middle;\n",
       "    }\n",
       "\n",
       "    .dataframe tbody tr th {\n",
       "        vertical-align: top;\n",
       "    }\n",
       "\n",
       "    .dataframe thead th {\n",
       "        text-align: right;\n",
       "    }\n",
       "</style>\n",
       "<table border=\"1\" class=\"dataframe\">\n",
       "  <thead>\n",
       "    <tr style=\"text-align: right;\">\n",
       "      <th></th>\n",
       "      <th>id_web</th>\n",
       "      <th>total_vente</th>\n",
       "      <th>date_creation</th>\n",
       "      <th>description</th>\n",
       "      <th>post_type</th>\n",
       "    </tr>\n",
       "  </thead>\n",
       "  <tbody>\n",
       "    <tr>\n",
       "      <th>178</th>\n",
       "      <td>NaN</td>\n",
       "      <td>NaN</td>\n",
       "      <td>NaT</td>\n",
       "      <td>NaN</td>\n",
       "      <td>NaN</td>\n",
       "    </tr>\n",
       "    <tr>\n",
       "      <th>179</th>\n",
       "      <td>NaN</td>\n",
       "      <td>NaN</td>\n",
       "      <td>NaT</td>\n",
       "      <td>NaN</td>\n",
       "      <td>NaN</td>\n",
       "    </tr>\n",
       "    <tr>\n",
       "      <th>227</th>\n",
       "      <td>NaN</td>\n",
       "      <td>NaN</td>\n",
       "      <td>NaT</td>\n",
       "      <td>NaN</td>\n",
       "      <td>NaN</td>\n",
       "    </tr>\n",
       "    <tr>\n",
       "      <th>230</th>\n",
       "      <td>NaN</td>\n",
       "      <td>NaN</td>\n",
       "      <td>NaT</td>\n",
       "      <td>NaN</td>\n",
       "      <td>NaN</td>\n",
       "    </tr>\n",
       "    <tr>\n",
       "      <th>231</th>\n",
       "      <td>NaN</td>\n",
       "      <td>NaN</td>\n",
       "      <td>NaT</td>\n",
       "      <td>NaN</td>\n",
       "      <td>NaN</td>\n",
       "    </tr>\n",
       "    <tr>\n",
       "      <th>...</th>\n",
       "      <td>...</td>\n",
       "      <td>...</td>\n",
       "      <td>...</td>\n",
       "      <td>...</td>\n",
       "      <td>...</td>\n",
       "    </tr>\n",
       "    <tr>\n",
       "      <th>792</th>\n",
       "      <td>NaN</td>\n",
       "      <td>NaN</td>\n",
       "      <td>NaT</td>\n",
       "      <td>NaN</td>\n",
       "      <td>NaN</td>\n",
       "    </tr>\n",
       "    <tr>\n",
       "      <th>793</th>\n",
       "      <td>NaN</td>\n",
       "      <td>NaN</td>\n",
       "      <td>NaT</td>\n",
       "      <td>NaN</td>\n",
       "      <td>NaN</td>\n",
       "    </tr>\n",
       "    <tr>\n",
       "      <th>794</th>\n",
       "      <td>NaN</td>\n",
       "      <td>NaN</td>\n",
       "      <td>NaT</td>\n",
       "      <td>NaN</td>\n",
       "      <td>NaN</td>\n",
       "    </tr>\n",
       "    <tr>\n",
       "      <th>795</th>\n",
       "      <td>NaN</td>\n",
       "      <td>NaN</td>\n",
       "      <td>NaT</td>\n",
       "      <td>NaN</td>\n",
       "      <td>NaN</td>\n",
       "    </tr>\n",
       "    <tr>\n",
       "      <th>796</th>\n",
       "      <td>NaN</td>\n",
       "      <td>NaN</td>\n",
       "      <td>NaT</td>\n",
       "      <td>NaN</td>\n",
       "      <td>NaN</td>\n",
       "    </tr>\n",
       "  </tbody>\n",
       "</table>\n",
       "<p>85 rows × 5 columns</p>\n",
       "</div>"
      ],
      "text/plain": [
       "    id_web  total_vente date_creation description post_type\n",
       "178    NaN          NaN           NaT         NaN       NaN\n",
       "179    NaN          NaN           NaT         NaN       NaN\n",
       "227    NaN          NaN           NaT         NaN       NaN\n",
       "230    NaN          NaN           NaT         NaN       NaN\n",
       "231    NaN          NaN           NaT         NaN       NaN\n",
       "..     ...          ...           ...         ...       ...\n",
       "792    NaN          NaN           NaT         NaN       NaN\n",
       "793    NaN          NaN           NaT         NaN       NaN\n",
       "794    NaN          NaN           NaT         NaN       NaN\n",
       "795    NaN          NaN           NaT         NaN       NaN\n",
       "796    NaN          NaN           NaT         NaN       NaN\n",
       "\n",
       "[85 rows x 5 columns]"
      ]
     },
     "execution_count": 46,
     "metadata": {},
     "output_type": "execute_result"
    }
   ],
   "source": [
    "web[web.isnull().any(axis=1)]"
   ]
  },
  {
   "cell_type": "markdown",
   "id": "6b734252",
   "metadata": {},
   "source": [
    "### Suppression des valeurs nulles"
   ]
  },
  {
   "cell_type": "code",
   "execution_count": 47,
   "id": "57d6c543",
   "metadata": {},
   "outputs": [],
   "source": [
    "web.dropna(axis=0, how='any', inplace=True)"
   ]
  },
  {
   "cell_type": "code",
   "execution_count": 48,
   "id": "b0805a12",
   "metadata": {},
   "outputs": [
    {
     "data": {
      "text/html": [
       "<div>\n",
       "<style scoped>\n",
       "    .dataframe tbody tr th:only-of-type {\n",
       "        vertical-align: middle;\n",
       "    }\n",
       "\n",
       "    .dataframe tbody tr th {\n",
       "        vertical-align: top;\n",
       "    }\n",
       "\n",
       "    .dataframe thead th {\n",
       "        text-align: right;\n",
       "    }\n",
       "</style>\n",
       "<table border=\"1\" class=\"dataframe\">\n",
       "  <thead>\n",
       "    <tr style=\"text-align: right;\">\n",
       "      <th></th>\n",
       "      <th>id_web</th>\n",
       "      <th>total_vente</th>\n",
       "      <th>date_creation</th>\n",
       "      <th>description</th>\n",
       "      <th>post_type</th>\n",
       "    </tr>\n",
       "  </thead>\n",
       "  <tbody>\n",
       "    <tr>\n",
       "      <th>0</th>\n",
       "      <td>bon-cadeau-25-euros</td>\n",
       "      <td>10.0</td>\n",
       "      <td>2018-06-01 13:53:46</td>\n",
       "      <td>Bon cadeau de 25€</td>\n",
       "      <td>product</td>\n",
       "    </tr>\n",
       "    <tr>\n",
       "      <th>1</th>\n",
       "      <td>15298</td>\n",
       "      <td>6.0</td>\n",
       "      <td>2018-02-08 12:58:52</td>\n",
       "      <td>Pierre Jean Villa Saint-Joseph Préface 2018</td>\n",
       "      <td>product</td>\n",
       "    </tr>\n",
       "    <tr>\n",
       "      <th>2</th>\n",
       "      <td>15296</td>\n",
       "      <td>0.0</td>\n",
       "      <td>2018-02-08 13:49:41</td>\n",
       "      <td>Pierre Jean Villa Saint-Joseph Rouge Tildé 2017</td>\n",
       "      <td>product</td>\n",
       "    </tr>\n",
       "    <tr>\n",
       "      <th>3</th>\n",
       "      <td>15300</td>\n",
       "      <td>0.0</td>\n",
       "      <td>2018-02-08 14:08:36</td>\n",
       "      <td>Pierre Jean Villa Crozes-Hermitage Accroche Co...</td>\n",
       "      <td>product</td>\n",
       "    </tr>\n",
       "    <tr>\n",
       "      <th>4</th>\n",
       "      <td>19814</td>\n",
       "      <td>3.0</td>\n",
       "      <td>2018-02-09 14:01:05</td>\n",
       "      <td>Pierre Jean Villa IGP Collines Rhodaniennes Ga...</td>\n",
       "      <td>product</td>\n",
       "    </tr>\n",
       "  </tbody>\n",
       "</table>\n",
       "</div>"
      ],
      "text/plain": [
       "                id_web  total_vente       date_creation  \\\n",
       "0  bon-cadeau-25-euros         10.0 2018-06-01 13:53:46   \n",
       "1                15298          6.0 2018-02-08 12:58:52   \n",
       "2                15296          0.0 2018-02-08 13:49:41   \n",
       "3                15300          0.0 2018-02-08 14:08:36   \n",
       "4                19814          3.0 2018-02-09 14:01:05   \n",
       "\n",
       "                                         description post_type  \n",
       "0                                  Bon cadeau de 25€   product  \n",
       "1        Pierre Jean Villa Saint-Joseph Préface 2018   product  \n",
       "2    Pierre Jean Villa Saint-Joseph Rouge Tildé 2017   product  \n",
       "3  Pierre Jean Villa Crozes-Hermitage Accroche Co...   product  \n",
       "4  Pierre Jean Villa IGP Collines Rhodaniennes Ga...   product  "
      ]
     },
     "execution_count": 48,
     "metadata": {},
     "output_type": "execute_result"
    }
   ],
   "source": [
    "web.head()"
   ]
  },
  {
   "cell_type": "code",
   "execution_count": 49,
   "id": "4ea765e4",
   "metadata": {},
   "outputs": [
    {
     "name": "stdout",
     "output_type": "stream",
     "text": [
      "<class 'pandas.core.frame.DataFrame'>\n",
      "Int64Index: 1428 entries, 0 to 1512\n",
      "Data columns (total 5 columns):\n",
      " #   Column         Non-Null Count  Dtype         \n",
      "---  ------         --------------  -----         \n",
      " 0   id_web         1428 non-null   object        \n",
      " 1   total_vente    1428 non-null   float64       \n",
      " 2   date_creation  1428 non-null   datetime64[ns]\n",
      " 3   description    1428 non-null   object        \n",
      " 4   post_type      1428 non-null   object        \n",
      "dtypes: datetime64[ns](1), float64(1), object(3)\n",
      "memory usage: 66.9+ KB\n"
     ]
    }
   ],
   "source": [
    "web.info()"
   ]
  },
  {
   "cell_type": "markdown",
   "id": "8839cea1",
   "metadata": {},
   "source": [
    "### Suppression des type attachment\n",
    "Cela correspond aux photos associées aux références, ce n'est pas utile pour l'analyse."
   ]
  },
  {
   "cell_type": "code",
   "execution_count": 50,
   "id": "c04fcf6d",
   "metadata": {},
   "outputs": [
    {
     "data": {
      "text/plain": [
       "product       714\n",
       "attachment    714\n",
       "Name: post_type, dtype: int64"
      ]
     },
     "execution_count": 50,
     "metadata": {},
     "output_type": "execute_result"
    }
   ],
   "source": [
    "web['post_type'].value_counts()"
   ]
  },
  {
   "cell_type": "code",
   "execution_count": 51,
   "id": "67ebe652",
   "metadata": {},
   "outputs": [],
   "source": [
    "web.drop(web[web['post_type']=='attachment'].index, inplace=True)"
   ]
  },
  {
   "cell_type": "code",
   "execution_count": 52,
   "id": "edeaac18",
   "metadata": {},
   "outputs": [],
   "source": [
    "web.drop(columns='post_type', inplace=True)"
   ]
  },
  {
   "cell_type": "markdown",
   "id": "7b3644d4",
   "metadata": {},
   "source": [
    "### Modification du type de 'id_web'"
   ]
  },
  {
   "cell_type": "code",
   "execution_count": 53,
   "id": "03545d4a",
   "metadata": {},
   "outputs": [],
   "source": [
    "web.loc[web['id_web']=='bon-cadeau-25-euros', 'id_web']=19823\n",
    "web.loc[web['id_web']=='13127-1', 'id_web']=13128"
   ]
  },
  {
   "cell_type": "code",
   "execution_count": 54,
   "id": "643465ca",
   "metadata": {},
   "outputs": [],
   "source": [
    "web['id_web']=web['id_web'].astype('int64', errors='raise')"
   ]
  },
  {
   "cell_type": "markdown",
   "id": "0ca25993",
   "metadata": {},
   "source": [
    "### Modification du type de 'total_vente'"
   ]
  },
  {
   "cell_type": "code",
   "execution_count": 55,
   "id": "b68af611",
   "metadata": {},
   "outputs": [],
   "source": [
    "web['total_vente']=web['total_vente'].astype('int64', errors='raise')"
   ]
  },
  {
   "cell_type": "code",
   "execution_count": 56,
   "id": "74b7cd65",
   "metadata": {},
   "outputs": [
    {
     "name": "stdout",
     "output_type": "stream",
     "text": [
      "<class 'pandas.core.frame.DataFrame'>\n",
      "Int64Index: 714 entries, 0 to 798\n",
      "Data columns (total 4 columns):\n",
      " #   Column         Non-Null Count  Dtype         \n",
      "---  ------         --------------  -----         \n",
      " 0   id_web         714 non-null    int64         \n",
      " 1   total_vente    714 non-null    int64         \n",
      " 2   date_creation  714 non-null    datetime64[ns]\n",
      " 3   description    714 non-null    object        \n",
      "dtypes: datetime64[ns](1), int64(2), object(1)\n",
      "memory usage: 27.9+ KB\n"
     ]
    }
   ],
   "source": [
    "web.info()"
   ]
  },
  {
   "cell_type": "code",
   "execution_count": 57,
   "id": "0171e923",
   "metadata": {},
   "outputs": [
    {
     "data": {
      "text/html": [
       "<div>\n",
       "<style scoped>\n",
       "    .dataframe tbody tr th:only-of-type {\n",
       "        vertical-align: middle;\n",
       "    }\n",
       "\n",
       "    .dataframe tbody tr th {\n",
       "        vertical-align: top;\n",
       "    }\n",
       "\n",
       "    .dataframe thead th {\n",
       "        text-align: right;\n",
       "    }\n",
       "</style>\n",
       "<table border=\"1\" class=\"dataframe\">\n",
       "  <thead>\n",
       "    <tr style=\"text-align: right;\">\n",
       "      <th></th>\n",
       "      <th>id_web</th>\n",
       "      <th>total_vente</th>\n",
       "    </tr>\n",
       "  </thead>\n",
       "  <tbody>\n",
       "    <tr>\n",
       "      <th>count</th>\n",
       "      <td>714.000000</td>\n",
       "      <td>714.000000</td>\n",
       "    </tr>\n",
       "    <tr>\n",
       "      <th>mean</th>\n",
       "      <td>14485.224090</td>\n",
       "      <td>4.012605</td>\n",
       "    </tr>\n",
       "    <tr>\n",
       "      <th>std</th>\n",
       "      <td>3012.431806</td>\n",
       "      <td>8.518183</td>\n",
       "    </tr>\n",
       "    <tr>\n",
       "      <th>min</th>\n",
       "      <td>38.000000</td>\n",
       "      <td>0.000000</td>\n",
       "    </tr>\n",
       "    <tr>\n",
       "      <th>25%</th>\n",
       "      <td>14367.250000</td>\n",
       "      <td>0.000000</td>\n",
       "    </tr>\n",
       "    <tr>\n",
       "      <th>50%</th>\n",
       "      <td>15380.000000</td>\n",
       "      <td>1.000000</td>\n",
       "    </tr>\n",
       "    <tr>\n",
       "      <th>75%</th>\n",
       "      <td>15880.750000</td>\n",
       "      <td>4.000000</td>\n",
       "    </tr>\n",
       "    <tr>\n",
       "      <th>max</th>\n",
       "      <td>19823.000000</td>\n",
       "      <td>96.000000</td>\n",
       "    </tr>\n",
       "  </tbody>\n",
       "</table>\n",
       "</div>"
      ],
      "text/plain": [
       "             id_web  total_vente\n",
       "count    714.000000   714.000000\n",
       "mean   14485.224090     4.012605\n",
       "std     3012.431806     8.518183\n",
       "min       38.000000     0.000000\n",
       "25%    14367.250000     0.000000\n",
       "50%    15380.000000     1.000000\n",
       "75%    15880.750000     4.000000\n",
       "max    19823.000000    96.000000"
      ]
     },
     "execution_count": 57,
     "metadata": {},
     "output_type": "execute_result"
    }
   ],
   "source": [
    "web.describe()"
   ]
  },
  {
   "cell_type": "markdown",
   "id": "e30cc531",
   "metadata": {},
   "source": [
    "<a id='jointure'></a>\n",
    "## Jointure des 3 fichiers <a href=\"#sommaire\" style=\"font-size : 10px ; padding-left:10px\">Retour Sommaire</a>\n",
    "Pour calculer le chiffre d'affaires"
   ]
  },
  {
   "cell_type": "code",
   "execution_count": 58,
   "id": "c806921d",
   "metadata": {},
   "outputs": [
    {
     "data": {
      "text/html": [
       "<div>\n",
       "<style scoped>\n",
       "    .dataframe tbody tr th:only-of-type {\n",
       "        vertical-align: middle;\n",
       "    }\n",
       "\n",
       "    .dataframe tbody tr th {\n",
       "        vertical-align: top;\n",
       "    }\n",
       "\n",
       "    .dataframe thead th {\n",
       "        text-align: right;\n",
       "    }\n",
       "</style>\n",
       "<table border=\"1\" class=\"dataframe\">\n",
       "  <thead>\n",
       "    <tr style=\"text-align: right;\">\n",
       "      <th></th>\n",
       "      <th>id_produit</th>\n",
       "      <th>vente_web</th>\n",
       "      <th>prix</th>\n",
       "      <th>quantite_stock</th>\n",
       "      <th>status_stock</th>\n",
       "    </tr>\n",
       "  </thead>\n",
       "  <tbody>\n",
       "    <tr>\n",
       "      <th>0</th>\n",
       "      <td>3847</td>\n",
       "      <td>1</td>\n",
       "      <td>24.2</td>\n",
       "      <td>0</td>\n",
       "      <td>outofstock</td>\n",
       "    </tr>\n",
       "    <tr>\n",
       "      <th>1</th>\n",
       "      <td>3849</td>\n",
       "      <td>1</td>\n",
       "      <td>34.3</td>\n",
       "      <td>0</td>\n",
       "      <td>outofstock</td>\n",
       "    </tr>\n",
       "    <tr>\n",
       "      <th>2</th>\n",
       "      <td>3850</td>\n",
       "      <td>1</td>\n",
       "      <td>20.8</td>\n",
       "      <td>0</td>\n",
       "      <td>outofstock</td>\n",
       "    </tr>\n",
       "    <tr>\n",
       "      <th>3</th>\n",
       "      <td>4032</td>\n",
       "      <td>1</td>\n",
       "      <td>14.1</td>\n",
       "      <td>0</td>\n",
       "      <td>outofstock</td>\n",
       "    </tr>\n",
       "    <tr>\n",
       "      <th>4</th>\n",
       "      <td>4039</td>\n",
       "      <td>1</td>\n",
       "      <td>46.0</td>\n",
       "      <td>0</td>\n",
       "      <td>outofstock</td>\n",
       "    </tr>\n",
       "  </tbody>\n",
       "</table>\n",
       "</div>"
      ],
      "text/plain": [
       "   id_produit vente_web  prix  quantite_stock status_stock\n",
       "0        3847         1  24.2               0   outofstock\n",
       "1        3849         1  34.3               0   outofstock\n",
       "2        3850         1  20.8               0   outofstock\n",
       "3        4032         1  14.1               0   outofstock\n",
       "4        4039         1  46.0               0   outofstock"
      ]
     },
     "execution_count": 58,
     "metadata": {},
     "output_type": "execute_result"
    }
   ],
   "source": [
    "erp.head()"
   ]
  },
  {
   "cell_type": "code",
   "execution_count": 59,
   "id": "971570b3",
   "metadata": {},
   "outputs": [
    {
     "data": {
      "text/html": [
       "<div>\n",
       "<style scoped>\n",
       "    .dataframe tbody tr th:only-of-type {\n",
       "        vertical-align: middle;\n",
       "    }\n",
       "\n",
       "    .dataframe tbody tr th {\n",
       "        vertical-align: top;\n",
       "    }\n",
       "\n",
       "    .dataframe thead th {\n",
       "        text-align: right;\n",
       "    }\n",
       "</style>\n",
       "<table border=\"1\" class=\"dataframe\">\n",
       "  <thead>\n",
       "    <tr style=\"text-align: right;\">\n",
       "      <th></th>\n",
       "      <th>id_web</th>\n",
       "      <th>total_vente</th>\n",
       "      <th>date_creation</th>\n",
       "      <th>description</th>\n",
       "    </tr>\n",
       "  </thead>\n",
       "  <tbody>\n",
       "    <tr>\n",
       "      <th>0</th>\n",
       "      <td>19823</td>\n",
       "      <td>10</td>\n",
       "      <td>2018-06-01 13:53:46</td>\n",
       "      <td>Bon cadeau de 25€</td>\n",
       "    </tr>\n",
       "    <tr>\n",
       "      <th>1</th>\n",
       "      <td>15298</td>\n",
       "      <td>6</td>\n",
       "      <td>2018-02-08 12:58:52</td>\n",
       "      <td>Pierre Jean Villa Saint-Joseph Préface 2018</td>\n",
       "    </tr>\n",
       "    <tr>\n",
       "      <th>2</th>\n",
       "      <td>15296</td>\n",
       "      <td>0</td>\n",
       "      <td>2018-02-08 13:49:41</td>\n",
       "      <td>Pierre Jean Villa Saint-Joseph Rouge Tildé 2017</td>\n",
       "    </tr>\n",
       "    <tr>\n",
       "      <th>3</th>\n",
       "      <td>15300</td>\n",
       "      <td>0</td>\n",
       "      <td>2018-02-08 14:08:36</td>\n",
       "      <td>Pierre Jean Villa Crozes-Hermitage Accroche Co...</td>\n",
       "    </tr>\n",
       "    <tr>\n",
       "      <th>4</th>\n",
       "      <td>19814</td>\n",
       "      <td>3</td>\n",
       "      <td>2018-02-09 14:01:05</td>\n",
       "      <td>Pierre Jean Villa IGP Collines Rhodaniennes Ga...</td>\n",
       "    </tr>\n",
       "  </tbody>\n",
       "</table>\n",
       "</div>"
      ],
      "text/plain": [
       "   id_web  total_vente       date_creation  \\\n",
       "0   19823           10 2018-06-01 13:53:46   \n",
       "1   15298            6 2018-02-08 12:58:52   \n",
       "2   15296            0 2018-02-08 13:49:41   \n",
       "3   15300            0 2018-02-08 14:08:36   \n",
       "4   19814            3 2018-02-09 14:01:05   \n",
       "\n",
       "                                         description  \n",
       "0                                  Bon cadeau de 25€  \n",
       "1        Pierre Jean Villa Saint-Joseph Préface 2018  \n",
       "2    Pierre Jean Villa Saint-Joseph Rouge Tildé 2017  \n",
       "3  Pierre Jean Villa Crozes-Hermitage Accroche Co...  \n",
       "4  Pierre Jean Villa IGP Collines Rhodaniennes Ga...  "
      ]
     },
     "execution_count": 59,
     "metadata": {},
     "output_type": "execute_result"
    }
   ],
   "source": [
    "web.head()"
   ]
  },
  {
   "cell_type": "code",
   "execution_count": 60,
   "id": "ce45285f",
   "metadata": {},
   "outputs": [],
   "source": [
    "jointure_inter=pd.merge(erp, liaison, how='left', on='id_produit')"
   ]
  },
  {
   "cell_type": "code",
   "execution_count": 61,
   "id": "9980c89b",
   "metadata": {},
   "outputs": [
    {
     "data": {
      "text/html": [
       "<div>\n",
       "<style scoped>\n",
       "    .dataframe tbody tr th:only-of-type {\n",
       "        vertical-align: middle;\n",
       "    }\n",
       "\n",
       "    .dataframe tbody tr th {\n",
       "        vertical-align: top;\n",
       "    }\n",
       "\n",
       "    .dataframe thead th {\n",
       "        text-align: right;\n",
       "    }\n",
       "</style>\n",
       "<table border=\"1\" class=\"dataframe\">\n",
       "  <thead>\n",
       "    <tr style=\"text-align: right;\">\n",
       "      <th></th>\n",
       "      <th>id_produit</th>\n",
       "      <th>vente_web</th>\n",
       "      <th>prix</th>\n",
       "      <th>quantite_stock</th>\n",
       "      <th>status_stock</th>\n",
       "      <th>id_web</th>\n",
       "    </tr>\n",
       "  </thead>\n",
       "  <tbody>\n",
       "    <tr>\n",
       "      <th>0</th>\n",
       "      <td>3847</td>\n",
       "      <td>1</td>\n",
       "      <td>24.2</td>\n",
       "      <td>0</td>\n",
       "      <td>outofstock</td>\n",
       "      <td>15298.0</td>\n",
       "    </tr>\n",
       "    <tr>\n",
       "      <th>1</th>\n",
       "      <td>3849</td>\n",
       "      <td>1</td>\n",
       "      <td>34.3</td>\n",
       "      <td>0</td>\n",
       "      <td>outofstock</td>\n",
       "      <td>15296.0</td>\n",
       "    </tr>\n",
       "    <tr>\n",
       "      <th>2</th>\n",
       "      <td>3850</td>\n",
       "      <td>1</td>\n",
       "      <td>20.8</td>\n",
       "      <td>0</td>\n",
       "      <td>outofstock</td>\n",
       "      <td>15300.0</td>\n",
       "    </tr>\n",
       "    <tr>\n",
       "      <th>3</th>\n",
       "      <td>4032</td>\n",
       "      <td>1</td>\n",
       "      <td>14.1</td>\n",
       "      <td>0</td>\n",
       "      <td>outofstock</td>\n",
       "      <td>19814.0</td>\n",
       "    </tr>\n",
       "    <tr>\n",
       "      <th>4</th>\n",
       "      <td>4039</td>\n",
       "      <td>1</td>\n",
       "      <td>46.0</td>\n",
       "      <td>0</td>\n",
       "      <td>outofstock</td>\n",
       "      <td>19815.0</td>\n",
       "    </tr>\n",
       "  </tbody>\n",
       "</table>\n",
       "</div>"
      ],
      "text/plain": [
       "   id_produit vente_web  prix  quantite_stock status_stock   id_web\n",
       "0        3847         1  24.2               0   outofstock  15298.0\n",
       "1        3849         1  34.3               0   outofstock  15296.0\n",
       "2        3850         1  20.8               0   outofstock  15300.0\n",
       "3        4032         1  14.1               0   outofstock  19814.0\n",
       "4        4039         1  46.0               0   outofstock  19815.0"
      ]
     },
     "execution_count": 61,
     "metadata": {},
     "output_type": "execute_result"
    }
   ],
   "source": [
    "jointure_inter.head()"
   ]
  },
  {
   "cell_type": "code",
   "execution_count": 62,
   "id": "c327bf7e",
   "metadata": {},
   "outputs": [],
   "source": [
    "df_global=pd.merge(jointure_inter, web, how='left', on='id_web')"
   ]
  },
  {
   "cell_type": "code",
   "execution_count": 63,
   "id": "a6b68bc8",
   "metadata": {
    "scrolled": true
   },
   "outputs": [
    {
     "data": {
      "text/html": [
       "<div>\n",
       "<style scoped>\n",
       "    .dataframe tbody tr th:only-of-type {\n",
       "        vertical-align: middle;\n",
       "    }\n",
       "\n",
       "    .dataframe tbody tr th {\n",
       "        vertical-align: top;\n",
       "    }\n",
       "\n",
       "    .dataframe thead th {\n",
       "        text-align: right;\n",
       "    }\n",
       "</style>\n",
       "<table border=\"1\" class=\"dataframe\">\n",
       "  <thead>\n",
       "    <tr style=\"text-align: right;\">\n",
       "      <th></th>\n",
       "      <th>id_produit</th>\n",
       "      <th>vente_web</th>\n",
       "      <th>prix</th>\n",
       "      <th>quantite_stock</th>\n",
       "      <th>status_stock</th>\n",
       "      <th>id_web</th>\n",
       "      <th>total_vente</th>\n",
       "      <th>date_creation</th>\n",
       "      <th>description</th>\n",
       "    </tr>\n",
       "  </thead>\n",
       "  <tbody>\n",
       "    <tr>\n",
       "      <th>0</th>\n",
       "      <td>3847</td>\n",
       "      <td>1</td>\n",
       "      <td>24.2</td>\n",
       "      <td>0</td>\n",
       "      <td>outofstock</td>\n",
       "      <td>15298.0</td>\n",
       "      <td>6.0</td>\n",
       "      <td>2018-02-08 12:58:52</td>\n",
       "      <td>Pierre Jean Villa Saint-Joseph Préface 2018</td>\n",
       "    </tr>\n",
       "    <tr>\n",
       "      <th>1</th>\n",
       "      <td>3849</td>\n",
       "      <td>1</td>\n",
       "      <td>34.3</td>\n",
       "      <td>0</td>\n",
       "      <td>outofstock</td>\n",
       "      <td>15296.0</td>\n",
       "      <td>0.0</td>\n",
       "      <td>2018-02-08 13:49:41</td>\n",
       "      <td>Pierre Jean Villa Saint-Joseph Rouge Tildé 2017</td>\n",
       "    </tr>\n",
       "    <tr>\n",
       "      <th>2</th>\n",
       "      <td>3850</td>\n",
       "      <td>1</td>\n",
       "      <td>20.8</td>\n",
       "      <td>0</td>\n",
       "      <td>outofstock</td>\n",
       "      <td>15300.0</td>\n",
       "      <td>0.0</td>\n",
       "      <td>2018-02-08 14:08:36</td>\n",
       "      <td>Pierre Jean Villa Crozes-Hermitage Accroche Co...</td>\n",
       "    </tr>\n",
       "    <tr>\n",
       "      <th>3</th>\n",
       "      <td>4032</td>\n",
       "      <td>1</td>\n",
       "      <td>14.1</td>\n",
       "      <td>0</td>\n",
       "      <td>outofstock</td>\n",
       "      <td>19814.0</td>\n",
       "      <td>3.0</td>\n",
       "      <td>2018-02-09 14:01:05</td>\n",
       "      <td>Pierre Jean Villa IGP Collines Rhodaniennes Ga...</td>\n",
       "    </tr>\n",
       "    <tr>\n",
       "      <th>4</th>\n",
       "      <td>4039</td>\n",
       "      <td>1</td>\n",
       "      <td>46.0</td>\n",
       "      <td>0</td>\n",
       "      <td>outofstock</td>\n",
       "      <td>19815.0</td>\n",
       "      <td>0.0</td>\n",
       "      <td>2018-02-12 09:04:37</td>\n",
       "      <td>Pierre Jean Villa Côte Rôtie Carmina 2017</td>\n",
       "    </tr>\n",
       "  </tbody>\n",
       "</table>\n",
       "</div>"
      ],
      "text/plain": [
       "   id_produit vente_web  prix  quantite_stock status_stock   id_web  \\\n",
       "0        3847         1  24.2               0   outofstock  15298.0   \n",
       "1        3849         1  34.3               0   outofstock  15296.0   \n",
       "2        3850         1  20.8               0   outofstock  15300.0   \n",
       "3        4032         1  14.1               0   outofstock  19814.0   \n",
       "4        4039         1  46.0               0   outofstock  19815.0   \n",
       "\n",
       "   total_vente       date_creation  \\\n",
       "0          6.0 2018-02-08 12:58:52   \n",
       "1          0.0 2018-02-08 13:49:41   \n",
       "2          0.0 2018-02-08 14:08:36   \n",
       "3          3.0 2018-02-09 14:01:05   \n",
       "4          0.0 2018-02-12 09:04:37   \n",
       "\n",
       "                                         description  \n",
       "0        Pierre Jean Villa Saint-Joseph Préface 2018  \n",
       "1    Pierre Jean Villa Saint-Joseph Rouge Tildé 2017  \n",
       "2  Pierre Jean Villa Crozes-Hermitage Accroche Co...  \n",
       "3  Pierre Jean Villa IGP Collines Rhodaniennes Ga...  \n",
       "4          Pierre Jean Villa Côte Rôtie Carmina 2017  "
      ]
     },
     "execution_count": 63,
     "metadata": {},
     "output_type": "execute_result"
    }
   ],
   "source": [
    "df_global.head()"
   ]
  },
  {
   "cell_type": "code",
   "execution_count": 64,
   "id": "367a9cd5",
   "metadata": {},
   "outputs": [
    {
     "data": {
      "text/html": [
       "<div>\n",
       "<style scoped>\n",
       "    .dataframe tbody tr th:only-of-type {\n",
       "        vertical-align: middle;\n",
       "    }\n",
       "\n",
       "    .dataframe tbody tr th {\n",
       "        vertical-align: top;\n",
       "    }\n",
       "\n",
       "    .dataframe thead th {\n",
       "        text-align: right;\n",
       "    }\n",
       "</style>\n",
       "<table border=\"1\" class=\"dataframe\">\n",
       "  <thead>\n",
       "    <tr style=\"text-align: right;\">\n",
       "      <th></th>\n",
       "      <th>id_produit</th>\n",
       "      <th>vente_web</th>\n",
       "      <th>prix</th>\n",
       "      <th>quantite_stock</th>\n",
       "      <th>status_stock</th>\n",
       "      <th>id_web</th>\n",
       "      <th>total_vente</th>\n",
       "      <th>date_creation</th>\n",
       "      <th>description</th>\n",
       "    </tr>\n",
       "  </thead>\n",
       "  <tbody>\n",
       "    <tr>\n",
       "      <th>193</th>\n",
       "      <td>4289</td>\n",
       "      <td>0</td>\n",
       "      <td>22.8</td>\n",
       "      <td>0</td>\n",
       "      <td>outofstock</td>\n",
       "      <td>13771.0</td>\n",
       "      <td>NaN</td>\n",
       "      <td>NaT</td>\n",
       "      <td>NaN</td>\n",
       "    </tr>\n",
       "    <tr>\n",
       "      <th>236</th>\n",
       "      <td>4568</td>\n",
       "      <td>0</td>\n",
       "      <td>21.5</td>\n",
       "      <td>0</td>\n",
       "      <td>outofstock</td>\n",
       "      <td>15065.0</td>\n",
       "      <td>NaN</td>\n",
       "      <td>NaT</td>\n",
       "      <td>NaN</td>\n",
       "    </tr>\n",
       "    <tr>\n",
       "      <th>241</th>\n",
       "      <td>4584</td>\n",
       "      <td>0</td>\n",
       "      <td>32.3</td>\n",
       "      <td>0</td>\n",
       "      <td>outofstock</td>\n",
       "      <td>14785.0</td>\n",
       "      <td>NaN</td>\n",
       "      <td>NaT</td>\n",
       "      <td>NaN</td>\n",
       "    </tr>\n",
       "    <tr>\n",
       "      <th>355</th>\n",
       "      <td>4741</td>\n",
       "      <td>0</td>\n",
       "      <td>12.4</td>\n",
       "      <td>0</td>\n",
       "      <td>outofstock</td>\n",
       "      <td>12601.0</td>\n",
       "      <td>NaN</td>\n",
       "      <td>NaT</td>\n",
       "      <td>NaN</td>\n",
       "    </tr>\n",
       "    <tr>\n",
       "      <th>391</th>\n",
       "      <td>4864</td>\n",
       "      <td>0</td>\n",
       "      <td>8.3</td>\n",
       "      <td>0</td>\n",
       "      <td>outofstock</td>\n",
       "      <td>15154.0</td>\n",
       "      <td>NaN</td>\n",
       "      <td>NaT</td>\n",
       "      <td>NaN</td>\n",
       "    </tr>\n",
       "    <tr>\n",
       "      <th>394</th>\n",
       "      <td>4869</td>\n",
       "      <td>0</td>\n",
       "      <td>17.2</td>\n",
       "      <td>0</td>\n",
       "      <td>outofstock</td>\n",
       "      <td>14360.0</td>\n",
       "      <td>NaN</td>\n",
       "      <td>NaT</td>\n",
       "      <td>NaN</td>\n",
       "    </tr>\n",
       "    <tr>\n",
       "      <th>424</th>\n",
       "      <td>4921</td>\n",
       "      <td>0</td>\n",
       "      <td>13.8</td>\n",
       "      <td>0</td>\n",
       "      <td>outofstock</td>\n",
       "      <td>15608.0</td>\n",
       "      <td>NaN</td>\n",
       "      <td>NaT</td>\n",
       "      <td>NaN</td>\n",
       "    </tr>\n",
       "    <tr>\n",
       "      <th>425</th>\n",
       "      <td>4922</td>\n",
       "      <td>0</td>\n",
       "      <td>21.5</td>\n",
       "      <td>0</td>\n",
       "      <td>outofstock</td>\n",
       "      <td>15586.0</td>\n",
       "      <td>NaN</td>\n",
       "      <td>NaT</td>\n",
       "      <td>NaN</td>\n",
       "    </tr>\n",
       "    <tr>\n",
       "      <th>470</th>\n",
       "      <td>5018</td>\n",
       "      <td>0</td>\n",
       "      <td>15.4</td>\n",
       "      <td>0</td>\n",
       "      <td>outofstock</td>\n",
       "      <td>15272.0</td>\n",
       "      <td>NaN</td>\n",
       "      <td>NaT</td>\n",
       "      <td>NaN</td>\n",
       "    </tr>\n",
       "    <tr>\n",
       "      <th>473</th>\n",
       "      <td>5021</td>\n",
       "      <td>0</td>\n",
       "      <td>17.1</td>\n",
       "      <td>0</td>\n",
       "      <td>outofstock</td>\n",
       "      <td>15630.0</td>\n",
       "      <td>NaN</td>\n",
       "      <td>NaT</td>\n",
       "      <td>NaN</td>\n",
       "    </tr>\n",
       "    <tr>\n",
       "      <th>523</th>\n",
       "      <td>5505</td>\n",
       "      <td>0</td>\n",
       "      <td>10.1</td>\n",
       "      <td>0</td>\n",
       "      <td>outofstock</td>\n",
       "      <td>14648.0</td>\n",
       "      <td>NaN</td>\n",
       "      <td>NaT</td>\n",
       "      <td>NaN</td>\n",
       "    </tr>\n",
       "    <tr>\n",
       "      <th>540</th>\n",
       "      <td>5559</td>\n",
       "      <td>0</td>\n",
       "      <td>27.9</td>\n",
       "      <td>3</td>\n",
       "      <td>instock</td>\n",
       "      <td>14715.0</td>\n",
       "      <td>NaN</td>\n",
       "      <td>NaT</td>\n",
       "      <td>NaN</td>\n",
       "    </tr>\n",
       "    <tr>\n",
       "      <th>548</th>\n",
       "      <td>5570</td>\n",
       "      <td>0</td>\n",
       "      <td>22.5</td>\n",
       "      <td>0</td>\n",
       "      <td>outofstock</td>\n",
       "      <td>14730.0</td>\n",
       "      <td>NaN</td>\n",
       "      <td>NaT</td>\n",
       "      <td>NaN</td>\n",
       "    </tr>\n",
       "    <tr>\n",
       "      <th>613</th>\n",
       "      <td>5800</td>\n",
       "      <td>0</td>\n",
       "      <td>32.3</td>\n",
       "      <td>0</td>\n",
       "      <td>outofstock</td>\n",
       "      <td>14689.0</td>\n",
       "      <td>NaN</td>\n",
       "      <td>NaT</td>\n",
       "      <td>NaN</td>\n",
       "    </tr>\n",
       "    <tr>\n",
       "      <th>660</th>\n",
       "      <td>5953</td>\n",
       "      <td>0</td>\n",
       "      <td>47.5</td>\n",
       "      <td>0</td>\n",
       "      <td>outofstock</td>\n",
       "      <td>14379.0</td>\n",
       "      <td>NaN</td>\n",
       "      <td>NaT</td>\n",
       "      <td>NaN</td>\n",
       "    </tr>\n",
       "    <tr>\n",
       "      <th>661</th>\n",
       "      <td>5954</td>\n",
       "      <td>0</td>\n",
       "      <td>18.8</td>\n",
       "      <td>0</td>\n",
       "      <td>outofstock</td>\n",
       "      <td>15609.0</td>\n",
       "      <td>NaN</td>\n",
       "      <td>NaT</td>\n",
       "      <td>NaN</td>\n",
       "    </tr>\n",
       "    <tr>\n",
       "      <th>662</th>\n",
       "      <td>5955</td>\n",
       "      <td>0</td>\n",
       "      <td>27.3</td>\n",
       "      <td>0</td>\n",
       "      <td>outofstock</td>\n",
       "      <td>14377.0</td>\n",
       "      <td>NaN</td>\n",
       "      <td>NaT</td>\n",
       "      <td>NaN</td>\n",
       "    </tr>\n",
       "    <tr>\n",
       "      <th>664</th>\n",
       "      <td>5957</td>\n",
       "      <td>0</td>\n",
       "      <td>39.0</td>\n",
       "      <td>0</td>\n",
       "      <td>outofstock</td>\n",
       "      <td>13577.0</td>\n",
       "      <td>NaN</td>\n",
       "      <td>NaT</td>\n",
       "      <td>NaN</td>\n",
       "    </tr>\n",
       "    <tr>\n",
       "      <th>687</th>\n",
       "      <td>6100</td>\n",
       "      <td>0</td>\n",
       "      <td>12.9</td>\n",
       "      <td>0</td>\n",
       "      <td>outofstock</td>\n",
       "      <td>15529.0</td>\n",
       "      <td>NaN</td>\n",
       "      <td>NaT</td>\n",
       "      <td>NaN</td>\n",
       "    </tr>\n",
       "  </tbody>\n",
       "</table>\n",
       "</div>"
      ],
      "text/plain": [
       "     id_produit vente_web  prix  quantite_stock status_stock   id_web  \\\n",
       "193        4289         0  22.8               0   outofstock  13771.0   \n",
       "236        4568         0  21.5               0   outofstock  15065.0   \n",
       "241        4584         0  32.3               0   outofstock  14785.0   \n",
       "355        4741         0  12.4               0   outofstock  12601.0   \n",
       "391        4864         0   8.3               0   outofstock  15154.0   \n",
       "394        4869         0  17.2               0   outofstock  14360.0   \n",
       "424        4921         0  13.8               0   outofstock  15608.0   \n",
       "425        4922         0  21.5               0   outofstock  15586.0   \n",
       "470        5018         0  15.4               0   outofstock  15272.0   \n",
       "473        5021         0  17.1               0   outofstock  15630.0   \n",
       "523        5505         0  10.1               0   outofstock  14648.0   \n",
       "540        5559         0  27.9               3      instock  14715.0   \n",
       "548        5570         0  22.5               0   outofstock  14730.0   \n",
       "613        5800         0  32.3               0   outofstock  14689.0   \n",
       "660        5953         0  47.5               0   outofstock  14379.0   \n",
       "661        5954         0  18.8               0   outofstock  15609.0   \n",
       "662        5955         0  27.3               0   outofstock  14377.0   \n",
       "664        5957         0  39.0               0   outofstock  13577.0   \n",
       "687        6100         0  12.9               0   outofstock  15529.0   \n",
       "\n",
       "     total_vente date_creation description  \n",
       "193          NaN           NaT         NaN  \n",
       "236          NaN           NaT         NaN  \n",
       "241          NaN           NaT         NaN  \n",
       "355          NaN           NaT         NaN  \n",
       "391          NaN           NaT         NaN  \n",
       "394          NaN           NaT         NaN  \n",
       "424          NaN           NaT         NaN  \n",
       "425          NaN           NaT         NaN  \n",
       "470          NaN           NaT         NaN  \n",
       "473          NaN           NaT         NaN  \n",
       "523          NaN           NaT         NaN  \n",
       "540          NaN           NaT         NaN  \n",
       "548          NaN           NaT         NaN  \n",
       "613          NaN           NaT         NaN  \n",
       "660          NaN           NaT         NaN  \n",
       "661          NaN           NaT         NaN  \n",
       "662          NaN           NaT         NaN  \n",
       "664          NaN           NaT         NaN  \n",
       "687          NaN           NaT         NaN  "
      ]
     },
     "execution_count": 64,
     "metadata": {},
     "output_type": "execute_result"
    }
   ],
   "source": [
    "# correspondance entre id_produit et id_web mais aucune info liée au web\n",
    "df_global.loc[(df_global['vente_web']==0) & (~df_global['id_web'].isnull()),:]"
   ]
  },
  {
   "cell_type": "code",
   "execution_count": 65,
   "id": "eab5f8b6",
   "metadata": {},
   "outputs": [
    {
     "name": "stdout",
     "output_type": "stream",
     "text": [
      "<class 'pandas.core.frame.DataFrame'>\n",
      "Int64Index: 825 entries, 0 to 824\n",
      "Data columns (total 9 columns):\n",
      " #   Column          Non-Null Count  Dtype         \n",
      "---  ------          --------------  -----         \n",
      " 0   id_produit      825 non-null    int64         \n",
      " 1   vente_web       825 non-null    category      \n",
      " 2   prix            825 non-null    float64       \n",
      " 3   quantite_stock  825 non-null    int64         \n",
      " 4   status_stock    825 non-null    category      \n",
      " 5   id_web          733 non-null    float64       \n",
      " 6   total_vente     714 non-null    float64       \n",
      " 7   date_creation   714 non-null    datetime64[ns]\n",
      " 8   description     714 non-null    object        \n",
      "dtypes: category(2), datetime64[ns](1), float64(3), int64(2), object(1)\n",
      "memory usage: 53.4+ KB\n"
     ]
    }
   ],
   "source": [
    "df_global.info()"
   ]
  },
  {
   "cell_type": "code",
   "execution_count": 66,
   "id": "4d78e576",
   "metadata": {},
   "outputs": [
    {
     "data": {
      "text/html": [
       "<div>\n",
       "<style scoped>\n",
       "    .dataframe tbody tr th:only-of-type {\n",
       "        vertical-align: middle;\n",
       "    }\n",
       "\n",
       "    .dataframe tbody tr th {\n",
       "        vertical-align: top;\n",
       "    }\n",
       "\n",
       "    .dataframe thead th {\n",
       "        text-align: right;\n",
       "    }\n",
       "</style>\n",
       "<table border=\"1\" class=\"dataframe\">\n",
       "  <thead>\n",
       "    <tr style=\"text-align: right;\">\n",
       "      <th></th>\n",
       "      <th>id_produit</th>\n",
       "      <th>prix</th>\n",
       "      <th>quantite_stock</th>\n",
       "      <th>id_web</th>\n",
       "      <th>total_vente</th>\n",
       "    </tr>\n",
       "  </thead>\n",
       "  <tbody>\n",
       "    <tr>\n",
       "      <th>count</th>\n",
       "      <td>825.000000</td>\n",
       "      <td>825.000000</td>\n",
       "      <td>825.000000</td>\n",
       "      <td>733.00000</td>\n",
       "      <td>714.000000</td>\n",
       "    </tr>\n",
       "    <tr>\n",
       "      <th>mean</th>\n",
       "      <td>5162.597576</td>\n",
       "      <td>32.415636</td>\n",
       "      <td>26.496970</td>\n",
       "      <td>14491.86221</td>\n",
       "      <td>4.012605</td>\n",
       "    </tr>\n",
       "    <tr>\n",
       "      <th>std</th>\n",
       "      <td>902.644635</td>\n",
       "      <td>26.795849</td>\n",
       "      <td>45.892422</td>\n",
       "      <td>2975.99534</td>\n",
       "      <td>8.518183</td>\n",
       "    </tr>\n",
       "    <tr>\n",
       "      <th>min</th>\n",
       "      <td>3847.000000</td>\n",
       "      <td>5.200000</td>\n",
       "      <td>0.000000</td>\n",
       "      <td>38.00000</td>\n",
       "      <td>0.000000</td>\n",
       "    </tr>\n",
       "    <tr>\n",
       "      <th>25%</th>\n",
       "      <td>4348.000000</td>\n",
       "      <td>14.600000</td>\n",
       "      <td>1.000000</td>\n",
       "      <td>14371.00000</td>\n",
       "      <td>0.000000</td>\n",
       "    </tr>\n",
       "    <tr>\n",
       "      <th>50%</th>\n",
       "      <td>4907.000000</td>\n",
       "      <td>24.400000</td>\n",
       "      <td>11.000000</td>\n",
       "      <td>15361.00000</td>\n",
       "      <td>1.000000</td>\n",
       "    </tr>\n",
       "    <tr>\n",
       "      <th>75%</th>\n",
       "      <td>5805.000000</td>\n",
       "      <td>42.000000</td>\n",
       "      <td>34.000000</td>\n",
       "      <td>15870.00000</td>\n",
       "      <td>4.000000</td>\n",
       "    </tr>\n",
       "    <tr>\n",
       "      <th>max</th>\n",
       "      <td>7338.000000</td>\n",
       "      <td>225.000000</td>\n",
       "      <td>578.000000</td>\n",
       "      <td>19823.00000</td>\n",
       "      <td>96.000000</td>\n",
       "    </tr>\n",
       "  </tbody>\n",
       "</table>\n",
       "</div>"
      ],
      "text/plain": [
       "        id_produit        prix  quantite_stock       id_web  total_vente\n",
       "count   825.000000  825.000000      825.000000    733.00000   714.000000\n",
       "mean   5162.597576   32.415636       26.496970  14491.86221     4.012605\n",
       "std     902.644635   26.795849       45.892422   2975.99534     8.518183\n",
       "min    3847.000000    5.200000        0.000000     38.00000     0.000000\n",
       "25%    4348.000000   14.600000        1.000000  14371.00000     0.000000\n",
       "50%    4907.000000   24.400000       11.000000  15361.00000     1.000000\n",
       "75%    5805.000000   42.000000       34.000000  15870.00000     4.000000\n",
       "max    7338.000000  225.000000      578.000000  19823.00000    96.000000"
      ]
     },
     "execution_count": 66,
     "metadata": {},
     "output_type": "execute_result"
    }
   ],
   "source": [
    "df_global.describe()"
   ]
  },
  {
   "cell_type": "markdown",
   "id": "c9eafda3",
   "metadata": {},
   "source": [
    "### Création de la colonne CA"
   ]
  },
  {
   "cell_type": "code",
   "execution_count": 67,
   "id": "7526758e",
   "metadata": {},
   "outputs": [],
   "source": [
    "df_global['CA']=df_global['prix']*df_global['total_vente']"
   ]
  },
  {
   "cell_type": "code",
   "execution_count": 68,
   "id": "efac0d49",
   "metadata": {},
   "outputs": [
    {
     "data": {
      "text/html": [
       "<div>\n",
       "<style scoped>\n",
       "    .dataframe tbody tr th:only-of-type {\n",
       "        vertical-align: middle;\n",
       "    }\n",
       "\n",
       "    .dataframe tbody tr th {\n",
       "        vertical-align: top;\n",
       "    }\n",
       "\n",
       "    .dataframe thead th {\n",
       "        text-align: right;\n",
       "    }\n",
       "</style>\n",
       "<table border=\"1\" class=\"dataframe\">\n",
       "  <thead>\n",
       "    <tr style=\"text-align: right;\">\n",
       "      <th></th>\n",
       "      <th>id_produit</th>\n",
       "      <th>vente_web</th>\n",
       "      <th>prix</th>\n",
       "      <th>quantite_stock</th>\n",
       "      <th>status_stock</th>\n",
       "      <th>id_web</th>\n",
       "      <th>total_vente</th>\n",
       "      <th>date_creation</th>\n",
       "      <th>description</th>\n",
       "      <th>CA</th>\n",
       "    </tr>\n",
       "  </thead>\n",
       "  <tbody>\n",
       "    <tr>\n",
       "      <th>0</th>\n",
       "      <td>3847</td>\n",
       "      <td>1</td>\n",
       "      <td>24.2</td>\n",
       "      <td>0</td>\n",
       "      <td>outofstock</td>\n",
       "      <td>15298.0</td>\n",
       "      <td>6.0</td>\n",
       "      <td>2018-02-08 12:58:52</td>\n",
       "      <td>Pierre Jean Villa Saint-Joseph Préface 2018</td>\n",
       "      <td>145.2</td>\n",
       "    </tr>\n",
       "    <tr>\n",
       "      <th>1</th>\n",
       "      <td>3849</td>\n",
       "      <td>1</td>\n",
       "      <td>34.3</td>\n",
       "      <td>0</td>\n",
       "      <td>outofstock</td>\n",
       "      <td>15296.0</td>\n",
       "      <td>0.0</td>\n",
       "      <td>2018-02-08 13:49:41</td>\n",
       "      <td>Pierre Jean Villa Saint-Joseph Rouge Tildé 2017</td>\n",
       "      <td>0.0</td>\n",
       "    </tr>\n",
       "    <tr>\n",
       "      <th>2</th>\n",
       "      <td>3850</td>\n",
       "      <td>1</td>\n",
       "      <td>20.8</td>\n",
       "      <td>0</td>\n",
       "      <td>outofstock</td>\n",
       "      <td>15300.0</td>\n",
       "      <td>0.0</td>\n",
       "      <td>2018-02-08 14:08:36</td>\n",
       "      <td>Pierre Jean Villa Crozes-Hermitage Accroche Co...</td>\n",
       "      <td>0.0</td>\n",
       "    </tr>\n",
       "    <tr>\n",
       "      <th>3</th>\n",
       "      <td>4032</td>\n",
       "      <td>1</td>\n",
       "      <td>14.1</td>\n",
       "      <td>0</td>\n",
       "      <td>outofstock</td>\n",
       "      <td>19814.0</td>\n",
       "      <td>3.0</td>\n",
       "      <td>2018-02-09 14:01:05</td>\n",
       "      <td>Pierre Jean Villa IGP Collines Rhodaniennes Ga...</td>\n",
       "      <td>42.3</td>\n",
       "    </tr>\n",
       "    <tr>\n",
       "      <th>4</th>\n",
       "      <td>4039</td>\n",
       "      <td>1</td>\n",
       "      <td>46.0</td>\n",
       "      <td>0</td>\n",
       "      <td>outofstock</td>\n",
       "      <td>19815.0</td>\n",
       "      <td>0.0</td>\n",
       "      <td>2018-02-12 09:04:37</td>\n",
       "      <td>Pierre Jean Villa Côte Rôtie Carmina 2017</td>\n",
       "      <td>0.0</td>\n",
       "    </tr>\n",
       "    <tr>\n",
       "      <th>...</th>\n",
       "      <td>...</td>\n",
       "      <td>...</td>\n",
       "      <td>...</td>\n",
       "      <td>...</td>\n",
       "      <td>...</td>\n",
       "      <td>...</td>\n",
       "      <td>...</td>\n",
       "      <td>...</td>\n",
       "      <td>...</td>\n",
       "      <td>...</td>\n",
       "    </tr>\n",
       "    <tr>\n",
       "      <th>820</th>\n",
       "      <td>7203</td>\n",
       "      <td>0</td>\n",
       "      <td>45.0</td>\n",
       "      <td>30</td>\n",
       "      <td>instock</td>\n",
       "      <td>NaN</td>\n",
       "      <td>NaN</td>\n",
       "      <td>NaT</td>\n",
       "      <td>NaN</td>\n",
       "      <td>NaN</td>\n",
       "    </tr>\n",
       "    <tr>\n",
       "      <th>821</th>\n",
       "      <td>7204</td>\n",
       "      <td>0</td>\n",
       "      <td>45.0</td>\n",
       "      <td>9</td>\n",
       "      <td>instock</td>\n",
       "      <td>NaN</td>\n",
       "      <td>NaN</td>\n",
       "      <td>NaT</td>\n",
       "      <td>NaN</td>\n",
       "      <td>NaN</td>\n",
       "    </tr>\n",
       "    <tr>\n",
       "      <th>822</th>\n",
       "      <td>7247</td>\n",
       "      <td>1</td>\n",
       "      <td>54.8</td>\n",
       "      <td>23</td>\n",
       "      <td>instock</td>\n",
       "      <td>13128.0</td>\n",
       "      <td>0.0</td>\n",
       "      <td>2020-06-09 15:42:04</td>\n",
       "      <td>Clos du Mont-Olivet Châteauneuf-du-Pape 2007</td>\n",
       "      <td>0.0</td>\n",
       "    </tr>\n",
       "    <tr>\n",
       "      <th>823</th>\n",
       "      <td>7329</td>\n",
       "      <td>0</td>\n",
       "      <td>26.5</td>\n",
       "      <td>14</td>\n",
       "      <td>instock</td>\n",
       "      <td>NaN</td>\n",
       "      <td>NaN</td>\n",
       "      <td>NaT</td>\n",
       "      <td>NaN</td>\n",
       "      <td>NaN</td>\n",
       "    </tr>\n",
       "    <tr>\n",
       "      <th>824</th>\n",
       "      <td>7338</td>\n",
       "      <td>1</td>\n",
       "      <td>16.3</td>\n",
       "      <td>45</td>\n",
       "      <td>instock</td>\n",
       "      <td>16230.0</td>\n",
       "      <td>0.0</td>\n",
       "      <td>2020-07-20 11:00:00</td>\n",
       "      <td>Domaine Saint-Nicolas Vin de France Blanc Les ...</td>\n",
       "      <td>0.0</td>\n",
       "    </tr>\n",
       "  </tbody>\n",
       "</table>\n",
       "<p>825 rows × 10 columns</p>\n",
       "</div>"
      ],
      "text/plain": [
       "     id_produit vente_web  prix  quantite_stock status_stock   id_web  \\\n",
       "0          3847         1  24.2               0   outofstock  15298.0   \n",
       "1          3849         1  34.3               0   outofstock  15296.0   \n",
       "2          3850         1  20.8               0   outofstock  15300.0   \n",
       "3          4032         1  14.1               0   outofstock  19814.0   \n",
       "4          4039         1  46.0               0   outofstock  19815.0   \n",
       "..          ...       ...   ...             ...          ...      ...   \n",
       "820        7203         0  45.0              30      instock      NaN   \n",
       "821        7204         0  45.0               9      instock      NaN   \n",
       "822        7247         1  54.8              23      instock  13128.0   \n",
       "823        7329         0  26.5              14      instock      NaN   \n",
       "824        7338         1  16.3              45      instock  16230.0   \n",
       "\n",
       "     total_vente       date_creation  \\\n",
       "0            6.0 2018-02-08 12:58:52   \n",
       "1            0.0 2018-02-08 13:49:41   \n",
       "2            0.0 2018-02-08 14:08:36   \n",
       "3            3.0 2018-02-09 14:01:05   \n",
       "4            0.0 2018-02-12 09:04:37   \n",
       "..           ...                 ...   \n",
       "820          NaN                 NaT   \n",
       "821          NaN                 NaT   \n",
       "822          0.0 2020-06-09 15:42:04   \n",
       "823          NaN                 NaT   \n",
       "824          0.0 2020-07-20 11:00:00   \n",
       "\n",
       "                                           description     CA  \n",
       "0          Pierre Jean Villa Saint-Joseph Préface 2018  145.2  \n",
       "1      Pierre Jean Villa Saint-Joseph Rouge Tildé 2017    0.0  \n",
       "2    Pierre Jean Villa Crozes-Hermitage Accroche Co...    0.0  \n",
       "3    Pierre Jean Villa IGP Collines Rhodaniennes Ga...   42.3  \n",
       "4            Pierre Jean Villa Côte Rôtie Carmina 2017    0.0  \n",
       "..                                                 ...    ...  \n",
       "820                                                NaN    NaN  \n",
       "821                                                NaN    NaN  \n",
       "822       Clos du Mont-Olivet Châteauneuf-du-Pape 2007    0.0  \n",
       "823                                                NaN    NaN  \n",
       "824  Domaine Saint-Nicolas Vin de France Blanc Les ...    0.0  \n",
       "\n",
       "[825 rows x 10 columns]"
      ]
     },
     "execution_count": 68,
     "metadata": {},
     "output_type": "execute_result"
    }
   ],
   "source": [
    "df_global"
   ]
  },
  {
   "cell_type": "markdown",
   "id": "aeac1e79",
   "metadata": {},
   "source": [
    "<a id='ca'></a>\n",
    "## Chiffre d'affaires <a href=\"#sommaire\" style=\"font-size : 10px ; padding-left:10px\">Retour Sommaire</a>"
   ]
  },
  {
   "cell_type": "markdown",
   "id": "17c0ee2c",
   "metadata": {},
   "source": [
    "### Chiffre d'affaires par produit en ligne"
   ]
  },
  {
   "cell_type": "code",
   "execution_count": 69,
   "id": "7e5e7220",
   "metadata": {},
   "outputs": [
    {
     "data": {
      "text/html": [
       "<div>\n",
       "<style scoped>\n",
       "    .dataframe tbody tr th:only-of-type {\n",
       "        vertical-align: middle;\n",
       "    }\n",
       "\n",
       "    .dataframe tbody tr th {\n",
       "        vertical-align: top;\n",
       "    }\n",
       "\n",
       "    .dataframe thead th {\n",
       "        text-align: right;\n",
       "    }\n",
       "</style>\n",
       "<table border=\"1\" class=\"dataframe\">\n",
       "  <thead>\n",
       "    <tr style=\"text-align: right;\">\n",
       "      <th></th>\n",
       "      <th>id_produit</th>\n",
       "      <th>CA</th>\n",
       "    </tr>\n",
       "  </thead>\n",
       "  <tbody>\n",
       "    <tr>\n",
       "      <th>0</th>\n",
       "      <td>4858</td>\n",
       "      <td>6.5</td>\n",
       "    </tr>\n",
       "    <tr>\n",
       "      <th>1</th>\n",
       "      <td>5056</td>\n",
       "      <td>7.5</td>\n",
       "    </tr>\n",
       "    <tr>\n",
       "      <th>2</th>\n",
       "      <td>4171</td>\n",
       "      <td>7.8</td>\n",
       "    </tr>\n",
       "    <tr>\n",
       "      <th>3</th>\n",
       "      <td>4241</td>\n",
       "      <td>8.9</td>\n",
       "    </tr>\n",
       "    <tr>\n",
       "      <th>4</th>\n",
       "      <td>4245</td>\n",
       "      <td>8.9</td>\n",
       "    </tr>\n",
       "    <tr>\n",
       "      <th>...</th>\n",
       "      <td>...</td>\n",
       "      <td>...</td>\n",
       "    </tr>\n",
       "    <tr>\n",
       "      <th>380</th>\n",
       "      <td>4141</td>\n",
       "      <td>1560.0</td>\n",
       "    </tr>\n",
       "    <tr>\n",
       "      <th>381</th>\n",
       "      <td>4142</td>\n",
       "      <td>1590.0</td>\n",
       "    </tr>\n",
       "    <tr>\n",
       "      <th>382</th>\n",
       "      <td>4402</td>\n",
       "      <td>2288.0</td>\n",
       "    </tr>\n",
       "    <tr>\n",
       "      <th>383</th>\n",
       "      <td>4144</td>\n",
       "      <td>4263.0</td>\n",
       "    </tr>\n",
       "    <tr>\n",
       "      <th>384</th>\n",
       "      <td>4334</td>\n",
       "      <td>4704.0</td>\n",
       "    </tr>\n",
       "  </tbody>\n",
       "</table>\n",
       "<p>385 rows × 2 columns</p>\n",
       "</div>"
      ],
      "text/plain": [
       "     id_produit      CA\n",
       "0          4858     6.5\n",
       "1          5056     7.5\n",
       "2          4171     7.8\n",
       "3          4241     8.9\n",
       "4          4245     8.9\n",
       "..          ...     ...\n",
       "380        4141  1560.0\n",
       "381        4142  1590.0\n",
       "382        4402  2288.0\n",
       "383        4144  4263.0\n",
       "384        4334  4704.0\n",
       "\n",
       "[385 rows x 2 columns]"
      ]
     },
     "execution_count": 69,
     "metadata": {},
     "output_type": "execute_result"
    }
   ],
   "source": [
    "df_global.loc[df_global['CA']>0, ['id_produit', 'CA']].sort_values('CA').reset_index(drop=True)"
   ]
  },
  {
   "cell_type": "markdown",
   "id": "8307c025",
   "metadata": {},
   "source": [
    "### Chiffre d'affaires global"
   ]
  },
  {
   "cell_type": "code",
   "execution_count": 70,
   "id": "78b2400d",
   "metadata": {},
   "outputs": [
    {
     "name": "stdout",
     "output_type": "stream",
     "text": [
      "Chiffre d'affaires : 70 568.6 €\n"
     ]
    }
   ],
   "source": [
    "print(\"Chiffre d'affaires :\", '{:,}'.format(df_global['CA'].sum()).replace(',',' '),\"€\")"
   ]
  },
  {
   "cell_type": "markdown",
   "id": "93ed79a4",
   "metadata": {},
   "source": [
    "On a donc un chiffre d'affaires de 70 568,60€ pour l'ensemble de produits vendus."
   ]
  },
  {
   "cell_type": "markdown",
   "id": "4e3e29ea",
   "metadata": {},
   "source": [
    "<a id='analyse_univariee'></a>\n",
    "## Analyse univariée de la variable prix <a href=\"#sommaire\" style=\"font-size : 10px ; padding-left:10px\">Retour Sommaire</a>"
   ]
  },
  {
   "cell_type": "markdown",
   "id": "85689735",
   "metadata": {},
   "source": [
    "### Histogramme"
   ]
  },
  {
   "cell_type": "code",
   "execution_count": 71,
   "id": "7cda84b6",
   "metadata": {},
   "outputs": [
    {
     "data": {
      "text/plain": [
       "Text(0.5, 1.0, 'Distribution du prix des bouteilles de vin')"
      ]
     },
     "execution_count": 71,
     "metadata": {},
     "output_type": "execute_result"
    },
    {
     "data": {
      "image/png": "[encoded data removed]",
      "text/plain": [
       "<Figure size 640x480 with 1 Axes>"
      ]
     },
     "metadata": {},
     "output_type": "display_data"
    }
   ],
   "source": [
    "sns.histplot((erp['prix']))\n",
    "plt.ylabel(None)\n",
    "plt.xlabel('Prix (€)')\n",
    "plt.title('Distribution du prix des bouteilles de vin')"
   ]
  },
  {
   "cell_type": "markdown",
   "id": "b0364501",
   "metadata": {},
   "source": [
    "### Les mesures de tendance centrale"
   ]
  },
  {
   "cell_type": "code",
   "execution_count": 72,
   "id": "24b21789",
   "metadata": {},
   "outputs": [
    {
     "name": "stdout",
     "output_type": "stream",
     "text": [
      "La moyenne de l'échantillon est de 32.42 \n",
      " La médiane est de 24.4 \n",
      " Le mode est de 45.0\n"
     ]
    }
   ],
   "source": [
    "print(\"La moyenne de l'échantillon est de\", round(erp['prix'].mean(),2),'\\n',\n",
    "\"La médiane est de\",erp['prix'].median(),'\\n',\n",
    "\"Le mode est de\",erp['prix'].mode()[0])"
   ]
  },
  {
   "cell_type": "markdown",
   "id": "745158c1",
   "metadata": {},
   "source": [
    "On peut voir que ces 3 valeurs sont éloignées, on peut déjà émettre l'hypothèse que la distribution des valeurs de l'échantillon ne suit pas une loi normale."
   ]
  },
  {
   "cell_type": "markdown",
   "id": "a8131ff4",
   "metadata": {},
   "source": [
    "### Calcul de la moyenne tronquée\n",
    "Le calcul de la moyenne tronquée se faire en enlevant les outliers de l'échantillon, et plus précisement en retirant 2,5% des valeurs minimales et 2,5% des valeurs maximales."
   ]
  },
  {
   "cell_type": "code",
   "execution_count": 73,
   "id": "190b2ff5",
   "metadata": {},
   "outputs": [
    {
     "data": {
      "text/plain": [
       "29.14"
      ]
     },
     "execution_count": 73,
     "metadata": {},
     "output_type": "execute_result"
    }
   ],
   "source": [
    "# Je retire ici 2,5% des valeurs min et max de l'échantillon et je calcule la moyenne\n",
    "round(st.trim_mean(erp['prix'], 0.05),2)"
   ]
  },
  {
   "cell_type": "markdown",
   "id": "7546a9d0",
   "metadata": {},
   "source": [
    "La moyenne tronquée est donc de 29.14, cela semble plus juste au regard de la médiane notamment."
   ]
  },
  {
   "cell_type": "markdown",
   "id": "65143e0b",
   "metadata": {},
   "source": [
    "### Test des 10% par rapport à la moyenne\n",
    "On vérifie si la médiane et la moyenne tronquée se situe dans l'intervalle moyenne +/- 10%"
   ]
  },
  {
   "cell_type": "code",
   "execution_count": 74,
   "id": "85e02c37",
   "metadata": {},
   "outputs": [
    {
     "name": "stdout",
     "output_type": "stream",
     "text": [
      "Voici l'interval moyenne +/- 10% :\n",
      "[ 29.17 , 35.66 ]\n"
     ]
    }
   ],
   "source": [
    "print(\"Voici l'interval moyenne +/- 10% :\")\n",
    "print('[',round(0.9*erp['prix'].mean(),2),',', round(1.1*erp['prix'].mean(),2),']')"
   ]
  },
  {
   "cell_type": "markdown",
   "id": "ab0e16b3",
   "metadata": {},
   "source": [
    "On peut voir que la médiane et la moyenne tronquée ne sont pas dans cet interval, on en conclue que le test n'est pas passé."
   ]
  },
  {
   "cell_type": "markdown",
   "id": "1fa92951",
   "metadata": {},
   "source": [
    "### Les mesures de dispersion"
   ]
  },
  {
   "cell_type": "code",
   "execution_count": 115,
   "id": "54de3c37",
   "metadata": {},
   "outputs": [
    {
     "data": {
      "text/plain": [
       "718.02"
      ]
     },
     "execution_count": 115,
     "metadata": {},
     "output_type": "execute_result"
    }
   ],
   "source": [
    "# La variance\n",
    "round(erp['prix'].var(),2)"
   ]
  },
  {
   "cell_type": "code",
   "execution_count": 118,
   "id": "59faae80",
   "metadata": {},
   "outputs": [
    {
     "data": {
      "text/plain": [
       "717.15"
      ]
     },
     "execution_count": 118,
     "metadata": {},
     "output_type": "execute_result"
    }
   ],
   "source": [
    "# La variance sans biais\n",
    "round(erp['prix'].var(ddof=0),2)"
   ]
  },
  {
   "cell_type": "code",
   "execution_count": 77,
   "id": "058d5a07",
   "metadata": {},
   "outputs": [
    {
     "data": {
      "text/plain": [
       "26.8"
      ]
     },
     "execution_count": 77,
     "metadata": {},
     "output_type": "execute_result"
    }
   ],
   "source": [
    "# L'écart type\n",
    "round(erp['prix'].std(),2)"
   ]
  },
  {
   "cell_type": "code",
   "execution_count": 78,
   "id": "e891a589",
   "metadata": {},
   "outputs": [
    {
     "data": {
      "text/plain": [
       "0.83"
      ]
     },
     "execution_count": 78,
     "metadata": {},
     "output_type": "execute_result"
    }
   ],
   "source": [
    "# Le coefficient de variation\n",
    "round(erp['prix'].std()/erp['prix'].mean(),2)"
   ]
  },
  {
   "cell_type": "markdown",
   "id": "a04c01fa",
   "metadata": {},
   "source": [
    "Ce coefficient de variation est énorme, idéalement, on aime avoir un coefficient de variation inférieur à 0.15, et on considère que la distribution de l'échantillon est trop dispersée si son coefficient de variation est supérieur à 0.30."
   ]
  },
  {
   "cell_type": "markdown",
   "id": "3ffaefe3",
   "metadata": {},
   "source": [
    "### La boxplot, ou boîte à moustaches"
   ]
  },
  {
   "cell_type": "code",
   "execution_count": 79,
   "id": "8a42318f",
   "metadata": {},
   "outputs": [
    {
     "data": {
      "text/plain": [
       "Text(0.5, 1.0, 'Boxplot des prix')"
      ]
     },
     "execution_count": 79,
     "metadata": {},
     "output_type": "execute_result"
    },
    {
     "data": {
      "image/png": "[encoded data removed]",
      "text/plain": [
       "<Figure size 1500x500 with 1 Axes>"
      ]
     },
     "metadata": {},
     "output_type": "display_data"
    }
   ],
   "source": [
    "plt.figure(figsize=(15, 5))\n",
    "\n",
    "sns.boxplot(erp['prix'])\n",
    "plt.xticks(np.arange(0,250,20))\n",
    "plt.xlabel(None)\n",
    "plt.title('Boxplot des prix')"
   ]
  },
  {
   "cell_type": "markdown",
   "id": "38db38b3",
   "metadata": {},
   "source": [
    "On peut voir que beaucoup de prix sont considérés abberants par la diagramme boite à moustaches, tous les prix supérieur à **Q3 + 1.5 * IQR** soit 83.10€. C'est valeurs extrêmes sont les outliers."
   ]
  },
  {
   "cell_type": "markdown",
   "id": "cbe016fb",
   "metadata": {},
   "source": [
    "**Notre analyse montre que notre échantillon est très dispersé (test des 10% par rapport à la moyenne, boîte à moustaches et CV=83%).**\n",
    "\n",
    "**Nous allons tenter de l'améliorer en enlevant les outliers via 2 méthodes : l'IQR et le Zscore.**"
   ]
  },
  {
   "cell_type": "markdown",
   "id": "3e208300",
   "metadata": {},
   "source": [
    "### Méthode de l'IQR\n",
    "**L'IQR est l'écart interquartile, c'est à dire la différence entre le 3e quartile et le premier quartile.\n",
    "C'est un indicateur robuste sur la distribution d'un échantillon.\n",
    "La méthode de l'IQR consiste à considérer aberrantes ou atypiques les valeurs de l'échantillon > Q3+(1.5*IQR)**"
   ]
  },
  {
   "cell_type": "code",
   "execution_count": 80,
   "id": "f8545b5a",
   "metadata": {},
   "outputs": [
    {
     "name": "stdout",
     "output_type": "stream",
     "text": [
      "27.4\n"
     ]
    }
   ],
   "source": [
    "Q3 = np.quantile(erp['prix'], 0.75)\n",
    "Q1 = np.quantile(erp['prix'], 0.25)\n",
    "IQR = Q3-Q1\n",
    "print(IQR)"
   ]
  },
  {
   "cell_type": "code",
   "execution_count": 81,
   "id": "a4d911e5",
   "metadata": {},
   "outputs": [
    {
     "data": {
      "text/plain": [
       "83.1"
      ]
     },
     "execution_count": 81,
     "metadata": {},
     "output_type": "execute_result"
    }
   ],
   "source": [
    "# Valeurs au delà de laquelle les prix sont considérés abberants par la méthode de l'IQR, cela signifie qu'on gardera les prix inférieurs à ce prix là\n",
    "Q3+(1.5*IQR)"
   ]
  },
  {
   "cell_type": "markdown",
   "id": "1c347fb3",
   "metadata": {},
   "source": [
    "Dans notre cas, on peut considérer les valeurs atypiques (plutôt que aberrantes) car une bouteille de vin peut coûter plusieurs centaines d'euros."
   ]
  },
  {
   "cell_type": "code",
   "execution_count": 82,
   "id": "1b59577b",
   "metadata": {},
   "outputs": [
    {
     "data": {
      "text/plain": [
       "700     5.2\n",
       "100     5.7\n",
       "101     5.7\n",
       "102     5.7\n",
       "605     5.7\n",
       "       ... \n",
       "207    79.5\n",
       "209    79.5\n",
       "132    79.8\n",
       "10     80.0\n",
       "205    83.0\n",
       "Name: prix, Length: 788, dtype: float64"
      ]
     },
     "execution_count": 82,
     "metadata": {},
     "output_type": "execute_result"
    }
   ],
   "source": [
    "erp['prix'][erp['prix']<83.1].sort_values()"
   ]
  },
  {
   "cell_type": "markdown",
   "id": "a15e631d",
   "metadata": {},
   "source": [
    "**Avec la méthode de l'IQR, on garde 788 valeurs, donc on en rejette 37 et la valeur max est de 83€.**"
   ]
  },
  {
   "cell_type": "code",
   "execution_count": 83,
   "id": "9b0b4094",
   "metadata": {},
   "outputs": [
    {
     "data": {
      "text/plain": [
       "37"
      ]
     },
     "execution_count": 83,
     "metadata": {},
     "output_type": "execute_result"
    }
   ],
   "source": [
    "erp['prix'][erp['prix']>83.1].sort_values().count()"
   ]
  },
  {
   "cell_type": "markdown",
   "id": "224c0f9a",
   "metadata": {},
   "source": [
    "Voici ces outliers"
   ]
  },
  {
   "cell_type": "code",
   "execution_count": 84,
   "id": "0199257b",
   "metadata": {},
   "outputs": [
    {
     "data": {
      "text/html": [
       "<div>\n",
       "<style scoped>\n",
       "    .dataframe tbody tr th:only-of-type {\n",
       "        vertical-align: middle;\n",
       "    }\n",
       "\n",
       "    .dataframe tbody tr th {\n",
       "        vertical-align: top;\n",
       "    }\n",
       "\n",
       "    .dataframe thead th {\n",
       "        text-align: right;\n",
       "    }\n",
       "</style>\n",
       "<table border=\"1\" class=\"dataframe\">\n",
       "  <thead>\n",
       "    <tr style=\"text-align: right;\">\n",
       "      <th></th>\n",
       "      <th>id_produit</th>\n",
       "      <th>vente_web</th>\n",
       "      <th>prix</th>\n",
       "      <th>quantite_stock</th>\n",
       "      <th>status_stock</th>\n",
       "      <th>id_web</th>\n",
       "      <th>total_vente</th>\n",
       "      <th>date_creation</th>\n",
       "      <th>description</th>\n",
       "      <th>CA</th>\n",
       "    </tr>\n",
       "  </thead>\n",
       "  <tbody>\n",
       "    <tr>\n",
       "      <th>19</th>\n",
       "      <td>4055</td>\n",
       "      <td>0</td>\n",
       "      <td>86.1</td>\n",
       "      <td>0</td>\n",
       "      <td>outofstock</td>\n",
       "      <td>NaN</td>\n",
       "      <td>NaN</td>\n",
       "      <td>NaT</td>\n",
       "      <td>NaN</td>\n",
       "      <td>NaN</td>\n",
       "    </tr>\n",
       "    <tr>\n",
       "      <th>66</th>\n",
       "      <td>4115</td>\n",
       "      <td>1</td>\n",
       "      <td>100.0</td>\n",
       "      <td>11</td>\n",
       "      <td>instock</td>\n",
       "      <td>15382.0</td>\n",
       "      <td>0.0</td>\n",
       "      <td>2018-02-13 11:08:45</td>\n",
       "      <td>Zind-Humbrecht Riesling Grand Cru Rangen De Th...</td>\n",
       "      <td>0.0</td>\n",
       "    </tr>\n",
       "    <tr>\n",
       "      <th>68</th>\n",
       "      <td>4132</td>\n",
       "      <td>1</td>\n",
       "      <td>88.4</td>\n",
       "      <td>5</td>\n",
       "      <td>instock</td>\n",
       "      <td>11668.0</td>\n",
       "      <td>0.0</td>\n",
       "      <td>2018-02-13 11:43:55</td>\n",
       "      <td>Zind-Humbrecht Pinot Gris Grand Cru Rangen De ...</td>\n",
       "      <td>0.0</td>\n",
       "    </tr>\n",
       "    <tr>\n",
       "      <th>208</th>\n",
       "      <td>4352</td>\n",
       "      <td>1</td>\n",
       "      <td>225.0</td>\n",
       "      <td>0</td>\n",
       "      <td>outofstock</td>\n",
       "      <td>15940.0</td>\n",
       "      <td>5.0</td>\n",
       "      <td>2018-03-02 10:30:04</td>\n",
       "      <td>Champagne Egly-Ouriet Grand Cru Millésimé 2008</td>\n",
       "      <td>1125.0</td>\n",
       "    </tr>\n",
       "    <tr>\n",
       "      <th>210</th>\n",
       "      <td>4355</td>\n",
       "      <td>1</td>\n",
       "      <td>126.5</td>\n",
       "      <td>2</td>\n",
       "      <td>instock</td>\n",
       "      <td>12589.0</td>\n",
       "      <td>11.0</td>\n",
       "      <td>2018-03-02 10:46:10</td>\n",
       "      <td>Champagne Egly-Ouriet Grand Cru Blanc de Noirs</td>\n",
       "      <td>1391.5</td>\n",
       "    </tr>\n",
       "  </tbody>\n",
       "</table>\n",
       "</div>"
      ],
      "text/plain": [
       "     id_produit vente_web   prix  quantite_stock status_stock   id_web  \\\n",
       "19         4055         0   86.1               0   outofstock      NaN   \n",
       "66         4115         1  100.0              11      instock  15382.0   \n",
       "68         4132         1   88.4               5      instock  11668.0   \n",
       "208        4352         1  225.0               0   outofstock  15940.0   \n",
       "210        4355         1  126.5               2      instock  12589.0   \n",
       "\n",
       "     total_vente       date_creation  \\\n",
       "19           NaN                 NaT   \n",
       "66           0.0 2018-02-13 11:08:45   \n",
       "68           0.0 2018-02-13 11:43:55   \n",
       "208          5.0 2018-03-02 10:30:04   \n",
       "210         11.0 2018-03-02 10:46:10   \n",
       "\n",
       "                                           description      CA  \n",
       "19                                                 NaN     NaN  \n",
       "66   Zind-Humbrecht Riesling Grand Cru Rangen De Th...     0.0  \n",
       "68   Zind-Humbrecht Pinot Gris Grand Cru Rangen De ...     0.0  \n",
       "208     Champagne Egly-Ouriet Grand Cru Millésimé 2008  1125.0  \n",
       "210     Champagne Egly-Ouriet Grand Cru Blanc de Noirs  1391.5  "
      ]
     },
     "execution_count": 84,
     "metadata": {},
     "output_type": "execute_result"
    }
   ],
   "source": [
    "df_global[df_global['prix']>83.1].head()"
   ]
  },
  {
   "cell_type": "code",
   "execution_count": 85,
   "id": "a6320f65",
   "metadata": {},
   "outputs": [
    {
     "data": {
      "text/plain": [
       "6970.0"
      ]
     },
     "execution_count": 85,
     "metadata": {},
     "output_type": "execute_result"
    }
   ],
   "source": [
    "df_global.loc[df_global['prix']>83.1, :]['CA'].sum()"
   ]
  },
  {
   "cell_type": "code",
   "execution_count": 86,
   "id": "55e5755a",
   "metadata": {},
   "outputs": [
    {
     "data": {
      "text/plain": [
       "9.88"
      ]
     },
     "execution_count": 86,
     "metadata": {},
     "output_type": "execute_result"
    }
   ],
   "source": [
    "round(100*(df_global.loc[df_global['prix']>83.1, :]['CA'].sum())/df_global['CA'].sum(),2)"
   ]
  },
  {
   "cell_type": "markdown",
   "id": "365d54bf",
   "metadata": {},
   "source": [
    "Ces outliers représente 6970 € soit 9.88% du CA."
   ]
  },
  {
   "cell_type": "markdown",
   "id": "a5547fba",
   "metadata": {},
   "source": [
    "### Méthode du Zscore\n",
    "**Pour chaque valeurs de l'échantillon, on calculera son zscore, avec zscore = (prix - moyenne)/écart type**\n",
    "\n",
    "**Si la valeur absolue du zscore est inférieur à 3, on garde notre valeurs en cours, sinon on la rejette de l'échantillon.**"
   ]
  },
  {
   "cell_type": "code",
   "execution_count": 87,
   "id": "d434b694",
   "metadata": {},
   "outputs": [
    {
     "data": {
      "text/plain": [
       "0      24.2\n",
       "1      34.3\n",
       "2      20.8\n",
       "3      14.1\n",
       "4      46.0\n",
       "       ... \n",
       "820    45.0\n",
       "821    45.0\n",
       "822    54.8\n",
       "823    26.5\n",
       "824    16.3\n",
       "Name: prix, Length: 807, dtype: float64"
      ]
     },
     "execution_count": 87,
     "metadata": {},
     "output_type": "execute_result"
    }
   ],
   "source": [
    "erp['prix'][abs(st.zscore(erp['prix']))<3]"
   ]
  },
  {
   "cell_type": "markdown",
   "id": "0649471f",
   "metadata": {},
   "source": [
    "**Ici on garde 807 valeurs, cela signifie qu'on en a rejeté 18. De plus, la valeur maximum est de 112€.**"
   ]
  },
  {
   "cell_type": "code",
   "execution_count": 88,
   "id": "f6b0edc2",
   "metadata": {},
   "outputs": [
    {
     "data": {
      "text/plain": [
       "18"
      ]
     },
     "execution_count": 88,
     "metadata": {},
     "output_type": "execute_result"
    }
   ],
   "source": [
    "erp['prix'][abs(st.zscore(erp['prix']))>3].count()"
   ]
  },
  {
   "cell_type": "markdown",
   "id": "84e13537",
   "metadata": {},
   "source": [
    "### Les mesures de forme"
   ]
  },
  {
   "cell_type": "markdown",
   "id": "90d62d10",
   "metadata": {},
   "source": [
    "#### Le skewness empirique, mesure d'asymétrie\n",
    "L’asymétrie d’une distribution traduit la régularité (ou non) avec laquelle les observations se répartissent autour de la valeur centrale."
   ]
  },
  {
   "cell_type": "code",
   "execution_count": 89,
   "id": "7e574f78",
   "metadata": {
    "scrolled": true
   },
   "outputs": [
    {
     "data": {
      "text/plain": [
       "2.6227973685638717"
      ]
     },
     "execution_count": 89,
     "metadata": {},
     "output_type": "execute_result"
    }
   ],
   "source": [
    "erp['prix'].skew()"
   ]
  },
  {
   "cell_type": "markdown",
   "id": "116e9954",
   "metadata": {},
   "source": [
    "On a γ1>0, ce qui veut dire que la distribution est étalée à droite. Cela confirme ce qu'on a vu précédemment."
   ]
  },
  {
   "cell_type": "code",
   "execution_count": 90,
   "id": "b1bc7a8b",
   "metadata": {},
   "outputs": [
    {
     "data": {
      "text/plain": [
       "SkewtestResult(statistic=18.297937831750634, pvalue=8.594075403453784e-75)"
      ]
     },
     "execution_count": 90,
     "metadata": {},
     "output_type": "execute_result"
    }
   ],
   "source": [
    "st.skewtest(erp['prix'])"
   ]
  },
  {
   "cell_type": "markdown",
   "id": "180f9b4e",
   "metadata": {},
   "source": [
    "**On passe ici un test d'asymétrie par rapport à une distribution normale.\n",
    "On a ici un pvalue très nettement inférieur à 0.01, cela indique que l'asymétrie de notre échantillon ne suit pas une loi normal.**"
   ]
  },
  {
   "cell_type": "markdown",
   "id": "51c1c4b8",
   "metadata": {},
   "source": [
    "#### Le kurtosis empirique,  mesure d'aplatissement"
   ]
  },
  {
   "cell_type": "code",
   "execution_count": 91,
   "id": "d4c5698c",
   "metadata": {},
   "outputs": [
    {
     "data": {
      "text/plain": [
       "10.615358266001198"
      ]
     },
     "execution_count": 91,
     "metadata": {},
     "output_type": "execute_result"
    }
   ],
   "source": [
    "erp['prix'].kurtosis()"
   ]
  },
  {
   "cell_type": "markdown",
   "id": "a400ffbe",
   "metadata": {},
   "source": [
    "On a γ2>0, donc la distribution est moins aplatie que la distribution normale :  les observations sont plus concentrées."
   ]
  },
  {
   "cell_type": "code",
   "execution_count": 92,
   "id": "c518aed8",
   "metadata": {},
   "outputs": [
    {
     "data": {
      "text/plain": [
       "KurtosistestResult(statistic=12.673377084049374, pvalue=8.306000464519405e-37)"
      ]
     },
     "execution_count": 92,
     "metadata": {},
     "output_type": "execute_result"
    }
   ],
   "source": [
    "st.kurtosistest(erp['prix'])"
   ]
  },
  {
   "cell_type": "markdown",
   "id": "28c78341",
   "metadata": {},
   "source": [
    "On a ici un pvalue très nettement inférieur à 0.01, cela indique que l'aplanissement de notre échantillon ne suit pas une loi normale."
   ]
  },
  {
   "cell_type": "markdown",
   "id": "4ac7460e",
   "metadata": {},
   "source": [
    "<a id='test_normal'></a>\n",
    "## Test de normalités <a href=\"#sommaire\" style=\"font-size : 10px ; padding-left:10px\">Retour Sommaire</a>\n",
    "**Nous allons faire passer des tests de normalité à notre variable.\n",
    "Nous passerons le test de Test de Kolmogorov-Smirnov puis de Shapiro-Wilk.**"
   ]
  },
  {
   "cell_type": "code",
   "execution_count": 93,
   "id": "527b5fba",
   "metadata": {},
   "outputs": [
    {
     "data": {
      "text/plain": [
       "<matplotlib.legend.Legend at 0x173d3c1bc40>"
      ]
     },
     "execution_count": 93,
     "metadata": {},
     "output_type": "execute_result"
    },
    {
     "data": {
      "image/png": "[encoded data removed]",
      "text/plain": [
       "<Figure size 1000x600 with 1 Axes>"
      ]
     },
     "metadata": {},
     "output_type": "display_data"
    }
   ],
   "source": [
    "plt.figure(figsize=(10,6))\n",
    "\n",
    "x=erp['prix']\n",
    "x.hist(density=True, bins=20, label='Distribution des prix')\n",
    "\n",
    "mean=np.mean(x)\n",
    "std=np.std(x)\n",
    "\n",
    "rvs=np.linspace(mean-3*std, mean+3*std, 100)\n",
    "pdf = st.norm.pdf(rvs, mean, std)\n",
    "\n",
    "plt.plot(rvs, pdf, label='Distribution normale')\n",
    "\n",
    "plt.legend(loc='upper right')"
   ]
  },
  {
   "cell_type": "markdown",
   "id": "28c8d13e",
   "metadata": {},
   "source": [
    "**La distribution des prix ne semble pas suivre une loi normale d'après le graphique, nous allons voir si les tests confirment cela.**"
   ]
  },
  {
   "cell_type": "markdown",
   "id": "59b05762",
   "metadata": {},
   "source": [
    "### Test de Kolmogorov-Smirnov"
   ]
  },
  {
   "cell_type": "markdown",
   "id": "02a99069",
   "metadata": {},
   "source": [
    "**Le test de Kolmogorov-Smirnov est un test d'hypothèse utilisé pour déterminer si un échantillon suit bien une loi donnée connue par sa fonction de répartition continue (en l'occurence pour nous la loi normale), ou bien si deux échantillons suivent la même loi.**\n",
    "\n",
    "On va ainsi comparer la distribution de notre échantillon avec la distribution de la loi normale et conclure sur si oui ou non notre échantillon suit une loi normale.\n",
    "\n",
    "Voici notre test d'hypothèse :\n",
    "- h0 : notre échantillon suit une loi normale\n",
    "- h1 : notre échantillon ne suit pas une loi normale\n",
    "\n",
    "Le test de de Kolmogorov-Smirnov va nous donner 2 résultats : statistic et pvalue\n",
    "\n",
    "Voici comment interpréter les résulats :\n",
    "- pvalue =< 0.01 : très forte présomption contre l'hypothèse nulle ;\n",
    "- 0.01 < p =< 0.05 : forte présomption contre l'hypothèse nulle ;\n",
    "- 0.05 < p =< 0.1 : faible présomption contre l'hypothèse nulle ;\n",
    "- 0.1 < p : pas de présomption contre l'hypothèse nulle.\n",
    "\n",
    "alpha = 1%"
   ]
  },
  {
   "cell_type": "code",
   "execution_count": 94,
   "id": "ac2e5de8",
   "metadata": {},
   "outputs": [
    {
     "name": "stdout",
     "output_type": "stream",
     "text": [
      "0.0\n"
     ]
    }
   ],
   "source": [
    "x=erp['prix']\n",
    "results = st.kstest(x, 'norm')\n",
    "print(results[1])"
   ]
  },
  {
   "cell_type": "markdown",
   "id": "cfd8cf88",
   "metadata": {},
   "source": [
    "**pvalue=0.0 < alpha dans notre cas.\n",
    "On rejette l'hypothèse h0.\n",
    "On peut conclure que notre échantillon ne suit pas une loi normale.**"
   ]
  },
  {
   "cell_type": "markdown",
   "id": "c6903418",
   "metadata": {},
   "source": [
    "### Test de Shapiro-Wilk"
   ]
  },
  {
   "cell_type": "markdown",
   "id": "63885b07",
   "metadata": {},
   "source": [
    "**En statistique, le test de Shapiro–Wilk teste l'hypothèse nulle selon laquelle un échantillon est issu d'une population normalement distribuée (comme le test d'avant).**\n",
    "\n",
    "alpha=5% cela signifie qu'on pose un risque de 5%"
   ]
  },
  {
   "cell_type": "code",
   "execution_count": 95,
   "id": "de5baa3c",
   "metadata": {},
   "outputs": [
    {
     "data": {
      "text/plain": [
       "ShapiroResult(statistic=0.7640294432640076, pvalue=9.484516577227936e-33)"
      ]
     },
     "execution_count": 95,
     "metadata": {},
     "output_type": "execute_result"
    }
   ],
   "source": [
    "st.shapiro(x)"
   ]
  },
  {
   "cell_type": "markdown",
   "id": "6f806754",
   "metadata": {},
   "source": [
    "**pvalue=9.48e-33 dans notre cas. \n",
    "pvalue<0.01 donc on peut conclure que notre échantillon ne suit pas une loi normale.**\n",
    "\n",
    "**On va essayer de passer notre échantillon au logarithme ou à la racine pour tenter qu'elle suive une loi normale, on appelle cela une transformation.**"
   ]
  },
  {
   "cell_type": "markdown",
   "id": "56d25346",
   "metadata": {},
   "source": [
    "### Passage au logarithme"
   ]
  },
  {
   "cell_type": "code",
   "execution_count": 96,
   "id": "32e9a321",
   "metadata": {},
   "outputs": [
    {
     "data": {
      "text/plain": [
       "ShapiroResult(statistic=0.9915798902511597, pvalue=0.00012036828411510214)"
      ]
     },
     "execution_count": 96,
     "metadata": {},
     "output_type": "execute_result"
    }
   ],
   "source": [
    "st.shapiro(np.log(x))"
   ]
  },
  {
   "cell_type": "code",
   "execution_count": 97,
   "id": "8e38d110",
   "metadata": {},
   "outputs": [
    {
     "data": {
      "text/plain": [
       "<matplotlib.legend.Legend at 0x173d3d651c0>"
      ]
     },
     "execution_count": 97,
     "metadata": {},
     "output_type": "execute_result"
    },
    {
     "data": {
      "image/png": "[encoded data removed]",
      "text/plain": [
       "<Figure size 1000x600 with 1 Axes>"
      ]
     },
     "metadata": {},
     "output_type": "display_data"
    }
   ],
   "source": [
    "plt.figure(figsize=(10,6))\n",
    "\n",
    "x=np.log(erp['prix'])\n",
    "x.hist(density=True, bins=20, label='Distribution logarithmique des prix')\n",
    "\n",
    "mean=np.mean(x)\n",
    "std=np.std(x)\n",
    "\n",
    "rvs=np.linspace(mean-3*std, mean+3*std, 100)\n",
    "pdf = st.norm.pdf(rvs, mean, std)\n",
    "\n",
    "plt.plot(rvs, pdf, label='Distribution normale')\n",
    "\n",
    "plt.legend(loc='upper right')"
   ]
  },
  {
   "cell_type": "markdown",
   "id": "e6217932",
   "metadata": {},
   "source": [
    "Le passage au logarithme n'est pas concluant d'après le pvalue, pourtant la distribution semble suivre la loi normale d'après le graphique."
   ]
  },
  {
   "cell_type": "markdown",
   "id": "7d3fa335",
   "metadata": {},
   "source": [
    "## Tests paramétriques vs non paramétriques\n",
    "Lorsque l’on réalise des comparaisons de population ou que l’on compare une population à une valeur théorique, il existe deux grandes familles de tests : les tests paramétriques, et les tests non paramétriques."
   ]
  },
  {
   "cell_type": "markdown",
   "id": "a34296dd",
   "metadata": {},
   "source": [
    "**Si on conclue que notre échantillon suit une loi normal, on pourra s'orienter vers des tests paramétriques (basés sur la moyenne), dans le cas contraire, on s'orientera vers des tests non paramétriques (basés sur la médiane).**"
   ]
  },
  {
   "cell_type": "markdown",
   "id": "915b0d15",
   "metadata": {},
   "source": [
    "### Tests paramétriques"
   ]
  },
  {
   "cell_type": "markdown",
   "id": "e967b521",
   "metadata": {},
   "source": [
    "Les tests paramétriques fonctionnent en supposant que les données que l’on a à disposition suivent un type de loi de distribution connu (en général la loi normale).\n",
    "\n",
    "Pour calculer le risque alpha du test statistique, il suffit de calculer la moyenne et l’écart-type de l’échantillon afin d’accéder à la loi de distribution de l’échantillon.\n",
    "\n",
    "Test paramétrique :\n",
    "La loi de distribution étant ainsi parfaitement connue, on peut calculer le risque alpha en se basant sur les calculs théoriques de la loi gaussienne."
   ]
  },
  {
   "cell_type": "markdown",
   "id": "1643c21a",
   "metadata": {},
   "source": [
    "### Tests non paramétriques"
   ]
  },
  {
   "cell_type": "markdown",
   "id": "cd9511d1",
   "metadata": {},
   "source": [
    "Les tests non paramétriques ne font aucune hypothèse sur le type de loi de distribution des données. Ils se basent uniquement sur les propriétés numériques des échantillons. \n",
    "\n",
    "N'ayant pas réussi à normaliser notre échantillon, nous allons utiliser les tests non paramétriques pour notre échantillon."
   ]
  },
  {
   "cell_type": "markdown",
   "id": "934549cf",
   "metadata": {},
   "source": [
    "<a id='synthese'></a>\n",
    "## Synthèse analyse univariée <a href=\"#sommaire\" style=\"font-size : 10px ; padding-left:10px\">Retour Sommaire</a>"
   ]
  },
  {
   "cell_type": "markdown",
   "id": "df10dadf",
   "metadata": {},
   "source": [
    "**Nous allons voir un tableau de synthèse avec 6 échantillons et les tests de représentativité, de forme et de normalité pour chaque échantillon.**"
   ]
  },
  {
   "cell_type": "markdown",
   "id": "0ee6d345",
   "metadata": {},
   "source": [
    "On fait une synthèse de notre analyse univariée en récapitulant les chiffres expliqués précédemment.\n",
    "On fera aussi tous ces calculs sur notre échantillon en enlevant les valeurs aberrantes selon la méthode de l'IQR et du zscore.\n",
    "\n",
    "On passera ensuite notre échantillon au logarithme et à la racine, en l'analysant telle quelle puis en enlevant les valeurs aberrantes avec la méthode de l'IQR et du zscore."
   ]
  },
  {
   "cell_type": "markdown",
   "id": "09436fa5",
   "metadata": {},
   "source": [
    "### Création d'un dataframe récapitulatif"
   ]
  },
  {
   "cell_type": "code",
   "execution_count": 98,
   "id": "feff57c9",
   "metadata": {},
   "outputs": [],
   "source": [
    "# variable échantillon de base + méthode IQR + méthode zscore\n",
    "var = erp['prix']\n",
    "var_IQR = var[var<(np.quantile(var, 0.75)+(1.5*(st.iqr(var))))]\n",
    "var_zscore = var[abs(st.zscore(var))<3]\n",
    "\n",
    "# transformations au logarithme \n",
    "var_log = np.log(var)\n",
    "log_IQR = var_log[var_log<(np.quantile(var_log, 0.75)+(1.5*(st.iqr(var_log))))]\n",
    "log_zscore = var_log[abs(st.zscore(var_log))<3]\n",
    "\n",
    "# transformations à la racine\n",
    "var_sqrt = np.sqrt(var)\n",
    "sqrt_IQR = var_sqrt[var_sqrt<(np.quantile(var_sqrt, 0.75)+(1.5*(st.iqr(var_sqrt))))]\n",
    "sqrt_zscore = var_sqrt[abs(st.zscore(var_sqrt))<3]\n",
    "\n",
    "# mes 9 échantillons\n",
    "echantillon = [var, var_IQR, var_zscore, var_log, log_IQR, log_zscore, var_sqrt, sqrt_IQR, sqrt_zscore]\n",
    "\n",
    "# les colonnes du dataframe correspondant aux 9 échantillons\n",
    "colonne = ['echantillon_base', 'echantillon_base_IQR', 'echantillon_base_zscore', \n",
    "           'echantillon_base_log', 'log_IQR', 'log_zscore',\n",
    "           'echantillon_base_sqrt', 'sqrt_IQR', 'sqrt_zscore']\n",
    "\n",
    "# les indicateurs qu'on va calculer pour chaque échantillon\n",
    "indicateur = ['moyenne', 'moyenne_min', 'moyenne_max', 'test_moyenne_10_pourcents','mediane', 'mode', 'moyenne_tronquee', \n",
    "              'ecart_type', 'CV', 'IQR', 'outlier_max_iqr', 'outlier_min_iqr', 'nb_outlier_iqr', 'outlier_max_zscore',\n",
    "              'outlier_min_zscore', 'nb_outlier_zscore', 'skewness', 'skewness_pvalue', 'kurtosis', 'kurtosis_pvalue',\n",
    "              'ks_pvalue', 'shapiro_pvalue']"
   ]
  },
  {
   "cell_type": "code",
   "execution_count": 99,
   "id": "19984b44",
   "metadata": {},
   "outputs": [
    {
     "data": {
      "text/html": [
       "<div>\n",
       "<style scoped>\n",
       "    .dataframe tbody tr th:only-of-type {\n",
       "        vertical-align: middle;\n",
       "    }\n",
       "\n",
       "    .dataframe tbody tr th {\n",
       "        vertical-align: top;\n",
       "    }\n",
       "\n",
       "    .dataframe thead th {\n",
       "        text-align: right;\n",
       "    }\n",
       "</style>\n",
       "<table border=\"1\" class=\"dataframe\">\n",
       "  <thead>\n",
       "    <tr style=\"text-align: right;\">\n",
       "      <th></th>\n",
       "      <th>echantillon_base</th>\n",
       "      <th>echantillon_base_IQR</th>\n",
       "      <th>echantillon_base_zscore</th>\n",
       "      <th>echantillon_base_log</th>\n",
       "      <th>log_IQR</th>\n",
       "      <th>log_zscore</th>\n",
       "      <th>echantillon_base_sqrt</th>\n",
       "      <th>sqrt_IQR</th>\n",
       "      <th>sqrt_zscore</th>\n",
       "    </tr>\n",
       "  </thead>\n",
       "  <tbody>\n",
       "    <tr>\n",
       "      <th>moyenne</th>\n",
       "      <td>32.4156</td>\n",
       "      <td>28.2565</td>\n",
       "      <td>29.8753</td>\n",
       "      <td>3.2231</td>\n",
       "      <td>3.2178</td>\n",
       "      <td>3.2178</td>\n",
       "      <td>5.3356</td>\n",
       "      <td>5.1799</td>\n",
       "      <td>5.2499</td>\n",
       "    </tr>\n",
       "    <tr>\n",
       "      <th>moyenne_min</th>\n",
       "      <td>29.1741</td>\n",
       "      <td>25.4308</td>\n",
       "      <td>26.8878</td>\n",
       "      <td>2.9008</td>\n",
       "      <td>2.896</td>\n",
       "      <td>2.896</td>\n",
       "      <td>4.802</td>\n",
       "      <td>4.6619</td>\n",
       "      <td>4.7249</td>\n",
       "    </tr>\n",
       "    <tr>\n",
       "      <th>moyenne_max</th>\n",
       "      <td>35.6572</td>\n",
       "      <td>31.0821</td>\n",
       "      <td>32.8629</td>\n",
       "      <td>3.5454</td>\n",
       "      <td>3.5396</td>\n",
       "      <td>3.5396</td>\n",
       "      <td>5.8692</td>\n",
       "      <td>5.6979</td>\n",
       "      <td>5.7749</td>\n",
       "    </tr>\n",
       "    <tr>\n",
       "      <th>test_moyenne_10_pourcents</th>\n",
       "      <td>False</td>\n",
       "      <td>False</td>\n",
       "      <td>False</td>\n",
       "      <td>True</td>\n",
       "      <td>True</td>\n",
       "      <td>True</td>\n",
       "      <td>True</td>\n",
       "      <td>True</td>\n",
       "      <td>True</td>\n",
       "    </tr>\n",
       "    <tr>\n",
       "      <th>mediane</th>\n",
       "      <td>24.4</td>\n",
       "      <td>23.4</td>\n",
       "      <td>24.0</td>\n",
       "      <td>3.1946</td>\n",
       "      <td>3.1905</td>\n",
       "      <td>3.1905</td>\n",
       "      <td>4.9396</td>\n",
       "      <td>4.899</td>\n",
       "      <td>4.9092</td>\n",
       "    </tr>\n",
       "    <tr>\n",
       "      <th>mode</th>\n",
       "      <td>45.0</td>\n",
       "      <td>45.0</td>\n",
       "      <td>45.0</td>\n",
       "      <td>3.8067</td>\n",
       "      <td>3.8067</td>\n",
       "      <td>3.8067</td>\n",
       "      <td>6.7082</td>\n",
       "      <td>6.7082</td>\n",
       "      <td>6.7082</td>\n",
       "    </tr>\n",
       "    <tr>\n",
       "      <th>moyenne_tronquee</th>\n",
       "      <td>29.1416</td>\n",
       "      <td>26.9785</td>\n",
       "      <td>28.0186</td>\n",
       "      <td>3.2104</td>\n",
       "      <td>3.2073</td>\n",
       "      <td>3.2073</td>\n",
       "      <td>5.1866</td>\n",
       "      <td>5.0964</td>\n",
       "      <td>5.1439</td>\n",
       "    </tr>\n",
       "    <tr>\n",
       "      <th>ecart_type</th>\n",
       "      <td>26.7958</td>\n",
       "      <td>17.5236</td>\n",
       "      <td>20.2654</td>\n",
       "      <td>0.701</td>\n",
       "      <td>0.6935</td>\n",
       "      <td>0.6935</td>\n",
       "      <td>1.9879</td>\n",
       "      <td>1.7164</td>\n",
       "      <td>1.8183</td>\n",
       "    </tr>\n",
       "    <tr>\n",
       "      <th>CV</th>\n",
       "      <td>0.8266</td>\n",
       "      <td>0.6202</td>\n",
       "      <td>0.6783</td>\n",
       "      <td>0.2175</td>\n",
       "      <td>0.2155</td>\n",
       "      <td>0.2155</td>\n",
       "      <td>0.3726</td>\n",
       "      <td>0.3313</td>\n",
       "      <td>0.3464</td>\n",
       "    </tr>\n",
       "    <tr>\n",
       "      <th>IQR</th>\n",
       "      <td>27.4</td>\n",
       "      <td>24.725</td>\n",
       "      <td>25.8</td>\n",
       "      <td>1.0566</td>\n",
       "      <td>1.0577</td>\n",
       "      <td>1.0577</td>\n",
       "      <td>2.6597</td>\n",
       "      <td>2.5417</td>\n",
       "      <td>2.5991</td>\n",
       "    </tr>\n",
       "    <tr>\n",
       "      <th>outlier_max_iqr</th>\n",
       "      <td>83.1</td>\n",
       "      <td>76.0875</td>\n",
       "      <td>78.9</td>\n",
       "      <td>5.32257</td>\n",
       "      <td>5.321833</td>\n",
       "      <td>5.321833</td>\n",
       "      <td>10.470291</td>\n",
       "      <td>10.148949</td>\n",
       "      <td>10.305674</td>\n",
       "    </tr>\n",
       "    <tr>\n",
       "      <th>outlier_min_iqr</th>\n",
       "      <td>0</td>\n",
       "      <td>0</td>\n",
       "      <td>0</td>\n",
       "      <td>1.096122</td>\n",
       "      <td>1.091035</td>\n",
       "      <td>1.091035</td>\n",
       "      <td>0</td>\n",
       "      <td>0</td>\n",
       "      <td>0</td>\n",
       "    </tr>\n",
       "    <tr>\n",
       "      <th>nb_outlier_iqr</th>\n",
       "      <td>37</td>\n",
       "      <td>14</td>\n",
       "      <td>24</td>\n",
       "      <td>2</td>\n",
       "      <td>0</td>\n",
       "      <td>0</td>\n",
       "      <td>19</td>\n",
       "      <td>6</td>\n",
       "      <td>12</td>\n",
       "    </tr>\n",
       "    <tr>\n",
       "      <th>outlier_max_zscore</th>\n",
       "      <td>112.0</td>\n",
       "      <td>80.0</td>\n",
       "      <td>88.4</td>\n",
       "      <td>5.253843</td>\n",
       "      <td>5.253843</td>\n",
       "      <td>5.253843</td>\n",
       "      <td>11.247222</td>\n",
       "      <td>10.276186</td>\n",
       "      <td>10.677078</td>\n",
       "    </tr>\n",
       "    <tr>\n",
       "      <th>outlier_min_zscore</th>\n",
       "      <td>0</td>\n",
       "      <td>0</td>\n",
       "      <td>0</td>\n",
       "      <td>1.121505</td>\n",
       "      <td>1.138483</td>\n",
       "      <td>1.138483</td>\n",
       "      <td>0</td>\n",
       "      <td>0.034023</td>\n",
       "      <td>0</td>\n",
       "    </tr>\n",
       "    <tr>\n",
       "      <th>nb_outlier_zscore</th>\n",
       "      <td>18</td>\n",
       "      <td>1</td>\n",
       "      <td>13</td>\n",
       "      <td>2</td>\n",
       "      <td>0</td>\n",
       "      <td>0</td>\n",
       "      <td>9</td>\n",
       "      <td>2</td>\n",
       "      <td>8</td>\n",
       "    </tr>\n",
       "    <tr>\n",
       "      <th>skewness</th>\n",
       "      <td>2.6228</td>\n",
       "      <td>0.9996</td>\n",
       "      <td>1.3635</td>\n",
       "      <td>0.2448</td>\n",
       "      <td>0.2009</td>\n",
       "      <td>0.2009</td>\n",
       "      <td>1.2184</td>\n",
       "      <td>0.674</td>\n",
       "      <td>0.8277</td>\n",
       "    </tr>\n",
       "    <tr>\n",
       "      <th>skewness_pvalue</th>\n",
       "      <td>0.0</td>\n",
       "      <td>0.0</td>\n",
       "      <td>0.0</td>\n",
       "      <td>0.0044</td>\n",
       "      <td>0.0189</td>\n",
       "      <td>0.0189</td>\n",
       "      <td>0.0</td>\n",
       "      <td>0.0</td>\n",
       "      <td>0.0</td>\n",
       "    </tr>\n",
       "    <tr>\n",
       "      <th>kurtosis</th>\n",
       "      <td>10.6154</td>\n",
       "      <td>0.2854</td>\n",
       "      <td>1.8032</td>\n",
       "      <td>-0.3414</td>\n",
       "      <td>-0.4503</td>\n",
       "      <td>-0.4503</td>\n",
       "      <td>2.1391</td>\n",
       "      <td>-0.123</td>\n",
       "      <td>0.3337</td>\n",
       "    </tr>\n",
       "    <tr>\n",
       "      <th>kurtosis_pvalue</th>\n",
       "      <td>0.0</td>\n",
       "      <td>0.1227</td>\n",
       "      <td>0.0</td>\n",
       "      <td>0.0181</td>\n",
       "      <td>0.0007</td>\n",
       "      <td>0.0007</td>\n",
       "      <td>0.0</td>\n",
       "      <td>0.4928</td>\n",
       "      <td>0.0742</td>\n",
       "    </tr>\n",
       "    <tr>\n",
       "      <th>ks_pvalue</th>\n",
       "      <td>0.0</td>\n",
       "      <td>0.0</td>\n",
       "      <td>0.0</td>\n",
       "      <td>0.0</td>\n",
       "      <td>0.0</td>\n",
       "      <td>0.0</td>\n",
       "      <td>0.0</td>\n",
       "      <td>0.0</td>\n",
       "      <td>0.0</td>\n",
       "    </tr>\n",
       "    <tr>\n",
       "      <th>shapiro_pvalue</th>\n",
       "      <td>0.0</td>\n",
       "      <td>0.0</td>\n",
       "      <td>0.0</td>\n",
       "      <td>0.0001</td>\n",
       "      <td>0.0002</td>\n",
       "      <td>0.0002</td>\n",
       "      <td>0.0</td>\n",
       "      <td>0.0</td>\n",
       "      <td>0.0</td>\n",
       "    </tr>\n",
       "  </tbody>\n",
       "</table>\n",
       "</div>"
      ],
      "text/plain": [
       "                          echantillon_base echantillon_base_IQR  \\\n",
       "moyenne                            32.4156              28.2565   \n",
       "moyenne_min                        29.1741              25.4308   \n",
       "moyenne_max                        35.6572              31.0821   \n",
       "test_moyenne_10_pourcents            False                False   \n",
       "mediane                               24.4                 23.4   \n",
       "mode                                  45.0                 45.0   \n",
       "moyenne_tronquee                   29.1416              26.9785   \n",
       "ecart_type                         26.7958              17.5236   \n",
       "CV                                  0.8266               0.6202   \n",
       "IQR                                   27.4               24.725   \n",
       "outlier_max_iqr                       83.1              76.0875   \n",
       "outlier_min_iqr                          0                    0   \n",
       "nb_outlier_iqr                          37                   14   \n",
       "outlier_max_zscore                   112.0                 80.0   \n",
       "outlier_min_zscore                       0                    0   \n",
       "nb_outlier_zscore                       18                    1   \n",
       "skewness                            2.6228               0.9996   \n",
       "skewness_pvalue                        0.0                  0.0   \n",
       "kurtosis                           10.6154               0.2854   \n",
       "kurtosis_pvalue                        0.0               0.1227   \n",
       "ks_pvalue                              0.0                  0.0   \n",
       "shapiro_pvalue                         0.0                  0.0   \n",
       "\n",
       "                          echantillon_base_zscore echantillon_base_log  \\\n",
       "moyenne                                   29.8753               3.2231   \n",
       "moyenne_min                               26.8878               2.9008   \n",
       "moyenne_max                               32.8629               3.5454   \n",
       "test_moyenne_10_pourcents                   False                 True   \n",
       "mediane                                      24.0               3.1946   \n",
       "mode                                         45.0               3.8067   \n",
       "moyenne_tronquee                          28.0186               3.2104   \n",
       "ecart_type                                20.2654                0.701   \n",
       "CV                                         0.6783               0.2175   \n",
       "IQR                                          25.8               1.0566   \n",
       "outlier_max_iqr                              78.9              5.32257   \n",
       "outlier_min_iqr                                 0             1.096122   \n",
       "nb_outlier_iqr                                 24                    2   \n",
       "outlier_max_zscore                           88.4             5.253843   \n",
       "outlier_min_zscore                              0             1.121505   \n",
       "nb_outlier_zscore                              13                    2   \n",
       "skewness                                   1.3635               0.2448   \n",
       "skewness_pvalue                               0.0               0.0044   \n",
       "kurtosis                                   1.8032              -0.3414   \n",
       "kurtosis_pvalue                               0.0               0.0181   \n",
       "ks_pvalue                                     0.0                  0.0   \n",
       "shapiro_pvalue                                0.0               0.0001   \n",
       "\n",
       "                            log_IQR log_zscore echantillon_base_sqrt  \\\n",
       "moyenne                      3.2178     3.2178                5.3356   \n",
       "moyenne_min                   2.896      2.896                 4.802   \n",
       "moyenne_max                  3.5396     3.5396                5.8692   \n",
       "test_moyenne_10_pourcents      True       True                  True   \n",
       "mediane                      3.1905     3.1905                4.9396   \n",
       "mode                         3.8067     3.8067                6.7082   \n",
       "moyenne_tronquee             3.2073     3.2073                5.1866   \n",
       "ecart_type                   0.6935     0.6935                1.9879   \n",
       "CV                           0.2155     0.2155                0.3726   \n",
       "IQR                          1.0577     1.0577                2.6597   \n",
       "outlier_max_iqr            5.321833   5.321833             10.470291   \n",
       "outlier_min_iqr            1.091035   1.091035                     0   \n",
       "nb_outlier_iqr                    0          0                    19   \n",
       "outlier_max_zscore         5.253843   5.253843             11.247222   \n",
       "outlier_min_zscore         1.138483   1.138483                     0   \n",
       "nb_outlier_zscore                 0          0                     9   \n",
       "skewness                     0.2009     0.2009                1.2184   \n",
       "skewness_pvalue              0.0189     0.0189                   0.0   \n",
       "kurtosis                    -0.4503    -0.4503                2.1391   \n",
       "kurtosis_pvalue              0.0007     0.0007                   0.0   \n",
       "ks_pvalue                       0.0        0.0                   0.0   \n",
       "shapiro_pvalue               0.0002     0.0002                   0.0   \n",
       "\n",
       "                            sqrt_IQR sqrt_zscore  \n",
       "moyenne                       5.1799      5.2499  \n",
       "moyenne_min                   4.6619      4.7249  \n",
       "moyenne_max                   5.6979      5.7749  \n",
       "test_moyenne_10_pourcents       True        True  \n",
       "mediane                        4.899      4.9092  \n",
       "mode                          6.7082      6.7082  \n",
       "moyenne_tronquee              5.0964      5.1439  \n",
       "ecart_type                    1.7164      1.8183  \n",
       "CV                            0.3313      0.3464  \n",
       "IQR                           2.5417      2.5991  \n",
       "outlier_max_iqr            10.148949   10.305674  \n",
       "outlier_min_iqr                    0           0  \n",
       "nb_outlier_iqr                     6          12  \n",
       "outlier_max_zscore         10.276186   10.677078  \n",
       "outlier_min_zscore          0.034023           0  \n",
       "nb_outlier_zscore                  2           8  \n",
       "skewness                       0.674      0.8277  \n",
       "skewness_pvalue                  0.0         0.0  \n",
       "kurtosis                      -0.123      0.3337  \n",
       "kurtosis_pvalue               0.4928      0.0742  \n",
       "ks_pvalue                        0.0         0.0  \n",
       "shapiro_pvalue                   0.0         0.0  "
      ]
     },
     "execution_count": 99,
     "metadata": {},
     "output_type": "execute_result"
    }
   ],
   "source": [
    "# création du dataframe\n",
    "\n",
    "liste = []\n",
    "\n",
    "for x in echantillon :\n",
    "    moyenne = round(x.mean(),4)\n",
    "    moyenne_min = round(x.mean()*0.9,4)\n",
    "    moyenne_max = round(x.mean()*1.1,4)\n",
    "    mediane = round(x.median(),4)\n",
    "    mode = round(x.mode()[0],4)\n",
    "    moyenne_tronquee = round(st.trim_mean(x, 0.05),4)\n",
    "    if (moyenne_min<mediane<moyenne_max) & (moyenne_min<moyenne_tronquee<moyenne_max) : test_moyenne_10_pourcents = True\n",
    "    else : test_moyenne_10_pourcents = False\n",
    "    ecart_type = round(x.std(),4)\n",
    "    CV = round(x.std()/x.mean(),4)\n",
    "    IQR = round(np.quantile(x, 0.75) - (np.quantile(x, 0.25)),4)\n",
    "    outlier_max_iqr = np.quantile(x, 0.75) + 1.5*IQR\n",
    "    outlier_min_iqr = max(np.quantile(x, 0.25) - 1.5*IQR,0)\n",
    "    nb_outlier_iqr = x[(x>outlier_max_iqr)|(x<outlier_min_iqr)].count()\n",
    "    outlier_max_zscore = x[abs(st.zscore(x))<3].max()\n",
    "    outlier_min_zscore = max(np.mean(x)-3*np.std(x),0)\n",
    "    nb_outlier_zscore = x[abs(st.zscore(x))>3].count()\n",
    "    skewness = round(x.skew(),4)\n",
    "    skewness_pvalue = round(st.skewtest(x)[1],4)\n",
    "    kurtosis = round(x.kurtosis(),4)\n",
    "    kurtosis_pvalue = round(st.kurtosistest(x)[1],4)\n",
    "    ks_pvalue = round(st.kstest(x, 'norm')[1],4)\n",
    "    shapiro_pvalue = round(st.shapiro(x)[1],4)\n",
    "    liste1 = [moyenne, moyenne_min, moyenne_max, test_moyenne_10_pourcents, mediane, mode, moyenne_tronquee, \n",
    "              ecart_type, CV, IQR, outlier_max_iqr, outlier_min_iqr, nb_outlier_iqr, outlier_max_zscore,\n",
    "              outlier_min_zscore, nb_outlier_zscore, skewness, skewness_pvalue, \n",
    "              kurtosis, kurtosis_pvalue, ks_pvalue, shapiro_pvalue]\n",
    "    liste.append(liste1) \n",
    "    \n",
    "dictionnaire = {colonne : liste for colonne, liste in zip(colonne, liste)}\n",
    "df = pd.DataFrame(dictionnaire, index=indicateur)\n",
    "\n",
    "df"
   ]
  },
  {
   "cell_type": "code",
   "execution_count": 100,
   "id": "931c94e3",
   "metadata": {},
   "outputs": [
    {
     "data": {
      "text/plain": [
       "0"
      ]
     },
     "execution_count": 100,
     "metadata": {},
     "output_type": "execute_result"
    }
   ],
   "source": [
    "min(erp['prix'][abs(st.zscore(erp['prix']))>3].min(),0)"
   ]
  },
  {
   "cell_type": "markdown",
   "id": "a04d8682",
   "metadata": {},
   "source": [
    "D'après ces indicateurs, on peut dire que nos échantillons passés au logarithme sont de meilleurs qualités pour une analyse.\n",
    "On voit par exemple, qu'il passe le test de la moyenne à 10%, que leur coefficient de variation est acceptable (<30%).\n",
    "\n",
    "On voit aussi que les échantillons transformés au logarithme ont les meilleurs indicateurs en terme d'asymétrie (skewness_pvalue) et d'aplanissement (kurtosis_pvalue).\n",
    "\n",
    "Cependant, aucun des échantillons ne passe les tests de Kolmogorov-Smirnov et de Shapiro-Wilk, donc aucun ne suivent une loi normale.\n",
    "\n",
    "L'inconvenient des transformations est qu'elle sont dures à analyser."
   ]
  },
  {
   "cell_type": "code",
   "execution_count": 101,
   "id": "023c99c0",
   "metadata": {},
   "outputs": [
    {
     "name": "stdout",
     "output_type": "stream",
     "text": [
      "Nombre de valeurs aberrantes ou atypiques pour chaque échantillon transformé :\n",
      "Echantillon de base méthode IQR : 37\n",
      "Echantillon de base méthode zscore : 18\n",
      "Echantillon passé au logarithme méthode IQR : 2\n",
      "Echantillon passé au logarithme méthode zscore : 2\n",
      "Echantillon passé à la racine méthode IQR : 19\n",
      "Echantillon passé à la racine méthode zscore : 9\n"
     ]
    }
   ],
   "source": [
    "print('Nombre de valeurs aberrantes ou atypiques pour chaque échantillon transformé :')\n",
    "print('Echantillon de base méthode IQR :',var[var>(np.quantile(var, 0.75)+(1.5*(st.iqr(var))))].count())\n",
    "print('Echantillon de base méthode zscore :',var[abs(st.zscore(var))>3].count())\n",
    "print('Echantillon passé au logarithme méthode IQR :',var_log[var_log>(np.quantile(var_log, 0.75)+(1.5*(st.iqr(var_log))))].count())\n",
    "print('Echantillon passé au logarithme méthode zscore :',var_log[abs(st.zscore(var_log))>3].count())\n",
    "print('Echantillon passé à la racine méthode IQR :',var_sqrt[var_sqrt>(np.quantile(var_sqrt, 0.75)+(1.5*(st.iqr(var_sqrt))))].count())\n",
    "print('Echantillon passé à la racine méthode zscore :',var_sqrt[abs(st.zscore(var_sqrt))>3].count())"
   ]
  },
  {
   "cell_type": "markdown",
   "id": "2bab2658",
   "metadata": {},
   "source": [
    "### Histogrammes des prix correspondants"
   ]
  },
  {
   "cell_type": "code",
   "execution_count": 102,
   "id": "ea0d8ae3",
   "metadata": {},
   "outputs": [
    {
     "data": {
      "image/png": "[encoded data removed]",
      "text/plain": [
       "<Figure size 3000x1500 with 9 Axes>"
      ]
     },
     "metadata": {},
     "output_type": "display_data"
    }
   ],
   "source": [
    "plt.figure(figsize=(30,15))\n",
    "\n",
    "for x, i, titre in zip(echantillon, range(len(echantillon)), colonne):\n",
    "    plt.subplot((len(echantillon))//3, (len(echantillon))//3,i+1)\n",
    "    plt.title(titre, size=16)\n",
    "    plt.xlabel(' ')\n",
    "    sns.histplot(x)\n",
    "    \n",
    "plt.show()"
   ]
  },
  {
   "cell_type": "markdown",
   "id": "9db334b6",
   "metadata": {},
   "source": [
    "### Boîtes à moustaches correspondantes sans les valeurs aberrantes"
   ]
  },
  {
   "cell_type": "code",
   "execution_count": 103,
   "id": "22bb0512",
   "metadata": {},
   "outputs": [
    {
     "data": {
      "image/png": "[encoded data removed]",
      "text/plain": [
       "<Figure size 1500x1000 with 3 Axes>"
      ]
     },
     "metadata": {},
     "output_type": "display_data"
    }
   ],
   "source": [
    "plt.figure(figsize=(15,10))\n",
    "\n",
    "plt.subplot(3,1,1)\n",
    "plt.boxplot(echantillon[0:3], showfliers=False)\n",
    "plt.xticks(range(1, 1+len(echantillon)//3), colonne[0:3], size=8)\n",
    "\n",
    "plt.title('Boites à moustaches des prix échantillons de base')\n",
    "\n",
    "plt.subplot(3,1,2)\n",
    "plt.boxplot(echantillon[3:6], showfliers=False)\n",
    "plt.xticks(range(1, 1+len(echantillon)//3), colonne[3:6], size=8)\n",
    "\n",
    "plt.title('Boites à moustaches des prix échantillons passés au logarithme')\n",
    "\n",
    "\n",
    "plt.subplot(3,1,3)\n",
    "plt.boxplot(echantillon[6:9], showfliers=False)\n",
    "plt.xticks(range(1, 1+len(echantillon)//3), colonne[6:9], size=8)\n",
    "\n",
    "plt.title('Boites à moustaches des prix échantillons passés à la racine')\n",
    "    \n",
    "plt.show()"
   ]
  },
  {
   "cell_type": "markdown",
   "id": "8a2d85d3",
   "metadata": {},
   "source": [
    "<a id='fonction'></a>\n",
    "## Création de fonctions pour générer tout cela pour n'importe quelle variable<a href=\"#sommaire\" style=\"font-size : 10px ; padding-left:10px\">Retour Sommaire</a>"
   ]
  },
  {
   "cell_type": "code",
   "execution_count": 104,
   "id": "5d773e88",
   "metadata": {},
   "outputs": [],
   "source": [
    "def stat_var(var): \n",
    "\n",
    "    # variable échantillon de base + méthode IQR + méthode zscore\n",
    "    \n",
    "    var_IQR = var[var<(np.quantile(var, 0.75)+(1.5*(st.iqr(var))))]\n",
    "    var_zscore = var[abs(st.zscore(var))<3]\n",
    "\n",
    "    # transformations au logarithme \n",
    "    var_log = np.log(var)\n",
    "    log_IQR = var_log[var_log<(np.quantile(var_log, 0.75)+(1.5*(st.iqr(var_log))))]\n",
    "    log_zscore = var_log[abs(st.zscore(var_log))<3]\n",
    "\n",
    "    # transformations à la racine\n",
    "    var_sqrt = np.sqrt(var)\n",
    "    sqrt_IQR = var_sqrt[var_sqrt<(np.quantile(var_sqrt, 0.75)+(1.5*(st.iqr(var_sqrt))))]\n",
    "    sqrt_zscore = var_sqrt[abs(st.zscore(var_sqrt))<3]\n",
    "\n",
    "    # mes 9 échantillons\n",
    "    echantillon = [var, var_IQR, var_zscore, var_log, log_IQR, log_zscore, var_sqrt, sqrt_IQR, sqrt_zscore]\n",
    "\n",
    "    # les colonnes du dataframe correspondant aux 9 échantillons\n",
    "    colonne = ['echantillon_base', 'echantillon_base_IQR', 'echantillon_base_zscore', \n",
    "               'echantillon_base_log', 'log_IQR', 'log_zscore',\n",
    "               'echantillon_base_sqrt', 'sqrt_IQR', 'sqrt_zscore']\n",
    "\n",
    "    # les indicateurs qu'on va calculer pour chaque échantillon\n",
    "    indicateur = ['moyenne', 'moyenne_min', 'moyenne_max', 'test_moyenne_10_pourcents','mediane', 'mode', 'moyenne_tronquee', \n",
    "                  'ecart_type', 'CV', 'IQR', 'outlier_max_iqr', 'outlier_min_iqr', 'nb_outlier_iqr', 'outlier_max_zscore',\n",
    "                  'outlier_min_zscore', 'nb_outlier_zscore', 'skewness', 'skewness_pvalue', 'kurtosis', 'kurtosis_pvalue',\n",
    "                  'ks_pvalue', 'shapiro_pvalue']\n",
    "    \n",
    "    \n",
    "    # création du dataframe\n",
    "\n",
    "    liste = []\n",
    "\n",
    "    for x in echantillon :\n",
    "        moyenne = round(x.mean(),4)\n",
    "        moyenne_min = round(x.mean()*0.9,4)\n",
    "        moyenne_max = round(x.mean()*1.1,4)\n",
    "        mediane = round(x.median(),4)\n",
    "        mode = round(x.mode()[0],4)\n",
    "        moyenne_tronquee = round(st.trim_mean(x, 0.05),4)\n",
    "        if (moyenne_min<mediane<moyenne_max) & (moyenne_min<moyenne_tronquee<moyenne_max) : test_moyenne_10_pourcents = True\n",
    "        else : test_moyenne_10_pourcents = False\n",
    "        ecart_type = round(x.std(),4)\n",
    "        CV = round(x.std()/x.mean(),4)\n",
    "        IQR = round(np.quantile(x, 0.75) - (np.quantile(x, 0.25)),4)\n",
    "        outlier_max_iqr = np.quantile(x, 0.75) + 1.5*IQR\n",
    "        outlier_min_iqr = max(np.quantile(x, 0.25) - 1.5*IQR,0)\n",
    "        nb_outlier_iqr = x[(x>outlier_max_iqr)|(x<outlier_min_iqr)].count()\n",
    "        outlier_max_zscore = x[abs(st.zscore(x))<3].max()\n",
    "        outlier_min_zscore = max(np.mean(x)-3*np.std(x),0)\n",
    "        nb_outlier_zscore = x[abs(st.zscore(x))>3].count()\n",
    "        skewness = round(x.skew(),4)\n",
    "        skewness_pvalue = round(st.skewtest(x)[1],4)\n",
    "        kurtosis = round(x.kurtosis(),4)\n",
    "        kurtosis_pvalue = round(st.kurtosistest(x)[1],4)\n",
    "        ks_pvalue = round(st.kstest(x, 'norm')[1],4)\n",
    "        shapiro_pvalue = round(st.shapiro(x)[1],4)\n",
    "        liste1 = [moyenne, moyenne_min, moyenne_max, test_moyenne_10_pourcents, mediane, mode, moyenne_tronquee, \n",
    "                  ecart_type, CV, IQR, outlier_max_iqr, outlier_min_iqr, nb_outlier_iqr, outlier_max_zscore,\n",
    "                  outlier_min_zscore, nb_outlier_zscore, skewness, skewness_pvalue, \n",
    "                  kurtosis, kurtosis_pvalue, ks_pvalue, shapiro_pvalue]\n",
    "        liste.append(liste1) \n",
    "\n",
    "    dictionnaire = {colonne : liste for colonne, liste in zip(colonne, liste)}\n",
    "    df = pd.DataFrame(dictionnaire, index=indicateur)\n",
    "\n",
    "    df\n",
    "    \n",
    "    return df"
   ]
  },
  {
   "cell_type": "code",
   "execution_count": 110,
   "id": "03a4f729",
   "metadata": {
    "scrolled": true
   },
   "outputs": [
    {
     "data": {
      "text/html": [
       "<div>\n",
       "<style scoped>\n",
       "    .dataframe tbody tr th:only-of-type {\n",
       "        vertical-align: middle;\n",
       "    }\n",
       "\n",
       "    .dataframe tbody tr th {\n",
       "        vertical-align: top;\n",
       "    }\n",
       "\n",
       "    .dataframe thead th {\n",
       "        text-align: right;\n",
       "    }\n",
       "</style>\n",
       "<table border=\"1\" class=\"dataframe\">\n",
       "  <thead>\n",
       "    <tr style=\"text-align: right;\">\n",
       "      <th></th>\n",
       "      <th>echantillon_base</th>\n",
       "      <th>echantillon_base_IQR</th>\n",
       "      <th>echantillon_base_zscore</th>\n",
       "      <th>echantillon_base_log</th>\n",
       "      <th>log_IQR</th>\n",
       "      <th>log_zscore</th>\n",
       "      <th>echantillon_base_sqrt</th>\n",
       "      <th>sqrt_IQR</th>\n",
       "      <th>sqrt_zscore</th>\n",
       "    </tr>\n",
       "  </thead>\n",
       "  <tbody>\n",
       "    <tr>\n",
       "      <th>moyenne</th>\n",
       "      <td>32.4156</td>\n",
       "      <td>28.2565</td>\n",
       "      <td>29.8753</td>\n",
       "      <td>3.2231</td>\n",
       "      <td>3.2178</td>\n",
       "      <td>3.2178</td>\n",
       "      <td>5.3356</td>\n",
       "      <td>5.1799</td>\n",
       "      <td>5.2499</td>\n",
       "    </tr>\n",
       "    <tr>\n",
       "      <th>moyenne_min</th>\n",
       "      <td>29.1741</td>\n",
       "      <td>25.4308</td>\n",
       "      <td>26.8878</td>\n",
       "      <td>2.9008</td>\n",
       "      <td>2.896</td>\n",
       "      <td>2.896</td>\n",
       "      <td>4.802</td>\n",
       "      <td>4.6619</td>\n",
       "      <td>4.7249</td>\n",
       "    </tr>\n",
       "    <tr>\n",
       "      <th>moyenne_max</th>\n",
       "      <td>35.6572</td>\n",
       "      <td>31.0821</td>\n",
       "      <td>32.8629</td>\n",
       "      <td>3.5454</td>\n",
       "      <td>3.5396</td>\n",
       "      <td>3.5396</td>\n",
       "      <td>5.8692</td>\n",
       "      <td>5.6979</td>\n",
       "      <td>5.7749</td>\n",
       "    </tr>\n",
       "    <tr>\n",
       "      <th>test_moyenne_10_pourcents</th>\n",
       "      <td>False</td>\n",
       "      <td>False</td>\n",
       "      <td>False</td>\n",
       "      <td>True</td>\n",
       "      <td>True</td>\n",
       "      <td>True</td>\n",
       "      <td>True</td>\n",
       "      <td>True</td>\n",
       "      <td>True</td>\n",
       "    </tr>\n",
       "    <tr>\n",
       "      <th>mediane</th>\n",
       "      <td>24.4</td>\n",
       "      <td>23.4</td>\n",
       "      <td>24.0</td>\n",
       "      <td>3.1946</td>\n",
       "      <td>3.1905</td>\n",
       "      <td>3.1905</td>\n",
       "      <td>4.9396</td>\n",
       "      <td>4.899</td>\n",
       "      <td>4.9092</td>\n",
       "    </tr>\n",
       "    <tr>\n",
       "      <th>mode</th>\n",
       "      <td>45.0</td>\n",
       "      <td>45.0</td>\n",
       "      <td>45.0</td>\n",
       "      <td>3.8067</td>\n",
       "      <td>3.8067</td>\n",
       "      <td>3.8067</td>\n",
       "      <td>6.7082</td>\n",
       "      <td>6.7082</td>\n",
       "      <td>6.7082</td>\n",
       "    </tr>\n",
       "    <tr>\n",
       "      <th>moyenne_tronquee</th>\n",
       "      <td>29.1416</td>\n",
       "      <td>26.9785</td>\n",
       "      <td>28.0186</td>\n",
       "      <td>3.2104</td>\n",
       "      <td>3.2073</td>\n",
       "      <td>3.2073</td>\n",
       "      <td>5.1866</td>\n",
       "      <td>5.0964</td>\n",
       "      <td>5.1439</td>\n",
       "    </tr>\n",
       "    <tr>\n",
       "      <th>ecart_type</th>\n",
       "      <td>26.7958</td>\n",
       "      <td>17.5236</td>\n",
       "      <td>20.2654</td>\n",
       "      <td>0.701</td>\n",
       "      <td>0.6935</td>\n",
       "      <td>0.6935</td>\n",
       "      <td>1.9879</td>\n",
       "      <td>1.7164</td>\n",
       "      <td>1.8183</td>\n",
       "    </tr>\n",
       "    <tr>\n",
       "      <th>CV</th>\n",
       "      <td>0.8266</td>\n",
       "      <td>0.6202</td>\n",
       "      <td>0.6783</td>\n",
       "      <td>0.2175</td>\n",
       "      <td>0.2155</td>\n",
       "      <td>0.2155</td>\n",
       "      <td>0.3726</td>\n",
       "      <td>0.3313</td>\n",
       "      <td>0.3464</td>\n",
       "    </tr>\n",
       "    <tr>\n",
       "      <th>IQR</th>\n",
       "      <td>27.4</td>\n",
       "      <td>24.725</td>\n",
       "      <td>25.8</td>\n",
       "      <td>1.0566</td>\n",
       "      <td>1.0577</td>\n",
       "      <td>1.0577</td>\n",
       "      <td>2.6597</td>\n",
       "      <td>2.5417</td>\n",
       "      <td>2.5991</td>\n",
       "    </tr>\n",
       "    <tr>\n",
       "      <th>outlier_max_iqr</th>\n",
       "      <td>83.1</td>\n",
       "      <td>76.0875</td>\n",
       "      <td>78.9</td>\n",
       "      <td>5.32257</td>\n",
       "      <td>5.321833</td>\n",
       "      <td>5.321833</td>\n",
       "      <td>10.470291</td>\n",
       "      <td>10.148949</td>\n",
       "      <td>10.305674</td>\n",
       "    </tr>\n",
       "    <tr>\n",
       "      <th>outlier_min_iqr</th>\n",
       "      <td>0</td>\n",
       "      <td>0</td>\n",
       "      <td>0</td>\n",
       "      <td>1.096122</td>\n",
       "      <td>1.091035</td>\n",
       "      <td>1.091035</td>\n",
       "      <td>0</td>\n",
       "      <td>0</td>\n",
       "      <td>0</td>\n",
       "    </tr>\n",
       "    <tr>\n",
       "      <th>nb_outlier_iqr</th>\n",
       "      <td>37</td>\n",
       "      <td>14</td>\n",
       "      <td>24</td>\n",
       "      <td>2</td>\n",
       "      <td>0</td>\n",
       "      <td>0</td>\n",
       "      <td>19</td>\n",
       "      <td>6</td>\n",
       "      <td>12</td>\n",
       "    </tr>\n",
       "    <tr>\n",
       "      <th>outlier_max_zscore</th>\n",
       "      <td>112.0</td>\n",
       "      <td>80.0</td>\n",
       "      <td>88.4</td>\n",
       "      <td>5.253843</td>\n",
       "      <td>5.253843</td>\n",
       "      <td>5.253843</td>\n",
       "      <td>11.247222</td>\n",
       "      <td>10.276186</td>\n",
       "      <td>10.677078</td>\n",
       "    </tr>\n",
       "    <tr>\n",
       "      <th>outlier_min_zscore</th>\n",
       "      <td>0</td>\n",
       "      <td>0</td>\n",
       "      <td>0</td>\n",
       "      <td>1.121505</td>\n",
       "      <td>1.138483</td>\n",
       "      <td>1.138483</td>\n",
       "      <td>0</td>\n",
       "      <td>0.034023</td>\n",
       "      <td>0</td>\n",
       "    </tr>\n",
       "    <tr>\n",
       "      <th>nb_outlier_zscore</th>\n",
       "      <td>18</td>\n",
       "      <td>1</td>\n",
       "      <td>13</td>\n",
       "      <td>2</td>\n",
       "      <td>0</td>\n",
       "      <td>0</td>\n",
       "      <td>9</td>\n",
       "      <td>2</td>\n",
       "      <td>8</td>\n",
       "    </tr>\n",
       "    <tr>\n",
       "      <th>skewness</th>\n",
       "      <td>2.6228</td>\n",
       "      <td>0.9996</td>\n",
       "      <td>1.3635</td>\n",
       "      <td>0.2448</td>\n",
       "      <td>0.2009</td>\n",
       "      <td>0.2009</td>\n",
       "      <td>1.2184</td>\n",
       "      <td>0.674</td>\n",
       "      <td>0.8277</td>\n",
       "    </tr>\n",
       "    <tr>\n",
       "      <th>skewness_pvalue</th>\n",
       "      <td>0.0</td>\n",
       "      <td>0.0</td>\n",
       "      <td>0.0</td>\n",
       "      <td>0.0044</td>\n",
       "      <td>0.0189</td>\n",
       "      <td>0.0189</td>\n",
       "      <td>0.0</td>\n",
       "      <td>0.0</td>\n",
       "      <td>0.0</td>\n",
       "    </tr>\n",
       "    <tr>\n",
       "      <th>kurtosis</th>\n",
       "      <td>10.6154</td>\n",
       "      <td>0.2854</td>\n",
       "      <td>1.8032</td>\n",
       "      <td>-0.3414</td>\n",
       "      <td>-0.4503</td>\n",
       "      <td>-0.4503</td>\n",
       "      <td>2.1391</td>\n",
       "      <td>-0.123</td>\n",
       "      <td>0.3337</td>\n",
       "    </tr>\n",
       "    <tr>\n",
       "      <th>kurtosis_pvalue</th>\n",
       "      <td>0.0</td>\n",
       "      <td>0.1227</td>\n",
       "      <td>0.0</td>\n",
       "      <td>0.0181</td>\n",
       "      <td>0.0007</td>\n",
       "      <td>0.0007</td>\n",
       "      <td>0.0</td>\n",
       "      <td>0.4928</td>\n",
       "      <td>0.0742</td>\n",
       "    </tr>\n",
       "    <tr>\n",
       "      <th>ks_pvalue</th>\n",
       "      <td>0.0</td>\n",
       "      <td>0.0</td>\n",
       "      <td>0.0</td>\n",
       "      <td>0.0</td>\n",
       "      <td>0.0</td>\n",
       "      <td>0.0</td>\n",
       "      <td>0.0</td>\n",
       "      <td>0.0</td>\n",
       "      <td>0.0</td>\n",
       "    </tr>\n",
       "    <tr>\n",
       "      <th>shapiro_pvalue</th>\n",
       "      <td>0.0</td>\n",
       "      <td>0.0</td>\n",
       "      <td>0.0</td>\n",
       "      <td>0.0001</td>\n",
       "      <td>0.0002</td>\n",
       "      <td>0.0002</td>\n",
       "      <td>0.0</td>\n",
       "      <td>0.0</td>\n",
       "      <td>0.0</td>\n",
       "    </tr>\n",
       "  </tbody>\n",
       "</table>\n",
       "</div>"
      ],
      "text/plain": [
       "                          echantillon_base echantillon_base_IQR  \\\n",
       "moyenne                            32.4156              28.2565   \n",
       "moyenne_min                        29.1741              25.4308   \n",
       "moyenne_max                        35.6572              31.0821   \n",
       "test_moyenne_10_pourcents            False                False   \n",
       "mediane                               24.4                 23.4   \n",
       "mode                                  45.0                 45.0   \n",
       "moyenne_tronquee                   29.1416              26.9785   \n",
       "ecart_type                         26.7958              17.5236   \n",
       "CV                                  0.8266               0.6202   \n",
       "IQR                                   27.4               24.725   \n",
       "outlier_max_iqr                       83.1              76.0875   \n",
       "outlier_min_iqr                          0                    0   \n",
       "nb_outlier_iqr                          37                   14   \n",
       "outlier_max_zscore                   112.0                 80.0   \n",
       "outlier_min_zscore                       0                    0   \n",
       "nb_outlier_zscore                       18                    1   \n",
       "skewness                            2.6228               0.9996   \n",
       "skewness_pvalue                        0.0                  0.0   \n",
       "kurtosis                           10.6154               0.2854   \n",
       "kurtosis_pvalue                        0.0               0.1227   \n",
       "ks_pvalue                              0.0                  0.0   \n",
       "shapiro_pvalue                         0.0                  0.0   \n",
       "\n",
       "                          echantillon_base_zscore echantillon_base_log  \\\n",
       "moyenne                                   29.8753               3.2231   \n",
       "moyenne_min                               26.8878               2.9008   \n",
       "moyenne_max                               32.8629               3.5454   \n",
       "test_moyenne_10_pourcents                   False                 True   \n",
       "mediane                                      24.0               3.1946   \n",
       "mode                                         45.0               3.8067   \n",
       "moyenne_tronquee                          28.0186               3.2104   \n",
       "ecart_type                                20.2654                0.701   \n",
       "CV                                         0.6783               0.2175   \n",
       "IQR                                          25.8               1.0566   \n",
       "outlier_max_iqr                              78.9              5.32257   \n",
       "outlier_min_iqr                                 0             1.096122   \n",
       "nb_outlier_iqr                                 24                    2   \n",
       "outlier_max_zscore                           88.4             5.253843   \n",
       "outlier_min_zscore                              0             1.121505   \n",
       "nb_outlier_zscore                              13                    2   \n",
       "skewness                                   1.3635               0.2448   \n",
       "skewness_pvalue                               0.0               0.0044   \n",
       "kurtosis                                   1.8032              -0.3414   \n",
       "kurtosis_pvalue                               0.0               0.0181   \n",
       "ks_pvalue                                     0.0                  0.0   \n",
       "shapiro_pvalue                                0.0               0.0001   \n",
       "\n",
       "                            log_IQR log_zscore echantillon_base_sqrt  \\\n",
       "moyenne                      3.2178     3.2178                5.3356   \n",
       "moyenne_min                   2.896      2.896                 4.802   \n",
       "moyenne_max                  3.5396     3.5396                5.8692   \n",
       "test_moyenne_10_pourcents      True       True                  True   \n",
       "mediane                      3.1905     3.1905                4.9396   \n",
       "mode                         3.8067     3.8067                6.7082   \n",
       "moyenne_tronquee             3.2073     3.2073                5.1866   \n",
       "ecart_type                   0.6935     0.6935                1.9879   \n",
       "CV                           0.2155     0.2155                0.3726   \n",
       "IQR                          1.0577     1.0577                2.6597   \n",
       "outlier_max_iqr            5.321833   5.321833             10.470291   \n",
       "outlier_min_iqr            1.091035   1.091035                     0   \n",
       "nb_outlier_iqr                    0          0                    19   \n",
       "outlier_max_zscore         5.253843   5.253843             11.247222   \n",
       "outlier_min_zscore         1.138483   1.138483                     0   \n",
       "nb_outlier_zscore                 0          0                     9   \n",
       "skewness                     0.2009     0.2009                1.2184   \n",
       "skewness_pvalue              0.0189     0.0189                   0.0   \n",
       "kurtosis                    -0.4503    -0.4503                2.1391   \n",
       "kurtosis_pvalue              0.0007     0.0007                   0.0   \n",
       "ks_pvalue                       0.0        0.0                   0.0   \n",
       "shapiro_pvalue               0.0002     0.0002                   0.0   \n",
       "\n",
       "                            sqrt_IQR sqrt_zscore  \n",
       "moyenne                       5.1799      5.2499  \n",
       "moyenne_min                   4.6619      4.7249  \n",
       "moyenne_max                   5.6979      5.7749  \n",
       "test_moyenne_10_pourcents       True        True  \n",
       "mediane                        4.899      4.9092  \n",
       "mode                          6.7082      6.7082  \n",
       "moyenne_tronquee              5.0964      5.1439  \n",
       "ecart_type                    1.7164      1.8183  \n",
       "CV                            0.3313      0.3464  \n",
       "IQR                           2.5417      2.5991  \n",
       "outlier_max_iqr            10.148949   10.305674  \n",
       "outlier_min_iqr                    0           0  \n",
       "nb_outlier_iqr                     6          12  \n",
       "outlier_max_zscore         10.276186   10.677078  \n",
       "outlier_min_zscore          0.034023           0  \n",
       "nb_outlier_zscore                  2           8  \n",
       "skewness                       0.674      0.8277  \n",
       "skewness_pvalue                  0.0         0.0  \n",
       "kurtosis                      -0.123      0.3337  \n",
       "kurtosis_pvalue               0.4928      0.0742  \n",
       "ks_pvalue                        0.0         0.0  \n",
       "shapiro_pvalue                   0.0         0.0  "
      ]
     },
     "execution_count": 110,
     "metadata": {},
     "output_type": "execute_result"
    }
   ],
   "source": [
    "stat_var(erp['prix'])"
   ]
  },
  {
   "cell_type": "code",
   "execution_count": 111,
   "id": "54be5070",
   "metadata": {},
   "outputs": [],
   "source": [
    "def hist_var(var) : \n",
    "\n",
    "    # variable échantillon de base + méthode IQR + méthode zscore\n",
    "    \n",
    "    var_IQR = var[var<(np.quantile(var, 0.75)+(1.5*(st.iqr(var))))]\n",
    "    var_zscore = var[abs(st.zscore(var))<3]\n",
    "\n",
    "    # transformations au logarithme \n",
    "    var_log = np.log(var)\n",
    "    log_IQR = var_log[var_log<(np.quantile(var_log, 0.75)+(1.5*(st.iqr(var_log))))]\n",
    "    log_zscore = var_log[abs(st.zscore(var_log))<3]\n",
    "\n",
    "    # transformations à la racine\n",
    "    var_sqrt = np.sqrt(var)\n",
    "    sqrt_IQR = var_sqrt[var_sqrt<(np.quantile(var_sqrt, 0.75)+(1.5*(st.iqr(var_sqrt))))]\n",
    "    sqrt_zscore = var_sqrt[abs(st.zscore(var_sqrt))<3]\n",
    "\n",
    "    # mes 9 échantillons\n",
    "    echantillon = [var, var_IQR, var_zscore, var_log, log_IQR, log_zscore, var_sqrt, sqrt_IQR, sqrt_zscore]\n",
    "\n",
    "    # les colonnes du dataframe correspondant aux 9 échantillons\n",
    "    colonne = ['echantillon_base', 'echantillon_base_IQR', 'echantillon_base_zscore', \n",
    "               'echantillon_base_log', 'log_IQR', 'log_zscore',\n",
    "               'echantillon_base_sqrt', 'sqrt_IQR', 'sqrt_zscore']\n",
    "\n",
    "    # les indicateurs qu'on va calculer pour chaque échantillon\n",
    "    indicateur = ['moyenne', 'moyenne_min', 'moyenne_max', 'test_moyenne_10_pourcents','mediane', 'mode', 'moyenne_tronquee', \n",
    "                  'ecart_type', 'CV', 'IQR', 'outlier_max_iqr', 'outlier_min_iqr', 'nb_outlier_iqr', 'outlier_max_zscore',\n",
    "                  'outlier_min_zscore', 'nb_outlier_zscore', 'skewness', 'skewness_pvalue', 'kurtosis', 'kurtosis_pvalue',\n",
    "                  'ks_pvalue', 'shapiro_pvalue']\n",
    "    \n",
    "    plt.figure(figsize=(30,15))\n",
    "\n",
    "    for x, i, titre in zip(echantillon, range(len(echantillon)), colonne):\n",
    "        plt.subplot((len(echantillon))//3, (len(echantillon))//3,i+1)\n",
    "        plt.title(titre, size=16)\n",
    "        plt.xlabel(' ')\n",
    "        sns.histplot(x)\n",
    "    \n",
    "    \n",
    "    return(plt.show())"
   ]
  },
  {
   "cell_type": "code",
   "execution_count": 112,
   "id": "22a2abe4",
   "metadata": {},
   "outputs": [
    {
     "data": {
      "image/png": "[encoded data removed]",
      "text/plain": [
       "<Figure size 3000x1500 with 9 Axes>"
      ]
     },
     "metadata": {},
     "output_type": "display_data"
    }
   ],
   "source": [
    "hist_var(erp['prix'])"
   ]
  },
  {
   "cell_type": "code",
   "execution_count": 113,
   "id": "54d7be40",
   "metadata": {},
   "outputs": [],
   "source": [
    "def boxplot_var(var):\n",
    "    \n",
    "    # variable échantillon de base + méthode IQR + méthode zscore\n",
    "    \n",
    "    var_IQR = var[var<(np.quantile(var, 0.75)+(1.5*(st.iqr(var))))]\n",
    "    var_zscore = var[abs(st.zscore(var))<3]\n",
    "\n",
    "    # transformations au logarithme \n",
    "    var_log = np.log(var)\n",
    "    log_IQR = var_log[var_log<(np.quantile(var_log, 0.75)+(1.5*(st.iqr(var_log))))]\n",
    "    log_zscore = var_log[abs(st.zscore(var_log))<3]\n",
    "\n",
    "    # transformations à la racine\n",
    "    var_sqrt = np.sqrt(var)\n",
    "    sqrt_IQR = var_sqrt[var_sqrt<(np.quantile(var_sqrt, 0.75)+(1.5*(st.iqr(var_sqrt))))]\n",
    "    sqrt_zscore = var_sqrt[abs(st.zscore(var_sqrt))<3]\n",
    "\n",
    "    # mes 9 échantillons\n",
    "    echantillon = [var, var_IQR, var_zscore, var_log, log_IQR, log_zscore, var_sqrt, sqrt_IQR, sqrt_zscore]\n",
    "\n",
    "    # les colonnes du dataframe correspondant aux 9 échantillons\n",
    "    colonne = ['echantillon_base', 'echantillon_base_IQR', 'echantillon_base_zscore', \n",
    "               'echantillon_base_log', 'log_IQR', 'log_zscore',\n",
    "               'echantillon_base_sqrt', 'sqrt_IQR', 'sqrt_zscore']\n",
    "\n",
    "    # les indicateurs qu'on va calculer pour chaque échantillon\n",
    "    indicateur = ['moyenne', 'moyenne_min', 'moyenne_max', 'test_moyenne_10_pourcents','mediane', 'mode', 'moyenne_tronquee', \n",
    "                  'ecart_type', 'CV', 'IQR', 'outlier_max_iqr', 'outlier_min_iqr', 'nb_outlier_iqr', 'outlier_max_zscore',\n",
    "                  'outlier_min_zscore', 'nb_outlier_zscore', 'skewness', 'skewness_pvalue', 'kurtosis', 'kurtosis_pvalue',\n",
    "                  'ks_pvalue', 'shapiro_pvalue']\n",
    "    \n",
    "    \n",
    "    plt.figure(figsize=(15,10))\n",
    "\n",
    "    plt.subplot(3,1,1)\n",
    "    plt.boxplot(echantillon[0:3], showfliers=False)\n",
    "    plt.xticks(range(1, 1+len(echantillon)//3), colonne[0:3], size=8)\n",
    "\n",
    "    plt.title('Boites à moustaches des prix échantillons de base')\n",
    "\n",
    "    plt.subplot(3,1,2)\n",
    "    plt.boxplot(echantillon[3:6], showfliers=False)\n",
    "    plt.xticks(range(1, 1+len(echantillon)//3), colonne[3:6], size=8)\n",
    "\n",
    "    plt.title('Boites à moustaches des prix échantillons passés au logarithme')\n",
    "\n",
    "\n",
    "    plt.subplot(3,1,3)\n",
    "    plt.boxplot(echantillon[6:9], showfliers=False)\n",
    "    plt.xticks(range(1, 1+len(echantillon)//3), colonne[6:9], size=8)\n",
    "\n",
    "    plt.title('Boites à moustaches des prix échantillons passés à la racine')\n",
    "    \n",
    "\n",
    "\n",
    "    return(plt.show())"
   ]
  },
  {
   "cell_type": "code",
   "execution_count": 114,
   "id": "09ef2699",
   "metadata": {},
   "outputs": [
    {
     "data": {
      "image/png": "[encoded data removed]",
      "text/plain": [
       "<Figure size 1500x1000 with 3 Axes>"
      ]
     },
     "metadata": {},
     "output_type": "display_data"
    }
   ],
   "source": [
    "boxplot_var(erp['prix'])"
   ]
  },
  {
   "cell_type": "markdown",
   "id": "5e85d039",
   "metadata": {},
   "source": [
    "<a id='conclusion'></a>\n",
    "## Bilan analyse univariée et conclusion<a href=\"#sommaire\" style=\"font-size : 10px ; padding-left:10px\">Retour Sommaire</a>"
   ]
  },
  {
   "cell_type": "markdown",
   "id": "5de17c0c",
   "metadata": {},
   "source": [
    "L'analyse univariée consiste à faire une analyse sur une variable à la fois, à calculer différents indicateurs pour évaluer la qualité de l'échantillon de cette variable.\n",
    "\n",
    "La qualité de cet échantillon pourra directement influer sur la qualité de l'analyse qu'on fera ensuite.\n",
    "\n",
    "Voici les étapes principales de l'analyse univariée :\n",
    "\n",
    "- Les tests de représentativité : calcul de la moyenne, de la moyenne tronquée, de la médiane, du coefficient de variation (<30%) et du test des 10% (médiane et moyenne tronquée comprise +/-10% de la moyenne).\n",
    "\n",
    "- Les tests sur la forme de notre échantillon (skewness et kurtosis), on préferera une forme qui suit une loi normale.\n",
    "\n",
    "- Les tests de normalités : Kolmogorov-Smirnov et Shapiro-Wilk, si l'échantillon passe tous ces tests, on considére qu'il est de très bonne qualité et on peut procéder à des tests paramétriques.\n",
    "\n",
    "Si l'échantillon ne passe pas ces tests, on peut procéder à des transformations (logarithme, racine...) et refaire les tests. Cependant, ces transformations sont pertinentes pour des modèles de prévision mais sont plus compliqués pour des modèles d'explication (ex: nos prix au logarithme sont plus dures à analyser)."
   ]
  },
  {
   "cell_type": "markdown",
   "id": "b79e5de1",
   "metadata": {},
   "source": [
    "Pour synthétiser simplement, voici les indicateurs les plus importants concernant notre échantillon des prix de nos bouteilles de vin :\n",
    "- La moyenne : 32.42\n",
    "- La médiane : 24.4\n",
    "- La moyenne tronquée (5%) : 29.14\n",
    "- Le test des 10% n'est pas passé (médiane et moyenne tronquée comprise +/-10% de la moyenne)\n",
    "- Le coefficient de variation est de 83%, cela signifie que l'échantillon est très dispersé (>>30%)\n",
    "- L'échantillon ne suit pas une loi normal (skewness, kurtosis, Kolmogorov-Smirnov, Shapiro-Wilk)\n",
    "- 37 valeurs atypiques avec la méthode de l'IQR avec comme valeur max 83€\n",
    "- 18 valeurs considérés atypiques avec la méthode du zscore avec comme valeur max 112€"
   ]
  }
 ],
 "metadata": {
  "kernelspec": {
   "display_name": "Python 3 (ipykernel)",
   "language": "python",
   "name": "python3"
  },
  "language_info": {
   "codemirror_mode": {
    "name": "ipython",
    "version": 3
   },
   "file_extension": ".py",
   "mimetype": "text/x-python",
   "name": "python",
   "nbconvert_exporter": "python",
   "pygments_lexer": "ipython3",
   "version": "3.9.13"
  }
 },
 "nbformat": 4,
 "nbformat_minor": 5
}
